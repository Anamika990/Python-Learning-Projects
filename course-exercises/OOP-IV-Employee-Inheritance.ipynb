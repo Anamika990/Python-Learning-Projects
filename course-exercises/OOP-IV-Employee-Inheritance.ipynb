{
 "cells": [
  {
   "cell_type": "markdown",
   "metadata": {
    "collapsed": true
   },
   "source": [
    "## Inheritance\n",
    "__In this notebook we introduce the concept of inheritance - a very important principle in object oriented programming.   \n",
    "Inheritance helps to build a new class using an existing class thereby promoting reuse and enabling polymorphism.\n",
    "Using inheritance, a new class (called the child class or the sub class) can be created by extending an old class\n",
    "(called the base class, the parent class or the super class).  The child class is a specialization of the base class \n",
    "and the base class is a generalization of the child class.  The is-a relationship is used to depict the association\n",
    "between a base class and a child class. In other words, we say that a child class object 'is' (also) a base class object.\n",
    "The child class implicitly inherits all the attributes and methods of the base class and in addition can \n",
    "have its own attributes and methods.__\n",
    "\n",
    "__<font color = blue>In Python, all classes (except the class `object` ) inherit from the `object` class </font>__"
   ]
  },
  {
   "cell_type": "markdown",
   "metadata": {},
   "source": [
    "__We will study inheritance via a simple example.  We will begin by defining the parent class - Employee.  \n",
    "The Employee class has just two instance variables; first name and last name.  It has the appropriate accessor and \n",
    "mutator methods in addition to the <font color = 'blue'>\\_\\_init\\_\\_</font> and the <font color = 'blue'>\\_\\_str\\_\\_</font> methods.__"
   ]
  },
  {
   "cell_type": "code",
   "execution_count": null,
   "metadata": {},
   "outputs": [],
   "source": [
    "'''\n",
    "Defines a blueprint of an Employee\n",
    "'''\n",
    "class Employee():\n",
    "\n",
    "    def __init__(self, fn, ln):\n",
    "        self.__first_name = fn\n",
    "        self.__last_name = ln\n",
    "\n",
    "    def get_first_name(self):\n",
    "        return self.__first_name\n",
    "\n",
    "    def get_last_name(self):\n",
    "        return self.__last_name\n",
    "\n",
    "    def set_first_name(self, fn):\n",
    "        self.__first_name = fn\n",
    "    \n",
    "    def set_last_name(self, ln):\n",
    "        self.__last_name = ln\n",
    "\n",
    "    def __str__(self):\n",
    "        return \"The employee's name is {} {}\".format(self.__first_name, self.__last_name)"
   ]
  },
  {
   "cell_type": "markdown",
   "metadata": {
    "collapsed": true
   },
   "source": [
    "__We will next define a child class that has the Employee class as a parent - Full\\_Time\\_Employee.  Note that a \n",
    "Full\\_Time\\_Employee is also an Employee and hence has all the methods and attributes of the Employee class.  We therefore\n",
    "need not define them again.__\n",
    "\n",
    "__The Full\\_Time\\_Employee has two instance variables in addition to first name and last name - salary and job title. We \n",
    "will define the accessor and mutator methods for the additional attributes and the <font color = 'blue'>\\_\\_init\\_\\_</font> and <font color = 'blue'>\\_\\_str\\_\\_</font> methods.__\n"
   ]
  },
  {
   "cell_type": "markdown",
   "metadata": {},
   "source": [
    "__We will begin with the class statement for the Full\\_Time\\_Employee class.  To indicate that one class is the child of \n",
    "another class, we use the syntax shown below.__"
   ]
  },
  {
   "cell_type": "code",
   "execution_count": null,
   "metadata": {},
   "outputs": [],
   "source": [
    "'''\n",
    "Defines a blueprint of a full-time employee\n",
    "'''\n",
    "class Full_Time_Employee(Employee):\n",
    "    pass"
   ]
  },
  {
   "cell_type": "markdown",
   "metadata": {},
   "source": [
    "__We will next write the <font color = 'blue'>\\_\\_init\\_\\_</font> method.  Since the child class has all the attributes of the parent class, we need to\n",
    "initialize those attributes as well as the additional attribute of the child.  To initialize the parent class attributes,\n",
    "we reuse the <font color = 'blue'>\\_\\_init\\_\\_</font> method for the parent class.  This is done by calling the parent class's <font color = 'blue'>\\_\\_init\\_\\_</font> method using the following syntax.__\n",
    "\n",
    "<font color = 'blue'>super().\\_\\_init\\_\\_(param1, param2.....) </font>  -- where  param1, param2 etc. are the parameters that need to be passed to the parent class's <font color = 'blue'>\\_\\_init\\_\\_ </font> method.\n",
    "\n",
    "__After initializing the parent class attributes, we can initialize the child class as usual.__"
   ]
  },
  {
   "cell_type": "code",
   "execution_count": null,
   "metadata": {},
   "outputs": [],
   "source": [
    "'''\n",
    "Defines a blueprint of a full-time employee\n",
    "'''\n",
    "class Full_Time_Employee(Employee):\n",
    "    def __init__(self, fn, ln, jt, sal):\n",
    "        super().__init__(fn, ln) #initializing the instance variables of the base class\n",
    "        self.__salary = sal\n",
    "        self.__job_title = jt\n",
    "        "
   ]
  },
  {
   "cell_type": "markdown",
   "metadata": {},
   "source": [
    "__We next create the accessor and mutator methods for the additional attributes of the child class.  Note that the \n",
    "accessor and mutator methods for the parent attributes are already defined in the parent class.__"
   ]
  },
  {
   "cell_type": "code",
   "execution_count": null,
   "metadata": {},
   "outputs": [],
   "source": [
    "'''\n",
    "Defines a blueprint of a full-time employee\n",
    "'''\n",
    "class Full_Time_Employee(Employee):\n",
    "    def __init__(self, fn, ln, jt, sal):\n",
    "        super().__init__(fn, ln)\n",
    "        self.__salary = sal\n",
    "        self.__job_title = jt\n",
    "        \n",
    "    def get_title(self):\n",
    "        return self.__job_title\n",
    "    \n",
    "    def get_salary(self):\n",
    "        return self.__salary\n",
    "    \n",
    "    def set_title(self, jt):\n",
    "        self.__job_title = jb\n",
    "        \n",
    "    def set_salary(self, sal):\n",
    "        self.__salary = sal\n",
    "        "
   ]
  },
  {
   "cell_type": "markdown",
   "metadata": {},
   "source": [
    "__Finally, we will write the <font color = 'blue'>\\_\\_str\\_\\_</font> method for the child class. We do this by first calling the parent class's <font color = 'blue'>\\_\\_str\\_\\_</font> method and  then adding to it.__"
   ]
  },
  {
   "cell_type": "code",
   "execution_count": null,
   "metadata": {},
   "outputs": [],
   "source": [
    "'''\n",
    "Defines a blueprint of a full-time employee\n",
    "'''\n",
    "class Full_Time_Employee(Employee):\n",
    "    def __init__(self, fn, ln, jt, sal):\n",
    "        super().__init__(fn, ln)\n",
    "        self.__salary = sal\n",
    "        self.__job_title = jt\n",
    "        \n",
    "    def get_title(self):\n",
    "        return self.__job_title\n",
    "    \n",
    "    def get_salary(self):\n",
    "        return self.__salary\n",
    "    \n",
    "    def set_title(self, jt):\n",
    "        self.__job_title = jb\n",
    "        \n",
    "    def set_salary(self, sal):\n",
    "        self.__salary = sal\n",
    "        \n",
    "    def __str__(self):\n",
    "        op = super().__str__() #we call the parent class's __str__method first.\n",
    "        op += \". The salary is: {} and the job title is: {}\".format(self.__salary, self.__job_title)\n",
    "        return op"
   ]
  },
  {
   "cell_type": "markdown",
   "metadata": {},
   "source": [
    "__Test your child class by creating a child object and printing out the details.__"
   ]
  },
  {
   "cell_type": "code",
   "execution_count": null,
   "metadata": {},
   "outputs": [],
   "source": [
    "'''\n",
    "Test your child class\n",
    "'''\n",
    "child = Full_Time_Employee('Jane', 'Doe', 'Teacher', '45000')\n",
    "print(child)"
   ]
  },
  {
   "cell_type": "markdown",
   "metadata": {},
   "source": [
    "__The `isinstance(a, B)` method returns True if  object a is an instance of class B.  It returns False otherwise.__\n",
    "\n",
    "__The `issubclass(A, B)` method returns True if class A is a subclass of class B__"
   ]
  },
  {
   "cell_type": "code",
   "execution_count": null,
   "metadata": {},
   "outputs": [],
   "source": [
    "'''\n",
    "Test class and inheritance relationships\n",
    "'''\n",
    "child = Full_Time_Employee('Jane', 'Doe', 'Teacher', '45000')\n",
    "print(child)\n",
    "emp = Employee('Jack', 'Ryan')\n",
    "print(emp)\n",
    "#The isinstance() method returns True if the object is an indirect or direct child of the class\n",
    "print('isinstance(emp, Full_Time_Employee): ', isinstance(emp, Full_Time_Employee)) \n",
    "print('isinstance(child, Employee):', isinstance(child, Employee)) \n",
    "\n",
    "print('issubclass(Full_Time_Employee, Employee):', issubclass(Full_Time_Employee, Employee)) \n",
    "print('issubclass(Employee, Full_Time_Employee):', issubclass(Employee, Full_Time_Employee)) \n",
    "# A class is considered a subclass of itself\n",
    "print('issubclass(Full_Time_Employee, Full_Time_Employee):', issubclass(Full_Time_Employee, Full_Time_Employee)) "
   ]
  },
  {
   "cell_type": "markdown",
   "metadata": {},
   "source": [
    "__Note that the child class has access to all the methods in the parent class.  However, it does not have access to the \n",
    "hidden attributes in the parent class.  These can only be accessed using the appropriate get and set methods.__\n",
    "\n",
    "__This will return an error.  However, we can get around it (not recommended) by prefixing the variable name with an underscore and the parent class name.__"
   ]
  },
  {
   "cell_type": "code",
   "execution_count": null,
   "metadata": {},
   "outputs": [],
   "source": [
    "'''\n",
    "Test class properties and attributes\n",
    "'''\n",
    "print(child.get_first_name())\n",
    "print(child.__first_name)  "
   ]
  }
 ],
 "metadata": {
  "kernelspec": {
   "display_name": "Python 3",
   "language": "python",
   "name": "python3"
  },
  "language_info": {
   "codemirror_mode": {
    "name": "ipython",
    "version": 3
   },
   "file_extension": ".py",
   "mimetype": "text/x-python",
   "name": "python",
   "nbconvert_exporter": "python",
   "pygments_lexer": "ipython3",
   "version": "3.7.6"
  }
 },
 "nbformat": 4,
 "nbformat_minor": 2
}
