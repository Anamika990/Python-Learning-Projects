{
 "cells": [
  {
   "cell_type": "markdown",
   "metadata": {},
   "source": [
    "## Control Codes\n",
    "__This notebook introduces control codes within strings.\n",
    "If you desire to print special characters like a newline character, a tab, a single quote, etc. inside a string, you need\n",
    "to use control codes to specify them.__\n",
    "\\n is the control code for a newline character\n",
    "\\t is the control code for the tab character\n",
    "\\' is the control code for a single quote character\n",
    "\\\" is the control code for a double quote character\n",
    "\n",
    "__Strings can be enclosed in either single or double quotes.  Therefore, if you wish to have single (double) quotes\n",
    "inside your string, you can skip the use of the control codes by enclosing the whole string in double (single) quotes.__\n"
   ]
  },
  {
   "cell_type": "code",
   "execution_count": null,
   "metadata": {},
   "outputs": [],
   "source": [
    "# Control codes within strings.  This cell demonstrates the use of the tab and newline character inside strings\n",
    "print(\"This is a statement without any control codes\")\n",
    "print(\"This is a statement \\n printed on two lines\")\n",
    "print(\"This is a statement \\n printed on two lines and ends with a blank line\\n\")\n",
    "print(\"This is a statement \\t with a tab\")\n",
    "print('This is a string with a single \"')"
   ]
  },
  {
   "cell_type": "code",
   "execution_count": null,
   "metadata": {},
   "outputs": [],
   "source": [
    "#If the string is enclosed by double (single) quotes, you can directly use single (double) quotes inside the string.\n",
    "print(\"This is a statement with  'single quotes' inside the string\")\n",
    "print('This is a statement with  'double quotes'' inside the string')"
   ]
  },
  {
   "cell_type": "code",
   "execution_count": null,
   "metadata": {},
   "outputs": [],
   "source": [
    "'''\n",
    "You can also use control codes to include single (double) quotes inside a string that is enclosed by single(double) quotes.\n",
    "'''\n",
    "print('This is a statement with  \\'control codes for single quotes\\' inside the string')"
   ]
  }
 ],
 "metadata": {
  "kernelspec": {
   "display_name": "Python 3",
   "language": "python",
   "name": "python3"
  },
  "language_info": {
   "codemirror_mode": {
    "name": "ipython",
    "version": 3
   },
   "file_extension": ".py",
   "mimetype": "text/x-python",
   "name": "python",
   "nbconvert_exporter": "python",
   "pygments_lexer": "ipython3",
   "version": "3.7.3"
  }
 },
 "nbformat": 4,
 "nbformat_minor": 2
}
