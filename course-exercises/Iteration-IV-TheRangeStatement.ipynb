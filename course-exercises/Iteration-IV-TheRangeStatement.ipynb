{
 "cells": [
  {
   "cell_type": "markdown",
   "metadata": {},
   "source": [
    "## The `range()` function\n",
    "\n",
    "__This notebook introduces the `range()` function.  The `range()` consists of three parts. `range(start, end, step)`. Of these only the `end` is required.  The default value of `start` is 0, and the default value of `step` is 1. The iteration variable iterates from the `start` value to one less than the `end` value in increments specified by the `step` variable. The iteration always stops just before the `end` variable.  If the `step` value is negative, the iteration will stop at one more than the `end` variable.  If the `step` variable is positive than the iteration will stop at one less than the `end` variable.__"
   ]
  },
  {
   "cell_type": "code",
   "execution_count": null,
   "metadata": {},
   "outputs": [],
   "source": [
    "for i in range(0,5,1):\n",
    "    print(i)"
   ]
  },
  {
   "cell_type": "code",
   "execution_count": null,
   "metadata": {},
   "outputs": [],
   "source": [
    "'''\n",
    "The example above can also be written as\n",
    "'''\n",
    "for i in range(5): \n",
    "    print(i)"
   ]
  },
  {
   "cell_type": "code",
   "execution_count": null,
   "metadata": {},
   "outputs": [],
   "source": [
    "'''\n",
    "Note also, the slight variation in the print statement.\n",
    "The default end character when using a print statement is the newline character.  But we can change it to \n",
    "something else of our preference.  In this code, we have changed it to a ','.  Hence each time the print statement\n",
    "is executed, it will end with a comma\n",
    "'''\n",
    "for i in range(5, 10):\n",
    "    print(i,end = ',') # Note the variation\n",
    "print('Done') #We now add this regular print statement to ensure that a newline character is printed at the end of the sequence"
   ]
  },
  {
   "cell_type": "code",
   "execution_count": null,
   "metadata": {},
   "outputs": [],
   "source": [
    "'''\n",
    "The iteration variable starts at 5 and ends at 19 (one less than 20) in increments of 3. \n",
    "'''\n",
    "for i in range(3, 20, 3):\n",
    "    print(i, end = ':')\n",
    "print('Done')"
   ]
  },
  {
   "cell_type": "code",
   "execution_count": null,
   "metadata": {},
   "outputs": [],
   "source": [
    "'''\n",
    "In this example, the iteration goes backwards.  It begins at 20 and works down to 6 (one more than 5) decreasing\n",
    "each time by 3.\n",
    "'''\n",
    "for i in range(20, 5, -3):\n",
    "    print(i, end = ' ') #Note that in this example, we have set the end value in the print to ' ' (empty space)\n",
    "print('Done')"
   ]
  },
  {
   "cell_type": "code",
   "execution_count": null,
   "metadata": {},
   "outputs": [],
   "source": [
    "'''\n",
    "In this example, since the step value is omitted, it will take on a default of 1.  Therefore, since the start is \n",
    "greater than the end nothing is printed.\n",
    "When the step value is positive, the start must always be less than the end for something to be printed.\n",
    "'''\n",
    "for i in range(10, 5):\n",
    "    print(i, end = ' ')\n",
    "print('Done')"
   ]
  },
  {
   "cell_type": "code",
   "execution_count": null,
   "metadata": {},
   "outputs": [],
   "source": [
    "for i in range(0,12,2):\n",
    "    print(i, end = ' ')\n",
    "print('Done')"
   ]
  },
  {
   "cell_type": "code",
   "execution_count": null,
   "metadata": {},
   "outputs": [],
   "source": [
    "# This range expression has a negative step value.  In this case, the start value must always be larger than the end value\n",
    "for i in range(100, 0, -10):\n",
    "    print(i, end = ',')\n",
    "print('Done')"
   ]
  },
  {
   "cell_type": "code",
   "execution_count": null,
   "metadata": {},
   "outputs": [],
   "source": [
    "for i in range(10, -5, -3):\n",
    "    print(i, end = ';')\n",
    "print('Done')"
   ]
  },
  {
   "cell_type": "code",
   "execution_count": null,
   "metadata": {},
   "outputs": [],
   "source": [
    "for i in range(-3, 4):\n",
    "    print(i, end = ' ')\n",
    "print('Done') "
   ]
  },
  {
   "cell_type": "code",
   "execution_count": null,
   "metadata": {},
   "outputs": [],
   "source": [
    "for i in range(0, 10, 1):\n",
    "    print(i, end = ':')\n",
    "print('Done')"
   ]
  }
 ],
 "metadata": {
  "kernelspec": {
   "display_name": "Python 3",
   "language": "python",
   "name": "python3"
  },
  "language_info": {
   "codemirror_mode": {
    "name": "ipython",
    "version": 3
   },
   "file_extension": ".py",
   "mimetype": "text/x-python",
   "name": "python",
   "nbconvert_exporter": "python",
   "pygments_lexer": "ipython3",
   "version": "3.7.6"
  }
 },
 "nbformat": 4,
 "nbformat_minor": 2
}
