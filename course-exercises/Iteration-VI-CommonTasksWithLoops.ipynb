{
 "cells": [
  {
   "cell_type": "markdown",
   "metadata": {},
   "source": [
    "## Common tasks usings loops\n",
    "__In this notebook we will dicuss a few common tasks perfomed with loops.__\n"
   ]
  },
  {
   "cell_type": "code",
   "execution_count": null,
   "metadata": {},
   "outputs": [],
   "source": [
    "'''\n",
    "Print all the values in a sequence of values\n",
    "Note the square brackets indicating this is a list.\n",
    "'''\n",
    "for my_str in ['Amy', 'Beth', 'Chandrika', 'Dengpan', 'Edith', 'Farida', 'Ginger']:\n",
    "    print(my_str)"
   ]
  },
  {
   "cell_type": "code",
   "execution_count": null,
   "metadata": {},
   "outputs": [],
   "source": [
    "'''\n",
    "Count the number of iterations executed\n",
    "'''\n",
    "count = 0 # It is important to initialize the value of the counter variable before entering the loop.  \n",
    "for i in range(12, 3, -2):\n",
    "    count += 1 #count is incremented here\n",
    "    print(i)\n",
    "print('number of iterations:', count)\n"
   ]
  },
  {
   "cell_type": "code",
   "execution_count": null,
   "metadata": {},
   "outputs": [],
   "source": [
    "'''\n",
    "Print the product of the values obtained in each iteration\n",
    "'''\n",
    "prod_total = 1 # important to initialize the value of the variable that will hold the product\n",
    "for i in range(1, 5):\n",
    "    prod_total *= i\n",
    "    print(i)\n",
    "print('product:', prod_total)\n"
   ]
  },
  {
   "cell_type": "code",
   "execution_count": null,
   "metadata": {},
   "outputs": [],
   "source": [
    "'''\n",
    "Finding the average\n",
    "'''\n",
    "count, sum_total = 0, 0 # for this problem, we will need both the counter variable and the total variable\n",
    "for i in range(0, 100, 5):\n",
    "    sum_total += i\n",
    "    count += 1\n",
    "print('number of iterations:', count, 'total:', sum_total, 'average:', sum_total/count)"
   ]
  },
  {
   "cell_type": "code",
   "execution_count": null,
   "metadata": {},
   "outputs": [],
   "source": [
    "# Finding the largest value\n",
    "\n",
    "'''\n",
    "First declare a variable to hold the largest number found so far and initialize it to the first value in the sequence.\n",
    "'''\n",
    "max_n = 8 \n",
    "for i in [8, 2, 5, 18, 1, 4, 19, 20, 3, 1]:\n",
    "    if i > max_n:\n",
    "        max_n = i    \n",
    "print('largest number is:', max_n)"
   ]
  },
  {
   "cell_type": "code",
   "execution_count": null,
   "metadata": {},
   "outputs": [],
   "source": [
    "'''\n",
    "Finding the smallest value.  Similar to the above problem.\n",
    "'''"
   ]
  }
 ],
 "metadata": {
  "kernelspec": {
   "display_name": "Python 3",
   "language": "python",
   "name": "python3"
  },
  "language_info": {
   "codemirror_mode": {
    "name": "ipython",
    "version": 3
   },
   "file_extension": ".py",
   "mimetype": "text/x-python",
   "name": "python",
   "nbconvert_exporter": "python",
   "pygments_lexer": "ipython3",
   "version": "3.7.6"
  }
 },
 "nbformat": 4,
 "nbformat_minor": 2
}
