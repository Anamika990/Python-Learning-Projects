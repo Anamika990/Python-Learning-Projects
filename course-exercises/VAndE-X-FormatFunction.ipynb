{
 "cells": [
  {
   "cell_type": "markdown",
   "metadata": {},
   "source": [
    "## The `format()` function\n",
    "__It is desirable to print program output in a nicely formatted manner.  The `format()` function enables us to do that. \n",
    "It also enables us to combine string and numerical values together.\n",
    "Suppose we want to print a string that contains two variables that we wish to format and print:__\n",
    "__The syntax is as follows:__\n",
    "`'-----{0}---- {1}-----'.format(value1, value2)`\n",
    "__The dashes are any string text that we wish to display.  `value1` corresponds to the index value of 0 and `value2`\n",
    "corresponds to the index value of 1.  Therefore the first curly brace is replaced by `value1` and the \n",
    "second curly brace is replaced by `value2`.  __\n",
    "\n",
    "__If we switch the curly braces with 0 and 1 as shown below\n",
    "`'-----{1}---- {0}-----'.format(value1, value2)`\n",
    "then, the first curly brace will be replaced by `value2` and the second curly brace will be replaced by `value1`__"
   ]
  },
  {
   "cell_type": "code",
   "execution_count": null,
   "metadata": {},
   "outputs": [],
   "source": [
    "'''\n",
    "We can refer to the arguments of the format() function in any order we choose as long as we use the correct integer values \n",
    "inside the curly braces.  These values correspond to the order in which the arguments appear inside the format() function.\n",
    "'''\n",
    "x = 5\n",
    "y = 3\n",
    "print('{2} is the square of {1} and {3} is the square of {0}'.format(y, x, x**2 , y**2))\n",
    "print('{} is the square '.format(y, x))"
   ]
  },
  {
   "cell_type": "code",
   "execution_count": null,
   "metadata": {},
   "outputs": [],
   "source": [
    "'''\n",
    "You can use the format() function to format float values with precision.\n",
    "For example, use {0:0.3f} to format the value to 3 decimal places.\n",
    "'''\n",
    "'''\n",
    "print the value of 33 divided by 7 formatted to four decimal places\n",
    "'''\n",
    "x = 33\n",
    "y = 33/7\n",
    "print('The quotient of {0} is {1:0.4f}'.format(x, y))"
   ]
  },
  {
   "cell_type": "code",
   "execution_count": null,
   "metadata": {},
   "outputs": [],
   "source": [
    "'''\n",
    "The `,` can be used as a separator together with the `format()` function to display numerical values\n",
    "'''\n",
    "x = 1000005\n",
    "y = x/1000\n",
    "print('The square root of {0} is {1:,.3f}'.format(x, y)) # Note the use of a comma"
   ]
  }
 ],
 "metadata": {
  "kernelspec": {
   "display_name": "Python 3",
   "language": "python",
   "name": "python3"
  },
  "language_info": {
   "codemirror_mode": {
    "name": "ipython",
    "version": 3
   },
   "file_extension": ".py",
   "mimetype": "text/x-python",
   "name": "python",
   "nbconvert_exporter": "python",
   "pygments_lexer": "ipython3",
   "version": "3.7.3"
  }
 },
 "nbformat": 4,
 "nbformat_minor": 2
}
