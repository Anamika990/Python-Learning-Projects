{
 "cells": [
  {
   "cell_type": "markdown",
   "metadata": {},
   "source": [
    "## Tuple Slicing\n",
    "__This notebook discusses slicing as it applies to tuples.  Like in the case of strings, we can use the slicing feature of Python to extract or otherwise manipulate portions of a tuple.__\n",
    "\n",
    "`[start_val:end_val:step_val]`\n",
    "\n",
    " __The slice begins with the element whose index is given by `start_val` (default 0), until 1 less than the `end_val`, in increments of the `step_val` (default is 1).  If the `end_val `is not provided, the default is until the end of the tuple.__"
   ]
  },
  {
   "cell_type": "code",
   "execution_count": null,
   "metadata": {},
   "outputs": [],
   "source": [
    "my_tuple = (1, 2, 3, 4, 5, 6, 7, 8)\n",
    "print('my_tuple[2:4]', my_tuple[2:4]) \n",
    "print('my_tuple[5:]', my_tuple[5:]) \n",
    "print('my_tuple[:5]', my_tuple[:5])\n",
    "print('my_tuple[:]', my_tuple[:])\n",
    "print('my_tuple[-1:-8:-1]', my_tuple[-1:-8:1])\n",
    "print('my_tuple[-1:-9:-1]', my_tuple[-1:-9:-1])"
   ]
  },
  {
   "cell_type": "markdown",
   "metadata": {},
   "source": [
    "__Note that since tuples are immutable, you cannot delete portions of a tuple.__"
   ]
  },
  {
   "cell_type": "code",
   "execution_count": null,
   "metadata": {},
   "outputs": [],
   "source": [
    "elements = (\"A\", \"B\", \"C\", \"D\")\n",
    "del elements[:1] #will generate an error\n",
    "print(elements)"
   ]
  }
 ],
 "metadata": {
  "kernelspec": {
   "display_name": "Python 3",
   "language": "python",
   "name": "python3"
  },
  "language_info": {
   "codemirror_mode": {
    "name": "ipython",
    "version": 3
   },
   "file_extension": ".py",
   "mimetype": "text/x-python",
   "name": "python",
   "nbconvert_exporter": "python",
   "pygments_lexer": "ipython3",
   "version": "3.7.6"
  }
 },
 "nbformat": 4,
 "nbformat_minor": 2
}
