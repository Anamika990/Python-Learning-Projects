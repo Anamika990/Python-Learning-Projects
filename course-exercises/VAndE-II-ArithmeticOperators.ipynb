{
 "cells": [
  {
   "cell_type": "markdown",
   "metadata": {},
   "source": [
    "##  Arithmetic Operators & Order of Precedence\n",
    "__In this notebook we cover __\n",
    "1. the arithmetic operators in Python\n",
    "2. simple and complex arithmetic expressions\n",
    "3. Operator precedence (PEMDAS)\n",
    "4. Introduction to the print() statement\n",
    "5. the format() function"
   ]
  },
  {
   "cell_type": "markdown",
   "metadata": {},
   "source": [
    "__ Arithmetic Operators__\n",
    "\n",
    "__\\+__  &emsp;         Addition\n",
    "\n",
    "**\\-**  &emsp;           Subtraction\n",
    "\n",
    "__\\*__   &emsp;          Multiplication\n",
    "\n",
    "__/__    &emsp;          Division\n",
    "\n",
    "__//__  &emsp;            Integer division\n",
    "\n",
    "__%__   &emsp;          Modulo\n",
    "\n",
    "__**__   &emsp;         Exponentiation"
   ]
  },
  {
   "cell_type": "code",
   "execution_count": null,
   "metadata": {},
   "outputs": [],
   "source": [
    "''' Arithmetic expressions in Python can be written by combining numeric constants or \n",
    "variables together with arithmetic operators. \n",
    "'''\n",
    "\n",
    "x = 10\n",
    "y = 5\n",
    "\n",
    "z = x + y \n",
    "print('x + y', z)\n",
    "\n",
    "z = x - y\n",
    "print('x - y =', z) \n",
    "\n",
    "z = x * y\n",
    "print ('x * y =', z) \n",
    "\n",
    "z = x/y\n",
    "print('x / y =', z) \n",
    "\n",
    "z = x//y\n",
    "print('x // y =', z) \n",
    "\n",
    "z = x % y\n",
    "print('x % y =', z) \n",
    "\n",
    "z = x**y\n",
    "print('x ** y =', z) \n"
   ]
  },
  {
   "cell_type": "code",
   "execution_count": null,
   "metadata": {},
   "outputs": [],
   "source": [
    "'''\n",
    "Order of operation is as follows:\n",
    "Parentheses (P), Exponentiation (E), Multiplication (M), Division (D), Addition (A), Subtraction (S) = PEMDAS.\n",
    "Anything enclosed in parentheses is evaluated first.  The exponentiation (**) operator is evaluated next. \n",
    "The multiplication, division, integer division and modulo operators all have the same priority and are evaluated next.  \n",
    "If two or more of these operators are present in an expression, they are evaluated from left to right.\n",
    "Finally, the addition and subtraction operators are evaluated.\n",
    "'''\n",
    "x = 2\n",
    "y = x * 3 + 8 - 25//4\n",
    "print('x=',x,'y=',y)"
   ]
  },
  {
   "cell_type": "code",
   "execution_count": null,
   "metadata": {},
   "outputs": [],
   "source": [
    "'''\n",
    "Evaluate the following expression\n",
    "'''\n",
    "x = 2\n",
    "y = x ** 3 + 8 - 25//4\n",
    "print('x=',x,'y=',y)\n"
   ]
  },
  {
   "cell_type": "code",
   "execution_count": null,
   "metadata": {},
   "outputs": [],
   "source": [
    "'''\n",
    "Evaluate the following expression\n",
    "'''\n",
    "x = 2\n",
    "y = x ** (3 + 8) - 25//4\n",
    "print('x=',x,'y=',y)"
   ]
  },
  {
   "cell_type": "code",
   "execution_count": null,
   "metadata": {},
   "outputs": [],
   "source": [
    "'''\n",
    "Evaluate the following expressions. \n",
    "'''\n",
    "i1 = 2\n",
    "i2 = 5\n",
    "i3 = -3\n",
    "d1 = 2.0\n",
    "d2 = 5.0\n",
    "d3 = -0.5\n",
    "r1 = 3 * (d1 + d2) * (d1 - d3)\n",
    "r2 = (d1 + d2 + d3) / 3\n",
    "r3 = d1 + d2 + (d3 / 3)\n",
    "r4 = i1 // i2 + i3\n",
    "r5 = i1 / i2 + i3\n",
    "print(r1)\n",
    "print(r2)\n",
    "print(r3)\n",
    "print(r4)\n",
    "print(r5)"
   ]
  }
 ],
 "metadata": {
  "kernelspec": {
   "display_name": "Python 3",
   "language": "python",
   "name": "python3"
  },
  "language_info": {
   "codemirror_mode": {
    "name": "ipython",
    "version": 3
   },
   "file_extension": ".py",
   "mimetype": "text/x-python",
   "name": "python",
   "nbconvert_exporter": "python",
   "pygments_lexer": "ipython3",
   "version": "3.7.3"
  }
 },
 "nbformat": 4,
 "nbformat_minor": 2
}
