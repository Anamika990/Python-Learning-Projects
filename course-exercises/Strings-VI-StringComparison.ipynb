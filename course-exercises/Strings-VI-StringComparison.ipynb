{
 "cells": [
  {
   "cell_type": "markdown",
   "metadata": {},
   "source": [
    "## String Comparison\n",
    "__In this notebook we briefly explore how strings are compared.  In Python, strings are compared lexographically, i.e., using the ASCII value of the characters.  The two strings are compared character by character.__\n",
    "-  For two strings to be considered equal or the same, they must be of the same length and match character for character\n",
    "\n",
    "-  The first time, a mismatch occurs, the string containing the character with the larger ASCII value is said to be the larger string and is considered to come after the first string.  Note, that in this case, the length is irrelavant.\n",
    "   \n",
    "-  If one string is longer than the other and has the exact same initial characters as the shorter string, it is considered to be the larger string.\n"
   ]
  },
  {
   "cell_type": "code",
   "execution_count": null,
   "metadata": {},
   "outputs": [],
   "source": [
    "'''\n",
    "Try out the following words as inputs:\n",
    "1.  bananas\n",
    "2.  banana\n",
    "3.  banan\n",
    "4.  X\n",
    "5.  z\n",
    "6.  zebra\n",
    "7.  Zebra\n",
    "'''\n",
    "word = input('Enter a word: ')\n",
    "if word < 'bzanana':\n",
    "    print('Your word,' + word + ', comes before banana.')\n",
    "elif word > 'banana':\n",
    "    print('Your word,' + word + ', comes after banana.')\n",
    "else:\n",
    "    print('All right, bananas.')"
   ]
  }
 ],
 "metadata": {
  "kernelspec": {
   "display_name": "Python 3",
   "language": "python",
   "name": "python3"
  },
  "language_info": {
   "codemirror_mode": {
    "name": "ipython",
    "version": 3
   },
   "file_extension": ".py",
   "mimetype": "text/x-python",
   "name": "python",
   "nbconvert_exporter": "python",
   "pygments_lexer": "ipython3",
   "version": "3.7.6"
  }
 },
 "nbformat": 4,
 "nbformat_minor": 2
}
