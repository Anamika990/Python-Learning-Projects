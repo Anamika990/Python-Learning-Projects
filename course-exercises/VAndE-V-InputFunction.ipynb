{
 "cells": [
  {
   "cell_type": "markdown",
   "metadata": {},
   "source": [
    "## The input() function\n",
    "__In this notebook we look at how user input can be obtained and stored in variables.\n",
    "The `input()` function returns values whose data type is string.\n",
    "When you wish to accept numeric values from the user, the input function must be used in combination \n",
    "with the `int()` or `float()` function__\n"
   ]
  },
  {
   "cell_type": "code",
   "execution_count": null,
   "metadata": {},
   "outputs": [],
   "source": [
    "my_age = input() #Note the lack of a space between the prompt and the user's response.  \n",
    "print(type(my_age))\n",
    "# What is the type of my_age?"
   ]
  },
  {
   "cell_type": "code",
   "execution_count": null,
   "metadata": {},
   "outputs": [],
   "source": [
    "my_age = input('Enter your age:') #Note the lack of a space between the prompt and the user's response.  \n",
    "print(type(my_age))\n",
    "# What is the type of my_age?"
   ]
  },
  {
   "cell_type": "code",
   "execution_count": null,
   "metadata": {},
   "outputs": [],
   "source": [
    "my_str_age = input('Enter your age: ')\n",
    "my_age = int(my_str_age) # Now what is the type of my_age\n",
    "print(type(my_age))"
   ]
  },
  {
   "cell_type": "code",
   "execution_count": null,
   "metadata": {},
   "outputs": [],
   "source": [
    "price = float(input('Enter the price of the book: '))\n",
    "print(price)\n",
    "# What is the type of price? What happens if you use int() instead of float()?"
   ]
  }
 ],
 "metadata": {
  "kernelspec": {
   "display_name": "Python 3",
   "language": "python",
   "name": "python3"
  },
  "language_info": {
   "codemirror_mode": {
    "name": "ipython",
    "version": 3
   },
   "file_extension": ".py",
   "mimetype": "text/x-python",
   "name": "python",
   "nbconvert_exporter": "python",
   "pygments_lexer": "ipython3",
   "version": "3.7.3"
  }
 },
 "nbformat": 4,
 "nbformat_minor": 2
}
