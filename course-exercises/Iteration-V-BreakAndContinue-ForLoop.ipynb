{
 "cells": [
  {
   "cell_type": "markdown",
   "metadata": {},
   "source": [
    "## `break` and `continue` in `for` loops\n",
    "__The `break` and `continue` clauses work the same in `for` loops like they do in `while` loops__"
   ]
  },
  {
   "cell_type": "markdown",
   "metadata": {},
   "source": [
    "__Write a program that prints the square of every third integer in the range 1 to 45\n",
    "However, if the square is a multiple of 5 that value must not be printed and the program must skip the current iteration\n",
    "with a `continue` statement.__"
   ]
  },
  {
   "cell_type": "code",
   "execution_count": null,
   "metadata": {},
   "outputs": [],
   "source": [
    "\n",
    "for i in range(1,46,3):\n",
    "    n = i**2\n",
    "    if n % 5 == 0:\n",
    "        print('{} is a multiple of 5 and therefore will not be printed'.format(n))\n",
    "        continue\n",
    "    print(n)"
   ]
  },
  {
   "cell_type": "markdown",
   "metadata": {},
   "source": [
    "__Write a program to accept a string value from the user.  The program should print each character in the string in a line by  itself. However, if the character is a 'z', the program should exit the loop with a `break` statement.__"
   ]
  },
  {
   "cell_type": "code",
   "execution_count": null,
   "metadata": {},
   "outputs": [],
   "source": [
    "\n",
    "inline = input('Enter a string: ')\n",
    "\n",
    "#Note the syntax.  Each time execution enters the loop, i is assigned the value of next character in the string.\n",
    "for i in inline: \n",
    "    if i == 'z':\n",
    "        print('Character \\'z\\' encountered.  Exiting the program')\n",
    "        break\n",
    "    print(i)"
   ]
  }
 ],
 "metadata": {
  "kernelspec": {
   "display_name": "Python 3",
   "language": "python",
   "name": "python3"
  },
  "language_info": {
   "codemirror_mode": {
    "name": "ipython",
    "version": 3
   },
   "file_extension": ".py",
   "mimetype": "text/x-python",
   "name": "python",
   "nbconvert_exporter": "python",
   "pygments_lexer": "ipython3",
   "version": "3.7.6"
  }
 },
 "nbformat": 4,
 "nbformat_minor": 2
}
