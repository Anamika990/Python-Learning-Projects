{
 "cells": [
  {
   "cell_type": "markdown",
   "metadata": {},
   "source": [
    "## Arithmetic Operators inside `print()`\n",
    "__This notebook covers the use of arithmetic operators inside a `print` statement.\n",
    "Combining numeric and string values together with an arithmetic operator inside a `print` \n",
    "statement leads to different results depending on the argument.__"
   ]
  },
  {
   "cell_type": "code",
   "execution_count": null,
   "metadata": {},
   "outputs": [],
   "source": [
    "'''\n",
    "When the arithmetic operator is the `+` operator, both operands need to be numeric values or both should be string values.\n",
    "The numeric value can be either `int` or `float`.  If one of the operands is numeric and the other is string, you will \n",
    "get an error.\n",
    "'''\n",
    "\n",
    "x = 5\n",
    "y = 10\n",
    "z = 5.5\n",
    "u = 'hello'\n",
    "v = 'Hi'\n",
    "\n",
    "print(x + y) # Valid\n",
    "print(x + z) # Valid\n",
    "print(u + v) # Valid\n",
    "#print(x + u) # Invalid\n",
    "print(z + u) # Invalid"
   ]
  },
  {
   "cell_type": "code",
   "execution_count": null,
   "metadata": {},
   "outputs": [],
   "source": [
    "'''\n",
    "When the arithmetic operator is the * operator, either both should be numeric values or one of the operands \n",
    "can be string while the other is int. Using the * operator with two string operands will result in an error.\n",
    "'''\n",
    "int1 = 5\n",
    "int2 = 10\n",
    "float1 = 5.5\n",
    "str1 = 'hello'\n",
    "str2 = 'Hi'\n",
    "\n",
    "print(int1 * int2) # Valid\n",
    "print(int1 * float1) # Valid\n",
    "print(str1 * int1) # Valid\n",
    "#print(str1 * str2) # Invalid\n",
    "#print(str1 * float1) # Invalid"
   ]
  }
 ],
 "metadata": {
  "kernelspec": {
   "display_name": "Python 3",
   "language": "python",
   "name": "python3"
  },
  "language_info": {
   "codemirror_mode": {
    "name": "ipython",
    "version": 3
   },
   "file_extension": ".py",
   "mimetype": "text/x-python",
   "name": "python",
   "nbconvert_exporter": "python",
   "pygments_lexer": "ipython3",
   "version": "3.7.3"
  }
 },
 "nbformat": 4,
 "nbformat_minor": 2
}
