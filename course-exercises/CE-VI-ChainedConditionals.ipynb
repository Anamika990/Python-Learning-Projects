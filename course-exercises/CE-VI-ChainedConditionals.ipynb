{
 "cells": [
  {
   "cell_type": "markdown",
   "metadata": {},
   "source": [
    "## Chained Conditionals\n",
    "__Sometimes we want different blocks of code to be executed under different conditions.  In that case we use chained conditionals using the `if...elif...else` construct.  There can be any number of `elif` blocks but at most one `else`.__ "
   ]
  },
  {
   "cell_type": "code",
   "execution_count": null,
   "metadata": {},
   "outputs": [],
   "source": [
    "'''\n",
    "Print 'small' if x is less than 2.  Otherwise, print 'medium' if x is less than 10.  Otherwise print 'large'.  \n",
    "Finally print 'All Done' no matter what the value of x\n",
    "'''\n",
    "x = int(input('Enter an integer: '))\n",
    "if x < 2:\n",
    "    print('small')\n",
    "elif x < 10:\n",
    "    print('medium')\n",
    "else:\n",
    "    print('large')\n",
    "print('All Done')"
   ]
  }
 ],
 "metadata": {
  "kernelspec": {
   "display_name": "Python 3",
   "language": "python",
   "name": "python3"
  },
  "language_info": {
   "codemirror_mode": {
    "name": "ipython",
    "version": 3
   },
   "file_extension": ".py",
   "mimetype": "text/x-python",
   "name": "python",
   "nbconvert_exporter": "python",
   "pygments_lexer": "ipython3",
   "version": "3.7.3"
  }
 },
 "nbformat": 4,
 "nbformat_minor": 2
}
