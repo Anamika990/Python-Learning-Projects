{
 "cells": [
  {
   "cell_type": "markdown",
   "metadata": {},
   "source": [
    "## Variables, Constants And Data Types\n",
    "\n",
    "__In the following set of notebooks, you will be introduced to some basics of programming in general and Python in particular.__\n",
    "\n",
    "__This notebook covers the following topics:__\n",
    "1. string and numeric constants\n",
    "2. variables\n",
    "3. data types in python \n",
    "4. assignment statements\n",
    "5. Reserved words"
   ]
  },
  {
   "cell_type": "code",
   "execution_count": null,
   "metadata": {},
   "outputs": [],
   "source": [
    "'''\n",
    "In this cell we introduce three main data types we will study in this course: int, float, and string.  \n",
    "Some other data types will be introduced later.  \n",
    "The term data type defines the range of values a data item can take.\n",
    "In this cell we first look at constant values for int and float data types.\n",
    "'''\n",
    "\n",
    "print(58359000) # int data type.  Contains negative and positive integers including 0\n",
    "print(95.23) # float data type.  Contains floating point values\n"
   ]
  },
  {
   "cell_type": "code",
   "execution_count": null,
   "metadata": {},
   "outputs": [],
   "source": [
    "'''\n",
    "String data types.  Contains sequences of printable characters. \n",
    "String constants can be enclosed in either single or double quotes.  \n",
    "''' \n",
    "print('Hello, my name is Rabih') \n",
    "print(\"Hello, this is the first day of class\")"
   ]
  },
  {
   "cell_type": "code",
   "execution_count": null,
   "metadata": {},
   "outputs": [],
   "source": [
    "'''\n",
    "Variables and assignment.  Variables are like names for containers holding values.  \n",
    "They can be referenced for processing in the program.  Values can be assigned to \n",
    "variables via assignment statements. \n",
    "'''\n",
    "x = 15.8\n",
    "y = 20.2\n",
    "z = y\n",
    "u = y+x\n",
    "print(x)\n",
    "print(y)\n",
    "print(z)\n",
    "print(u)"
   ]
  },
  {
   "cell_type": "code",
   "execution_count": null,
   "metadata": {
    "scrolled": true
   },
   "outputs": [],
   "source": [
    "'''\n",
    "Python contains a list of words that have special meaning and are part of the syntax.\n",
    "These are called reserved words or keywords.  You may not use a reserved word as the name for your variable, \n",
    "or function (to be discussed later).\n",
    "For example, 'if' is a reserved word and therefore, executing the statement below will result in error.\n",
    "'''\n",
    "if = 5"
   ]
  }
 ],
 "metadata": {
  "kernelspec": {
   "display_name": "Python 3",
   "language": "python",
   "name": "python3"
  },
  "language_info": {
   "codemirror_mode": {
    "name": "ipython",
    "version": 3
   },
   "file_extension": ".py",
   "mimetype": "text/x-python",
   "name": "python",
   "nbconvert_exporter": "python",
   "pygments_lexer": "ipython3",
   "version": "3.7.3"
  }
 },
 "nbformat": 4,
 "nbformat_minor": 2
}
