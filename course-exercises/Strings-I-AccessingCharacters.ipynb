{
 "cells": [
  {
   "cell_type": "markdown",
   "metadata": {},
   "source": [
    "## Accessing portions of a string\n",
    "\n",
    "__A string is a sequence of characters. Strings are an important data type and commonly used in multiple scenarios. In the set of notebooks that follow, we will discuss various aspects of string manipulation starting with the\n",
    "string concatenation operator.__\n",
    "\n",
    "__We often wish to extract portions of a string. In this notebook, we will also study how individual characters in a  string can be accessed by using the appropriate subscript.__\n",
    "\n",
    "__The first character in a string has an index (subscript) of 0 while the last character has an index that is one less than the total number of characters in the string.__\n",
    "\n",
    "__We also take a look at the len() function which returns the number of elements in its argument. When called with a string as its argument, the len() function returns the number of characters in the string.__\n"
   ]
  },
  {
   "cell_type": "markdown",
   "metadata": {
    "collapsed": true
   },
   "source": [
    "__The + symbol serves as the addition operator when its operands are *numeric* values.__\n",
    "\n",
    "__The + symbol serves as the concatenation operator when its operands are *string* values.__)"
   ]
  },
  {
   "cell_type": "code",
   "execution_count": null,
   "metadata": {},
   "outputs": [],
   "source": [
    "'''\n",
    "In the following lines of code, we accept two integer values from the user, compute the sum and then display it.\n",
    "Here the + symbol functions as an addition operator and adds the two integer values together.\n",
    "'''\n",
    "\n",
    "n1 = int(input('Enter integer 1: '))\n",
    "n2 = int(input('Enter integer 2: '))\n",
    "print('The sum of', n1, 'and', n2, 'is', n1+n2)"
   ]
  },
  {
   "cell_type": "code",
   "execution_count": null,
   "metadata": {},
   "outputs": [],
   "source": [
    "'''\n",
    "If we  apply the concatenation operator (the + symbol) to string values, the results are very different.\n",
    "'''\n",
    "n1 = input('Enter integer 1: ')\n",
    "n2 = input('Enter integer 2: ')\n",
    "\n",
    "print('The concatenation of', n1, 'and', n2, 'is', n1 + n2)"
   ]
  },
  {
   "cell_type": "code",
   "execution_count": null,
   "metadata": {},
   "outputs": [],
   "source": [
    "'''\n",
    "In this code, we ask the user to provide a string as input.  We then use the len() function to find the number of characters \n",
    "in the string. The code prints out the nth character in the string where n is a number obtained from the user.\n",
    "'''\n",
    "my_str = input('Enter a string: ')\n",
    "str_len = len(my_str) #The len() function gives you the number of characters in the string argument\n",
    "print(str_len)"
   ]
  },
  {
   "cell_type": "code",
   "execution_count": null,
   "metadata": {},
   "outputs": [],
   "source": [
    "'''\n",
    "Before concatenating a string with an integer, the integer must be first converted to string.  \n",
    "'''\n",
    "n1 = int(input('Enter an integer between 0 and ' + str(str_len - 1) + ': ' )) \n",
    "print(my_str[n1])"
   ]
  },
  {
   "cell_type": "code",
   "execution_count": null,
   "metadata": {},
   "outputs": [],
   "source": [
    "'''\n",
    "As described above, string indices start at 0 and end at 1 less than the number of characters in the string.  \n",
    "However, the indices can also be negative values ranging from -1 to -n where n is the number of characters in the string.\n",
    "That is, if a string has 10 characters, valid index values are 0 to 9 and -1 to -10.  The last character in the string\n",
    "has an index of -1 and the first will have an index of -n\n",
    "\n",
    "So what happens if we use a negative index?\n",
    "If the negative index is a valid value as described above, the character associated with the index will be returned.  \n",
    "Otherwise, we get an error.\n",
    "'''\n",
    "my_str = 'This string has 28 chracters'\n",
    "print(my_str[-27])\n",
    "print(my_str[-28])\n",
    "print(my_str[27])\n",
    "print(my_str[89]) #This will result in an error\n",
    "#print(my_str[-89]) #This will also result in an error"
   ]
  }
 ],
 "metadata": {
  "kernelspec": {
   "display_name": "Python 3",
   "language": "python",
   "name": "python3"
  },
  "language_info": {
   "codemirror_mode": {
    "name": "ipython",
    "version": 3
   },
   "file_extension": ".py",
   "mimetype": "text/x-python",
   "name": "python",
   "nbconvert_exporter": "python",
   "pygments_lexer": "ipython3",
   "version": "3.7.6"
  }
 },
 "nbformat": 4,
 "nbformat_minor": 2
}
