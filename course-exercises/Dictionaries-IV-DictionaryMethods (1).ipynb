{
 "cells": [
  {
   "cell_type": "markdown",
   "metadata": {},
   "source": [
    "## Dictionary Methods\n",
    "__This notebook introduces some dictionary methods.  They are:__\n",
    "1. `keys()`: used to retrieve the keys in the dictionary.  The method returns a list of keys  containing the keys in the dictonary.\n",
    "2. `get()`: returns the value associated with the key.\n",
    "          If the key does not exist and the optional value is not provided, the get() method returns the reserved word None\n",
    "          If the key does not exist and the optional value is provided, the get() method will return the value.\n",
    "                \n",
    "3. `values()`: used to retrieve the values in the dictionary.  The method returns a list of the values in the dictionary.\n",
    "\n",
    "4. `items()`:  used to retrieve the values in the dictionary.  The method returns a list containing each key-value pair as a tuple\n",
    "\n",
    "__Methods of an object are accessed using the `objectname.methodname()`.  So to use dictionary methods, we will use `dictionaryname.methodname()`__\n"
   ]
  },
  {
   "cell_type": "markdown",
   "metadata": {},
   "source": [
    "__The `keys()` method is used to retrieve the keys in the dictionary.  The method returns a list.__"
   ]
  },
  {
   "cell_type": "code",
   "execution_count": null,
   "metadata": {},
   "outputs": [],
   "source": [
    "sales = { 'apple': 2, 'orange': 3, 'grapes': 4, 'persimmon': 1, 'mango': 8 }\n",
    "print(sales.keys())"
   ]
  },
  {
   "cell_type": "markdown",
   "metadata": {},
   "source": [
    "__The key in a  dictionary be traversed by using the for construct together with the `keys()` methods.__"
   ]
  },
  {
   "cell_type": "code",
   "execution_count": null,
   "metadata": {},
   "outputs": [],
   "source": [
    "sales = { 'apple': 2, 'orange': 3, 'grapes': 4, 'persimmon': 1, 'mango': 8 }\n",
    "for x in sales.keys():\n",
    "    print(x)"
   ]
  },
  {
   "cell_type": "markdown",
   "metadata": {},
   "source": [
    "__The `values()` method is used to retrieve the values in the dictionary.  The method returns a list.__"
   ]
  },
  {
   "cell_type": "code",
   "execution_count": null,
   "metadata": {},
   "outputs": [],
   "source": [
    "sales = { 'apple': 2, 'orange': 3, 'grapes': 3, 'persimmon': 1, 'mango': 8 }\n",
    "print(sales.values())"
   ]
  },
  {
   "cell_type": "markdown",
   "metadata": {},
   "source": [
    "__The values in a  dictionary be traversed by using the for construct together with the `values()` method.__"
   ]
  },
  {
   "cell_type": "code",
   "execution_count": null,
   "metadata": {},
   "outputs": [],
   "source": [
    "sales = { 'apple': 2, 'orange': 3, 'grapes': 4, 'persimmon': 1, 'mango': 8 }\n",
    "for value in sales.values():\n",
    "    print(value)"
   ]
  },
  {
   "cell_type": "markdown",
   "metadata": {},
   "source": [
    "__The `items()` method is used to retrieve the keys together with the corresponding values in the dictionary.  The method returns a list containing each key-value pair as a tuple.__"
   ]
  },
  {
   "cell_type": "code",
   "execution_count": null,
   "metadata": {},
   "outputs": [],
   "source": [
    "sales = { 'apple': 2, 'orange': 3, 'grapes': 4, 'persimmon': 1, 'mango': 8 }\n",
    "print(sales.items())\n",
    "l = sales.items()\n",
    "print(type(l))"
   ]
  },
  {
   "cell_type": "code",
   "execution_count": null,
   "metadata": {},
   "outputs": [],
   "source": [
    "'''\n",
    "Each key-value pair can be printed out as a tuple using the for construct.\n",
    "'''\n",
    "sales = { 'apple': 2, 'orange': 3, 'grapes': 4, 'persimmon': 1, 'mango': 8 }\n",
    "for item in sales.items():\n",
    "    print(item)"
   ]
  },
  {
   "cell_type": "code",
   "execution_count": null,
   "metadata": {},
   "outputs": [],
   "source": [
    "'''\n",
    "The key from each key-value pair can be accessed by using index 0.\n",
    "'''\n",
    "sales = { 'apple': 2, 'orange': 3, 'grapes': 4, 'persimmon': 1, 'mango': 8 }\n",
    "for item in sales.items():\n",
    "    print(item[0])"
   ]
  },
  {
   "cell_type": "code",
   "execution_count": null,
   "metadata": {},
   "outputs": [],
   "source": [
    "'''\n",
    "The value from each key-value pair can be accessed by using index 1.\n",
    "'''\n",
    "sales = { 'apple': 2, 'orange': 3, 'grapes': 4, 'persimmon': 1, 'mango': 8 }\n",
    "for item in sales.items():\n",
    "    print(item[1])"
   ]
  },
  {
   "cell_type": "markdown",
   "metadata": {},
   "source": [
    "__We can use two iterator variables to access both the key and the value in one iteration. This is called unpacking.__"
   ]
  },
  {
   "cell_type": "code",
   "execution_count": null,
   "metadata": {},
   "outputs": [],
   "source": [
    "sales = { 'apple': 2, 'orange': 3, 'grapes': 4, 'persimmon': 1, 'mango': 8 }\n",
    "for x, y in sales.items():\n",
    "    print(x, y)"
   ]
  },
  {
   "cell_type": "markdown",
   "metadata": {},
   "source": [
    "__The syntax for the `get()` method is `dictname.get(key, [value])`.  This method returns the value associated with the key.  If the key does not exist and the optional value is not provided,   the `get()` method returns the reserved word `None`.  If the key does not exist and the optional value is provided, the `get()` method will return the value.__"
   ]
  },
  {
   "cell_type": "code",
   "execution_count": null,
   "metadata": {},
   "outputs": [],
   "source": [
    "sales = {'apple': 2, 'orange': 3, 'grapes': 4, 'persimmon': 1, 'mango': 8 }\n",
    "print(sales.get('persimmon'))\n",
    "print(sales.get('papaya'))\n",
    "print(sales.get('papaya', 8))\n"
   ]
  },
  {
   "cell_type": "markdown",
   "metadata": {},
   "source": [
    "__As discussed earlier, we can also look up values associated with a key by using the `dictionaryname[key]` construct\n",
    "which also returns the value associated with the key.  However, if the key does not exist, it returns an `KeyError`.  \n",
    "The `get()` method on the other hand does not return an error.__"
   ]
  },
  {
   "cell_type": "code",
   "execution_count": null,
   "metadata": {},
   "outputs": [],
   "source": [
    "sales = { 'apple': 2, 'orange': 3, 'grapes': 4, 'persimmon': 1, 'mango': 8 }\n",
    "print(sales['persimmon'])\n",
    "print(sales['papaya'])"
   ]
  }
 ],
 "metadata": {
  "kernelspec": {
   "display_name": "Python 3",
   "language": "python",
   "name": "python3"
  },
  "language_info": {
   "codemirror_mode": {
    "name": "ipython",
    "version": 3
   },
   "file_extension": ".py",
   "mimetype": "text/x-python",
   "name": "python",
   "nbconvert_exporter": "python",
   "pygments_lexer": "ipython3",
   "version": "3.7.6"
  }
 },
 "nbformat": 4,
 "nbformat_minor": 2
}
