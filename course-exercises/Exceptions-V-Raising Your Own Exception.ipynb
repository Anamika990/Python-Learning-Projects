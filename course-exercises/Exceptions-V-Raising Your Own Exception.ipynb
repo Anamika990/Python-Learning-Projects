{
 "cells": [
  {
   "cell_type": "markdown",
   "metadata": {
    "collapsed": true
   },
   "source": [
    "## Exceptions V\n",
    "### Raising your own exception and processing an exception multiple times\n",
    "\n",
    "So far all the exceptions we have seen have occurred because the program does something that is not acceptable to Python. For example, trying to convert a string to an int, opening a file that does not exist, using an index value that is outside the bounds, etc.  \n",
    "However, sometimes, we may want to define as an error something that is legal from the standpoint of Python but not legal for our program. In this case, we can 'raise' our own exceptions.  \n",
    "In this notebook we look at how we can explictly generate exceptions.  We will also study how to handle the same exception multiple times."
   ]
  },
  {
   "cell_type": "markdown",
   "metadata": {},
   "source": [
    "__Write a function that will ask the user to provides two integers and returns the exponent of the first number raised \n",
    "to the second.  That is, given two numbers x and y, the function will return x raised to y. Suppose, we want to do this only for positive x values.  We can define our functions so that it raises an exception when the user enters a negative value for x.__\n",
    "\n",
    "__The syntax to do that is:__\n",
    "`raise` Name of Exception"
   ]
  },
  {
   "cell_type": "code",
   "execution_count": null,
   "metadata": {},
   "outputs": [],
   "source": [
    "'''\n",
    "  Compute Exponent function\n",
    "'''\n",
    "import sys\n",
    "def compute_exponent():\n",
    "    try:\n",
    "        n1 = int(input('Enter the first number: '))\n",
    "        if n1 <= 0:\n",
    "            raise ValueError # This forces an execption whenever the user enters a negative value for n1\n",
    "        n2 = int(input('Enter the second number: '))            \n",
    "        return n1**n2\n",
    "    except ValueError:\n",
    "        print('Only positive numbers are valid!!!')\n",
    "        # sys.exit()\n",
    "        \n",
    "compute_exponent()   "
   ]
  },
  {
   "cell_type": "markdown",
   "metadata": {
    "collapsed": true
   },
   "source": [
    "__You can process exceptions multiple times regardless of whether they were automatically raised or explicitly raised by you. That is once an exception occurs (automatically or because you raised it),  you can process it immediately (in the same function) and then also pass it to the calling function for more exception handling.__"
   ]
  },
  {
   "cell_type": "markdown",
   "metadata": {},
   "source": [
    "__Write a function that calls the `compute_exponent()` function that we wrote above.  However, this time,  if the user enters a negative value, the `compute_exponent()` function should print a message and then raise the exception to the calling function to further process it.__"
   ]
  },
  {
   "cell_type": "code",
   "execution_count": null,
   "metadata": {},
   "outputs": [],
   "source": [
    "'''\n",
    "  Raise Exception and pass to calling function\n",
    "'''\n",
    "def compute_exponent():\n",
    "    try:\n",
    "        n1 = int(input('Enter the first number: '))\n",
    "        if n1 <= 0:\n",
    "            raise ValueError\n",
    "        print('no error')\n",
    "        n2 = int(input('Enter the second number: '))       \n",
    "        return n1**n2\n",
    "    except ValueError:\n",
    "        print('\\nOnly positive numbers are valid!!!\\nPrinting from compute_exponent\\n')\n",
    "        raise ValueError #We raise the exception again and pass it on to the calling function for further handling\n",
    "\n",
    "def call_compute():\n",
    "    try:\n",
    "        print(compute_exponent())\n",
    "    except ValueError:\n",
    "        print('Error in data entry. Cant process further.\\nPrinting from call_compute')\n",
    "        \n",
    "call_compute()"
   ]
  },
  {
   "cell_type": "markdown",
   "metadata": {},
   "source": [
    "__What will happen upon execution of this code?__"
   ]
  },
  {
   "cell_type": "code",
   "execution_count": null,
   "metadata": {},
   "outputs": [],
   "source": [
    "'''\n",
    "  Hint: Look at except block\n",
    "'''\n",
    "def compute_exponent():\n",
    "    try:\n",
    "        n1 = int(input('Enter the first number: '))\n",
    "        if n1 <= 0:\n",
    "            raise ValueError\n",
    "        print('no error')\n",
    "        n2 = int(input('Enter the second number: '))       \n",
    "        return n1**n2\n",
    "    except ValueError:\n",
    "        print('\\nOnly positive numbers are valid!!!\\nPrinting from compute_exponent\\n')\n",
    "        raise ValueError #We raise the exception again and pass it on to the calling function for further handling\n",
    "\n",
    "def call_compute():\n",
    "    try:\n",
    "        print(compute_exponent())\n",
    "    except ZeroDivisionError: \n",
    "        print('Error in data entry. Cant process further.\\nPrinting from call_compute')\n",
    "        \n",
    "call_compute()"
   ]
  }
 ],
 "metadata": {
  "kernelspec": {
   "display_name": "Python 3",
   "language": "python",
   "name": "python3"
  },
  "language_info": {
   "codemirror_mode": {
    "name": "ipython",
    "version": 3
   },
   "file_extension": ".py",
   "mimetype": "text/x-python",
   "name": "python",
   "nbconvert_exporter": "python",
   "pygments_lexer": "ipython3",
   "version": "3.7.6"
  }
 },
 "nbformat": 4,
 "nbformat_minor": 2
}
