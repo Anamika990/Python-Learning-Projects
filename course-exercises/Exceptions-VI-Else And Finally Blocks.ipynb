{
 "cells": [
  {
   "cell_type": "markdown",
   "metadata": {
    "collapsed": true
   },
   "source": [
    "## Exceptions VI\n",
    "## The `else` block, the `finally` block and nested `try/except` blocks\n",
    "\n",
    "__In this notebook, we will look at two additional blocks that are available in the `try/except` construct.__\n",
    "\n",
    "__We have so far looked at:__ \n",
    "1. the try block\n",
    "2. the except block, and\n",
    "3. multiple except blocks\n",
    "\n",
    "__There are two more blocks that we can include when handling exceptions.__\n",
    "1. else block:  The else block is optional but it is sometimes easier and clearer to write code using the else block. The else block is also useful because it ensures that the statements in the try block are first executed.  If an exception occurs, the statements in the except block is executed.  If there are multiple except blocks, the appropriate except block is executed.  The statements in the else block is executed only if there are no exceptions.\n",
    "\n",
    "2. finally block:  The statements in the finally block will be executed in all cases\n"
   ]
  },
  {
   "cell_type": "markdown",
   "metadata": {},
   "source": [
    "__Write a function that will ask the user to provides two integers and returns the exponent of the first number raised \n",
    "to the second.  That is, given two numbers x and y, the function will return x raised to y. Suppose, we want to do this only for positive x values. If the user enters a negative value, we raise an exception.__"
   ]
  },
  {
   "cell_type": "code",
   "execution_count": null,
   "metadata": {},
   "outputs": [],
   "source": [
    "'''\n",
    "  Compute Exponent function\n",
    "'''\n",
    "import sys\n",
    "def compute_exponent():\n",
    "    try:\n",
    "        n1 = int(input('Enter the first number: '))\n",
    "        n2 = int(input('Enter the second number: '))         \n",
    "        if n1 <= 0:\n",
    "            raise ValueError # This forces an execption whenever the user enters a negative value for n1           \n",
    "        return n1**n2\n",
    "    except ValueError:\n",
    "        print('Only positive numbers are valid!!!')\n",
    "        # sys.exit()\n",
    "\n",
    "compute_exponent()        "
   ]
  },
  {
   "cell_type": "markdown",
   "metadata": {},
   "source": [
    "__In the example above, the user is asked for n2 even if she enters a negative value for n1.  This can be avoided by using the `else` block.__"
   ]
  },
  {
   "cell_type": "code",
   "execution_count": null,
   "metadata": {},
   "outputs": [],
   "source": [
    "'''\n",
    "  Statements in the else block is executed only if there are no exceptions\n",
    "  Statements in the finally block will always be executed.\n",
    "'''\n",
    "import sys\n",
    "def compute_exponent():\n",
    "    try:\n",
    "        n1 = int(input('Enter the first number: '))       \n",
    "        if n1 <= 0:\n",
    "            raise ValueError # This forces an execption whenever the user enters a negative value for n1           \n",
    "    except ValueError:\n",
    "        print('Only positive numbers are valid!!!')\n",
    "        # sys.exit()\n",
    "    else:\n",
    "        n2 = int(input('Enter the second number: '))          \n",
    "        print(n1**n2)     \n",
    "    finally:\n",
    "        print('\\nI will always be printed\\nFrom the finally block')\n",
    "    \n",
    "compute_exponent()        \n"
   ]
  },
  {
   "cell_type": "markdown",
   "metadata": {},
   "source": [
    "__Note that we can also have nested `try/except` blocks.__  \n",
    "In the following code, we have one `try/except` block to open the file.  If the file is opened without error, the `else` block is executed.  Note that the `else` block is a part of the first  `try/except` code.  There is a second `try/except` block inside the `else`."
   ]
  },
  {
   "cell_type": "code",
   "execution_count": null,
   "metadata": {},
   "outputs": [],
   "source": [
    "'''\n",
    "  Nested try/except blocks\n",
    "  First try/except block: guards against errors encountered while opening the file\n",
    "  Second try/except block: guards against errors encountered summing values\n",
    "'''\n",
    "try:\n",
    "    f = open('mydata.txt')\n",
    "except OSError:\n",
    "    print('Could not open file') \n",
    "else:\n",
    "    sum = 0\n",
    "    try:\n",
    "        for line in f:\n",
    "            sum += int(line)\n",
    "    except Exception as er:\n",
    "        print(er) # Show the problem\n",
    "    finally:\n",
    "        print('This finally block is part of the second (inner) try/except statement')\n",
    "        f.close() # Close the file\n",
    "    print('sum =', sum)\n",
    "finally:\n",
    "    print('This finally block is part of the first (outer) try/except statement')"
   ]
  }
 ],
 "metadata": {
  "kernelspec": {
   "display_name": "Python 3",
   "language": "python",
   "name": "python3"
  },
  "language_info": {
   "codemirror_mode": {
    "name": "ipython",
    "version": 3
   },
   "file_extension": ".py",
   "mimetype": "text/x-python",
   "name": "python",
   "nbconvert_exporter": "python",
   "pygments_lexer": "ipython3",
   "version": "3.7.6"
  }
 },
 "nbformat": 4,
 "nbformat_minor": 2
}
