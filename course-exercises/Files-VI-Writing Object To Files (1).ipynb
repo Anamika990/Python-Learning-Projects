{
 "cells": [
  {
   "cell_type": "markdown",
   "metadata": {
    "collapsed": true
   },
   "source": [
    "### Files - VI\n",
    "__In this notebook we will discuss how objects of a class can be written to a file. We know that classes can have multiple\n",
    "instance variables and some of these variables can be objects having their own instance variables and so on. Hence writing the contents of an object to a text file is not very easy.  However, Python provides a very neat and easy way for us to write objects of a class to a binary file. To do this, we make use of the `pickle` module.__"
   ]
  },
  {
   "cell_type": "markdown",
   "metadata": {},
   "source": [
    "__We will see how to write objects of a class to a binary file by writing objects of the Automobile class.\n",
    "We need to import the `pickle` module as well as automobile.py. Note that we use <font color = blue>mode = 'wb'</font> for <font color = blue>writing</font> to a <font color = blue>binary</font> file.\n",
    "Note that the pickle module's `dump()` function is used to write objects to the file.  The function accepts two parameters:__\n",
    "1. the object that is to be written, and\n",
    "2. the file handle"
   ]
  },
  {
   "cell_type": "code",
   "execution_count": null,
   "metadata": {},
   "outputs": [],
   "source": [
    "'''\n",
    "  Write objects of a class to a file\n",
    "  using the pickle module and dump() function\n",
    "'''\n",
    "#import the necessary modules\n",
    "import pickle\n",
    "from automobile import Automobile\n",
    "\n",
    "# create a few Automobile objects\n",
    "auto1 = Automobile('Honda', 'Accord', 15555, 78)\n",
    "auto2 = Automobile('Toyota', 'Camry', 65555, 68)\n",
    "auto3 = Automobile('Toyota', 'Corolla', 55289, 75)\n",
    "auto4 = Automobile('Honda', 'Pilot', 7267, 58)\n",
    "\n",
    "#open the file to write binary\n",
    "with open('autos.dat', 'wb') as fb: \n",
    "    \n",
    "    #write the objects to the file.  \n",
    "    pickle.dump(auto1, fb) # pass the necessary arguments to the pickle module's dump function.\n",
    "    pickle.dump(auto2, fb)\n",
    "    pickle.dump(auto3, fb)\n",
    "    pickle.dump(auto4, fb)"
   ]
  },
  {
   "cell_type": "markdown",
   "metadata": {},
   "source": [
    "__Just like we did with text files, we can also use the <font color = blue>append</font> mode to append data to an existing <font color = blue>binary</font> file.__"
   ]
  },
  {
   "cell_type": "code",
   "execution_count": null,
   "metadata": {},
   "outputs": [],
   "source": [
    "'''\n",
    "  Append objects of a class to a file\n",
    "  using the pickle module and dump() function\n",
    "'''\n",
    "#import the necessary modules\n",
    "import pickle\n",
    "from automobile import Automobile\n",
    "\n",
    "# create a few more Automobile objects\n",
    "auto1 = Automobile('Honda', 'AccordNew', 15555, 78)\n",
    "auto2 = Automobile('Toyota', 'CamryNew', 65555, 68)\n",
    "auto3 = Automobile('Toyota', 'CorollaNew', 55289, 75)\n",
    "auto4 = Automobile('Honda', 'PilotNew', 7267, 58)\n",
    "\n",
    "#open the file to write binary\n",
    "with open('autos.dat', 'ab') as fb: #We use the 'ab' mode to create a file handle for appending to binary files\n",
    "    \n",
    "    #write the objects to the file.  \n",
    "    pickle.dump(auto1, fb) \n",
    "    pickle.dump(auto2, fb)\n",
    "    pickle.dump(auto3, fb)\n",
    "    pickle.dump(auto4, fb)"
   ]
  }
 ],
 "metadata": {
  "kernelspec": {
   "display_name": "Python 3",
   "language": "python",
   "name": "python3"
  },
  "language_info": {
   "codemirror_mode": {
    "name": "ipython",
    "version": 3
   },
   "file_extension": ".py",
   "mimetype": "text/x-python",
   "name": "python",
   "nbconvert_exporter": "python",
   "pygments_lexer": "ipython3",
   "version": "3.7.6"
  }
 },
 "nbformat": 4,
 "nbformat_minor": 2
}
