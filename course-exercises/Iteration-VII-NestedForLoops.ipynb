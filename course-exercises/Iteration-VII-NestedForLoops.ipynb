{
 "cells": [
  {
   "cell_type": "markdown",
   "metadata": {},
   "source": [
    "## Nested `for` loops\n",
    "__Just like nested if statements, nested loops are also allowed and commonly used.__"
   ]
  },
  {
   "cell_type": "markdown",
   "metadata": {},
   "source": [
    "__Write a program to accept an integer less than 10 (call this n) from the user and print a n by n box of *'s__"
   ]
  },
  {
   "cell_type": "code",
   "execution_count": null,
   "metadata": {},
   "outputs": [],
   "source": [
    "'''\n",
    "Write the program using two for loops\n",
    "'''\n",
    "n = int(input('Please enter an integer less than 10: '))\n",
    "for i in range(1,n+1):\n",
    "    for j in range(0, n):\n",
    "        print('*', end='') #Note the end value in this print statement\n",
    "    print() # What happens when you remove this print statement"
   ]
  },
  {
   "cell_type": "code",
   "execution_count": null,
   "metadata": {},
   "outputs": [],
   "source": [
    "'''\n",
    "The above program can also be written using two while loops\n",
    "'''\n",
    "n = int(input('Please enter an integer less than 10: '))\n",
    "row_indx = 1\n",
    "col_indx = 1\n",
    "while row_indx <= n:\n",
    "    while col_indx <= n:\n",
    "        print('*', end='')\n",
    "        col_indx += 1\n",
    "    print()\n",
    "    col_indx = 1\n",
    "    row_indx += 1"
   ]
  },
  {
   "cell_type": "code",
   "execution_count": null,
   "metadata": {},
   "outputs": [],
   "source": [
    "'''\n",
    "We can write the same program using one each of the for loop and the while loop\n",
    "'''\n",
    "n = int(input('Please enter an integer less than 10: '))\n",
    "col_indx = 1\n",
    "for row_indx in range(1,n+1):\n",
    "    while col_indx <= n:\n",
    "        print('*', end='')\n",
    "        col_indx += 1\n",
    "    print()\n",
    "    col_indx = 1"
   ]
  },
  {
   "cell_type": "code",
   "execution_count": null,
   "metadata": {},
   "outputs": [],
   "source": [
    "# Write the program with the for loop as the inner loop and the while loop as the outer loop"
   ]
  }
 ],
 "metadata": {
  "kernelspec": {
   "display_name": "Python 3",
   "language": "python",
   "name": "python3"
  },
  "language_info": {
   "codemirror_mode": {
    "name": "ipython",
    "version": 3
   },
   "file_extension": ".py",
   "mimetype": "text/x-python",
   "name": "python",
   "nbconvert_exporter": "python",
   "pygments_lexer": "ipython3",
   "version": "3.7.6"
  }
 },
 "nbformat": 4,
 "nbformat_minor": 2
}
