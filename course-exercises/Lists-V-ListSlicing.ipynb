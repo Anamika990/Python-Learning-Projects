{
 "cells": [
  {
   "cell_type": "markdown",
   "metadata": {},
   "source": [
    "## List Slicing\n",
    "__In this notebook, we will discuss the slicing and the del operator in the context of lists.__\n",
    "\n",
    "__Like in the case of strings, we can use the slicing feature of Python to extract or otherwise manipulate portions of a list. \n",
    "`[start_val:end_val:step_val]`.  Recall that the slicing notation allows us to extract subsets of a list or string\n",
    "The slice begins with the element whose index is given by `start_val` (default 0), until 1 less than the `end_val`, \n",
    "in increments of the `step_val` (default is 1).__\n",
    "\n",
    "__If the `end_val` is not provided, the default is until the end of the list.  As seen earlier (in the case of strings), each of the parameters can be negative values as well.__\n",
    "\n",
    "__The `del` operator can used together with list slicing to remove one or more elements from a list.__"
   ]
  },
  {
   "cell_type": "code",
   "execution_count": null,
   "metadata": {},
   "outputs": [],
   "source": [
    "'''\n",
    "The following are a few examples of list slicing \n",
    "'''\n",
    "my_lst = [1, 2, 3, 4, 5, 6, 7, 8]\n",
    "print('my_lst[2:4]:', my_lst[2:4])           # from element at index 2 to element at index 3\n",
    "print('my_lst[5:]:', my_lst[5:])             # from element at index 5 to end of list\n",
    "print('my_lst[:5]:', my_lst[:5])             # from beginnning of list (element at index 0) to element at index 4 \n",
    "print('my_lst[:]:', my_lst[:])               # all elements in a list\n",
    "print('my_lst[-1:-8:-1]:', my_lst[-1:-8:-1]) # from last element of list back to element at index -8+1=-7 or len(list)-8+1\n",
    "print('my_lst[-1:-9:-1]:', my_lst[-1:-9:-1]) # from last element of list back to element at index -9+1=-8 or len(list)-9+1"
   ]
  },
  {
   "cell_type": "markdown",
   "metadata": {},
   "source": [
    "__The `del` operator can be used together with slicing to delete multiple elements in a list. Note that this operator changes the original list.__"
   ]
  },
  {
   "cell_type": "code",
   "execution_count": null,
   "metadata": {},
   "outputs": [],
   "source": [
    "'''\n",
    "The del operator can be used together with slicing to delete multiple elements in a list. \n",
    "Note that this operator\n",
    "changes the original list.  \n",
    "'''\n",
    "elements = [\"A\", \"B\", \"C\", \"D\"]\n",
    "del elements[:1]                 # from beginning of list to element at index 0 -> first element\n",
    "print(elements)\n",
    "\n",
    "elements = [\"A\", \"B\", \"C\", \"D\"]\n",
    "del elements[1:3]                # from element at index 1 to element at index 2\n",
    "print(elements)\n",
    "\n",
    "elements = [\"A\", \"B\", \"C\", \"D\"]\n",
    "del elements[1]                  # elemenet at index 1\n",
    "print(elements)"
   ]
  },
  {
   "cell_type": "code",
   "execution_count": null,
   "metadata": {},
   "outputs": [],
   "source": [
    "'''\n",
    "You can copy the contents of one list to another using slicing.\n",
    "'''\n",
    "elements = [\"A\", \"B\", \"C\", \"D\"]\n",
    "new_elements = elements[:]\n",
    "print(new_elements)"
   ]
  },
  {
   "cell_type": "markdown",
   "metadata": {},
   "source": [
    "__List can also be modified using list slicing. This is known as slice assignment and is done by using an appropriate slice expression on the left hand side of the assignment operator. In this notebook, we discuss a few possibilities.  Note that slice assignment is only applicable with mutable objects like lists.  Although tuple slicing and string slicing can be done, slice assignment is not possible with strings and tuples since they are immutable objects.__"
   ]
  },
  {
   "cell_type": "code",
   "execution_count": null,
   "metadata": {},
   "outputs": [],
   "source": [
    "'''\n",
    "if the slice expression on the left hand side has a single subscript, \n",
    "then the length of the list is retained \n",
    "but the value at that subscript is changed\n",
    "'''\n",
    "my_lst = [5, 8, 'hi', 12, 'why']\n",
    "my_lst[2] = 'this'\n",
    "print(my_lst)"
   ]
  },
  {
   "cell_type": "code",
   "execution_count": null,
   "metadata": {},
   "outputs": [],
   "source": [
    "'''\n",
    "if the slice expression has a single subscript, then the element at that index is replaced by a single element\n",
    "'''\n",
    "my_lst = [5, 8, 'hi', 12, 'why']\n",
    "my_lst[2] = ['hello', 'why','there']  #The RHS is added as a single element replacing the element at index 2 in the original list\n",
    "print(my_lst)"
   ]
  },
  {
   "cell_type": "code",
   "execution_count": null,
   "metadata": {},
   "outputs": [],
   "source": [
    "'''\n",
    "if the slice expression is a range of values, those values are replaced by the values on the RHS. Note that the \n",
    "number of elements on the two sides need not match.\n",
    "'''\n",
    "my_lst = [5, 8, 'image', 'hi', 'guide', 12, 'why']\n",
    "my_lst[3:4] = [9, 15, 78, 34] #The number of elements on the LHS (1) does not match the number of elements on the RHS (4)\n",
    "print(my_lst)"
   ]
  },
  {
   "cell_type": "code",
   "execution_count": null,
   "metadata": {},
   "outputs": [],
   "source": [
    "'''\n",
    "if the slice extracted by the slice expression is an empty list, then all elements in \n",
    "the orginal list are retained with some new elements  being inserted into the list.\n",
    "\n",
    "'''\n",
    "my_lst = ['one', 'two', 'three', 'seven', 'eight']\n",
    "my_lst[3:3] = ['four', 'five', 'six'] #insert ['four','five','six'] at index 3\n",
    "print(my_lst)"
   ]
  },
  {
   "cell_type": "code",
   "execution_count": null,
   "metadata": {},
   "outputs": [],
   "source": [
    "'''\n",
    "you can use slice assignment to delete portions of a list\n",
    "'''\n",
    "my_lst = ['one', 'dos', 'tres', 'cuatro', 'two', 'three', 'four', 'five']\n",
    "my_lst[1:4] = []\n",
    "print(my_lst)"
   ]
  }
 ],
 "metadata": {
  "kernelspec": {
   "display_name": "Python 3",
   "language": "python",
   "name": "python3"
  },
  "language_info": {
   "codemirror_mode": {
    "name": "ipython",
    "version": 3
   },
   "file_extension": ".py",
   "mimetype": "text/x-python",
   "name": "python",
   "nbconvert_exporter": "python",
   "pygments_lexer": "ipython3",
   "version": "3.7.6"
  }
 },
 "nbformat": 4,
 "nbformat_minor": 2
}
