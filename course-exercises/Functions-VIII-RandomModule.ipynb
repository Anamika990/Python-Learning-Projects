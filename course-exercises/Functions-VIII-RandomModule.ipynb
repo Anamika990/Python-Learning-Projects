{
 "cells": [
  {
   "cell_type": "markdown",
   "metadata": {},
   "source": [
    "## The `random` module\n",
    "__Another commonly used module is the `random` module__"
   ]
  },
  {
   "cell_type": "code",
   "execution_count": null,
   "metadata": {
    "scrolled": true
   },
   "outputs": [],
   "source": [
    "'''\n",
    "The random() function in the random module generates a pseudorandom floating point number between 0 ≤ x < 1.\n",
    "'''\n",
    "from random import random\n",
    "for j in range(5):\n",
    "    for i in range(5):\n",
    "        print(random())\n",
    "    print()\n"
   ]
  },
  {
   "cell_type": "code",
   "execution_count": null,
   "metadata": {},
   "outputs": [],
   "source": [
    "'''\n",
    "The randrange() function accepts two integer values, x and y, as arguments.  The function will returns a pseudorandom integer \n",
    "value within the specified range. The return value is a number between x and y. x is optional and defaults to 0.\n",
    "'''\n",
    "from random import randrange # We first import the randrange function from the random module\n",
    "for i in range(26):          # This statements defines the loop\n",
    "    print(randrange(10, 21)) # This statement generates a random number between 10 and 20 (inclusive)\n",
    "    print(randrange(12))     # This statement generates a random number between 0 and 11 (inclusive)"
   ]
  },
  {
   "cell_type": "code",
   "execution_count": null,
   "metadata": {},
   "outputs": [],
   "source": [
    "'''\n",
    "The seed() function sets the random number seed.  In the example below, we generate 3 groups of random numbers\n",
    "with each group containing 3 random numbers.  Since we start with the same seed for each group, each group will contain\n",
    "the same 3 random numbers.\n",
    "'''\n",
    "from random import seed, random\n",
    "for i in range(3): # This is the loop for each group\n",
    "    seed(352) #  The seed is the same each time\n",
    "    for j in range(3): #This is the loop for generating a random number\n",
    "        print(random())\n",
    "    print()\n",
    "        "
   ]
  },
  {
   "cell_type": "code",
   "execution_count": null,
   "metadata": {
    "scrolled": true
   },
   "outputs": [],
   "source": [
    "'''\n",
    "The seed() function sets the random number seed.  In the example below, we generate 3 groups of random numbers\n",
    "with each group containing 3 random numbers.  In this cell we start with a different seed each time and therefore, \n",
    "the random numbers across the groups will not be the same.\n",
    "'''\n",
    "from random import seed, random\n",
    "for i in range(3):\n",
    "    seed(i*352) #  The seed is different each time\n",
    "    for j in range(3):\n",
    "        print(random())\n",
    "    print()\n",
    "        "
   ]
  },
  {
   "cell_type": "code",
   "execution_count": null,
   "metadata": {},
   "outputs": [],
   "source": [
    "'''\n",
    "The choice() function randomly selects one element from a collection of elements\n",
    "'''\n",
    "from random import choice\n",
    "for i in range(10):\n",
    "    print(choice(['one', 'two', 'three', 'four', 'five', 'six', 'seven', 'eight', 'nine', 'ten']))"
   ]
  }
 ],
 "metadata": {
  "kernelspec": {
   "display_name": "Python 3",
   "language": "python",
   "name": "python3"
  },
  "language_info": {
   "codemirror_mode": {
    "name": "ipython",
    "version": 3
   },
   "file_extension": ".py",
   "mimetype": "text/x-python",
   "name": "python",
   "nbconvert_exporter": "python",
   "pygments_lexer": "ipython3",
   "version": "3.7.6"
  }
 },
 "nbformat": 4,
 "nbformat_minor": 2
}
