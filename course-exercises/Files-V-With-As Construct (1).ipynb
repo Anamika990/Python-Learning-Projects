{
 "cells": [
  {
   "cell_type": "markdown",
   "metadata": {},
   "source": [
    "### Files - V\n",
    "__In this notebook we introduce the `with/as` construct. Since it is important to always close a file after opening it, Python offers a simpler way to ensure that the file is automatically closed when finished.__"
   ]
  },
  {
   "cell_type": "code",
   "execution_count": null,
   "metadata": {},
   "outputs": [],
   "source": [
    "'''\n",
    "  with/as construct\n",
    "'''\n",
    "with open('TMB.txt', 'r') as f:\n",
    "    for line in f:\n",
    "        print(line, end='')\n",
    "    "
   ]
  },
  {
   "cell_type": "markdown",
   "metadata": {},
   "source": [
    "__Note that we can also use the `readlines()` method to read the contents of the whole file in one go.__  \n",
    "As mentioned earlier, the readlines() method returns a list with each element equal to a line in the file. Of course, this assumes, that the file has multiple lines separated from each other by the newline character."
   ]
  },
  {
   "cell_type": "code",
   "execution_count": null,
   "metadata": {
    "scrolled": true
   },
   "outputs": [],
   "source": [
    "'''\n",
    "  with/as construct along with the readlines() method\n",
    "'''\n",
    "with open('TMB.txt') as f:\n",
    "    lines = f.readlines()\n",
    "    print(lines)"
   ]
  },
  {
   "cell_type": "markdown",
   "metadata": {},
   "source": [
    "__You can then use indexes as needed to extract portions of the file.__"
   ]
  },
  {
   "cell_type": "code",
   "execution_count": null,
   "metadata": {},
   "outputs": [],
   "source": [
    "'''\n",
    "  Print 5th line\n",
    "'''\n",
    "print(lines[5])"
   ]
  }
 ],
 "metadata": {
  "kernelspec": {
   "display_name": "Python 3",
   "language": "python",
   "name": "python3"
  },
  "language_info": {
   "codemirror_mode": {
    "name": "ipython",
    "version": 3
   },
   "file_extension": ".py",
   "mimetype": "text/x-python",
   "name": "python",
   "nbconvert_exporter": "python",
   "pygments_lexer": "ipython3",
   "version": "3.7.6"
  }
 },
 "nbformat": 4,
 "nbformat_minor": 2
}
