{
 "cells": [
  {
   "cell_type": "markdown",
   "metadata": {},
   "source": [
    "## The `continue` statement and the `break` statement\n",
    "__This notebook introduces you to the `continue` statement and the `break` statement.\n",
    "Under normal circumstances the while loop will execute as long as the conditional expression is True.\n",
    "However, sometimes, we want to stop executing the loop based on some intermediate state of the program.\n",
    "In that case, to exit the loop, we use the `break` statement.   When program execution encounters a break statement, \n",
    "it will terminate the loop and continue with code outside the loop.  In other cases, we wish just the current iteration of the loop to be terminated and want execution to continue with the next iteration of the loop.  In such situations, we use the `continue`statement.__\n"
   ]
  },
  {
   "cell_type": "code",
   "execution_count": null,
   "metadata": {},
   "outputs": [],
   "source": [
    "'''\n",
    "This example demonstrates the use of the 'continue' statement.\n",
    "Print the squares of all integers between 1 and 10 except 7, \n",
    "'''\n",
    "\n",
    "n = 1\n",
    "while n <= 10:\n",
    "    if n == 7: \n",
    "        n += 1\n",
    "        continue #Use the continue statement to skip this iteration\n",
    "    print(n**2)\n",
    "    n += 1"
   ]
  },
  {
   "cell_type": "code",
   "execution_count": null,
   "metadata": {},
   "outputs": [],
   "source": [
    "'''\n",
    "This example demonstrates the use of the 'break' statement.\n",
    "In this code, we ask the user to enter a positive integer.  We then print the square of the integer.  We do this \n",
    "as long as the user enters any positive value except 9999.  If the user enters 9999, we stop.\n",
    "But suppose, the user enters a negative value or 0, we terminate the loop using the 'break' statement.\n",
    "'''\n",
    "n = int(input('Enter a positive integer.  Enter 9999 to end: '))\n",
    "while n != 9999:\n",
    "    if n < 1:\n",
    "        print('You entered a non-positive value.  We are done!!')\n",
    "        break\n",
    "    print(n**2)\n",
    "    n = int(input('Enter a positive integer.  Enter 9999 to end: '))\n",
    "print('Done')"
   ]
  },
  {
   "cell_type": "code",
   "execution_count": null,
   "metadata": {},
   "outputs": [],
   "source": [
    "'''\n",
    "This is another example of the use of the 'break' in a while loop.\n",
    "The while loop will execute as long as the user enters any value but 'done'.\n",
    "This example is just to demonstrate the use of the break statement.  Note that we could have written this code \n",
    "using just a normal while loop.\n",
    "Also notice the conditional expression in the while loop.  This expression will always be True. Therefore, if we did \n",
    "not have the 'break' statement inside the loop, we would get an infinite loop.\n",
    "'''\n",
    "while True:\n",
    "    line = input(\"enter a string.  Enter 'done' to end: \")\n",
    "    if line == 'done':\n",
    "        break\n",
    "    print(line)\n",
    "    "
   ]
  }
 ],
 "metadata": {
  "kernelspec": {
   "display_name": "Python 3",
   "language": "python",
   "name": "python3"
  },
  "language_info": {
   "codemirror_mode": {
    "name": "ipython",
    "version": 3
   },
   "file_extension": ".py",
   "mimetype": "text/x-python",
   "name": "python",
   "nbconvert_exporter": "python",
   "pygments_lexer": "ipython3",
   "version": "3.7.6"
  }
 },
 "nbformat": 4,
 "nbformat_minor": 2
}
