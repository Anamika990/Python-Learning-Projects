{
 "cells": [
  {
   "cell_type": "markdown",
   "metadata": {
    "collapsed": true
   },
   "source": [
    "### Files - VII\n",
    "__In this notebook we will discuss how to read objects written to a binary file. We again use the `pickle` module.\n",
    "This time though, we will use the `load()` function.  The `load()` function accepts just one argument, the file handle.\n",
    "The file is opened with mode = 'rb' for <font color = blue>'read binary'</font>.__"
   ]
  },
  {
   "cell_type": "markdown",
   "metadata": {},
   "source": [
    "__if we knew the exact number of objects written to the file, we can use a for loop.  But most times, we will not know this. We get around this situation by enclosing our reading of the file inside a `try/except` block.  \n",
    "We then create an indefinite loop that will keep reading the next object in the file.  Eventually, all objects will be read and the pickle module's `load` statement will encounter an end of file situation, resulting in an `EOFError` exception.  \n",
    "When this happens, code execution will transfer to the line after the 'except EOFError' line.  There we close the file and exit the program gracefully.__"
   ]
  },
  {
   "cell_type": "code",
   "execution_count": null,
   "metadata": {},
   "outputs": [],
   "source": [
    "'''\n",
    "  Read back the automobile objects we wrote earlier.\n",
    "'''\n",
    "#import the modules\n",
    "import pickle\n",
    "from automobile import Automobile\n",
    "\n",
    "with open('autos.dat', 'rb') as fb:\n",
    "    try: # start of the try block\n",
    "        while (True): # this while loop will be alway entered since the conditional expression will always be True\n",
    "            auto = pickle.load(fb) #use the pickle module's load statement to read the object\n",
    "            print(auto) #print the object (or do whatever processing you want of the object)\n",
    "    except EOFError: #code execution will transfer here when the EOF condition is encountered    \n",
    "        '''\n",
    "        The next statement is required.  Since the syntax of the except clause (which we will discuss later) requires a \n",
    "        statement. However, we really do not need anything done here.  The 'pass' is a null operation. \n",
    "        '''\n",
    "        pass "
   ]
  }
 ],
 "metadata": {
  "kernelspec": {
   "display_name": "Python 3",
   "language": "python",
   "name": "python3"
  },
  "language_info": {
   "codemirror_mode": {
    "name": "ipython",
    "version": 3
   },
   "file_extension": ".py",
   "mimetype": "text/x-python",
   "name": "python",
   "nbconvert_exporter": "python",
   "pygments_lexer": "ipython3",
   "version": "3.7.6"
  }
 },
 "nbformat": 4,
 "nbformat_minor": 2
}
