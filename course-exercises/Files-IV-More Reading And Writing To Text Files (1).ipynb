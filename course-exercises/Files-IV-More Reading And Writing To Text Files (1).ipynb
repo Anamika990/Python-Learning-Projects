{
 "cells": [
  {
   "cell_type": "markdown",
   "metadata": {
    "collapsed": true
   },
   "source": [
    "### Files - IV\n",
    "__In this notebook we revisit reading and writing from/to text files.__"
   ]
  },
  {
   "cell_type": "markdown",
   "metadata": {},
   "source": [
    "__This cell demonstrates the effects of writing to a text file without including the newline character \n",
    "at the end of each line.__"
   ]
  },
  {
   "cell_type": "code",
   "execution_count": null,
   "metadata": {},
   "outputs": [],
   "source": [
    "'''\n",
    "  Write a few lines to a text file without including the newline character\n",
    "'''\n",
    "f = open('out.txt', 'w')\n",
    "for i in range(11):\n",
    "    f.write('This is line ' + str(i)) # Note there is no newline character\n",
    "f.close() #close the file\n",
    "\n",
    "\n",
    "'''\n",
    "Read back the data and check how many lines have been printed out.  It can be seen that a single line is printed out.\n",
    "The value of 'count' also demonstrates that the 'for' loop is entered just one time.\n",
    "'''\n",
    "f = open('out.txt')\n",
    "count = 0\n",
    "for i in f:\n",
    "    count += 1\n",
    "    print(i)\n",
    "f.close()\n",
    "print('count = ', count)\n",
    "print('done')"
   ]
  },
  {
   "cell_type": "markdown",
   "metadata": {},
   "source": [
    "__However, like we saw earlier, when the data is written to the text file with a newline character at the end,\n",
    "each line is displayed separately when the file is read.__"
   ]
  },
  {
   "cell_type": "code",
   "execution_count": null,
   "metadata": {},
   "outputs": [],
   "source": [
    "'''\n",
    "  Write a few lines to a text file with a newline character at the end,\n",
    "  so that each line is displayed separately when the file is read.\n",
    "'''\n",
    "#Write to the text file\n",
    "f = open('out.txt', 'w')\n",
    "for i in range(11):\n",
    "    f.write('This is line ' + str(i) + '\\n') # Note the newline character\n",
    "f.close()\n",
    "\n",
    "#Read from the text file\n",
    "f = open('out.txt')\n",
    "count = 0\n",
    "for i in f:\n",
    "    count += 1\n",
    "    print(i)\n",
    "f.close()\n",
    "print('count = ', count) \n",
    "print('done')"
   ]
  },
  {
   "cell_type": "markdown",
   "metadata": {},
   "source": [
    "__The `readlines()` method offers another way for reading lines from a text file. It returns a <font color = blue>list</font> where each line is an element in the list.  \n",
    "Elements of the list are <font color = blue>packed</font>, and then <font color = blue>unpacked</font> using the <font color = blue>'for' loop</font> iterator.__"
   ]
  },
  {
   "cell_type": "code",
   "execution_count": null,
   "metadata": {},
   "outputs": [],
   "source": [
    "'''\n",
    "  Use of the readlines() method\n",
    "'''\n",
    "#write to the file\n",
    "f = open('out.txt', 'w')\n",
    "for i in range(11):\n",
    "    f.write('This is line ' + str(i) + '\\n') # Note the newline character\n",
    "f.close()\n",
    "\n",
    "#read back from the file\n",
    "f = open('out.txt')\n",
    "lines = f.readlines()\n",
    "\n",
    "print(type(lines))\n",
    "for i in lines:\n",
    "    print(i)\n",
    "f.close()"
   ]
  }
 ],
 "metadata": {
  "kernelspec": {
   "display_name": "Python 3",
   "language": "python",
   "name": "python3"
  },
  "language_info": {
   "codemirror_mode": {
    "name": "ipython",
    "version": 3
   },
   "file_extension": ".py",
   "mimetype": "text/x-python",
   "name": "python",
   "nbconvert_exporter": "python",
   "pygments_lexer": "ipython3",
   "version": "3.7.6"
  }
 },
 "nbformat": 4,
 "nbformat_minor": 2
}
