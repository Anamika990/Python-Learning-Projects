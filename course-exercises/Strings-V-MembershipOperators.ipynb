{
 "cells": [
  {
   "cell_type": "markdown",
   "metadata": {},
   "source": [
    "## Strings - Membership Operators\n",
    "__This notebook introduces the membership operators.__\n",
    "1. in          --         Evaluates to true if it finds a value in the specified sequence and false otherwise.\n",
    "2. not in      --         Evaluates to true if it does not finds a value in the specified sequence and false otherwise.\n"
   ]
  },
  {
   "cell_type": "code",
   "execution_count": null,
   "metadata": {},
   "outputs": [],
   "source": [
    "'''\n",
    "The \"in\" operator can be used to check whether or not a string (string1) contains another string (string2).  \n",
    "It returns True if it is there and False if it is not\n",
    "'''\n",
    "game = 'basketball'\n",
    "print('k' in game)       #  Will return True\n",
    "print('K' in game)       #  Will return False\n",
    "print('kat' in game)     #  Will return False\n",
    "print('ket' in game)     #  Will return True"
   ]
  },
  {
   "cell_type": "code",
   "execution_count": null,
   "metadata": {},
   "outputs": [],
   "source": [
    "'''\n",
    "The \"not in\" operator is similar to the \"in\" operator.  However, it returns False if string1 contains string2 \n",
    "and returns True only if string1 does not contain string2\n",
    "'''\n",
    "game = 'basketball'\n",
    "print('k' not in game)       #  Will return False\n",
    "print('K' not in game)         #  Will return True\n",
    "print('kat' not in game)       #  Will return True\n",
    "print('ket' not in game)       #  Will return False"
   ]
  }
 ],
 "metadata": {
  "kernelspec": {
   "display_name": "Python 3",
   "language": "python",
   "name": "python3"
  },
  "language_info": {
   "codemirror_mode": {
    "name": "ipython",
    "version": 3
   },
   "file_extension": ".py",
   "mimetype": "text/x-python",
   "name": "python",
   "nbconvert_exporter": "python",
   "pygments_lexer": "ipython3",
   "version": "3.7.6"
  }
 },
 "nbformat": 4,
 "nbformat_minor": 2
}
