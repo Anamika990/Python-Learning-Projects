{
 "cells": [
  {
   "cell_type": "markdown",
   "metadata": {},
   "source": [
    "## List Basics\n",
    "__In this course we will study four data structures in Python: `lists`, `tuples`, `sets`, and `dictionaries`. They are called sequences because they hold sequences of elements. These data structures are also called `iterables`, because one can loop through them one value at a time.  Generally speaking, `iterables` are anything that can be looped over (i.e. you can loop over a string or file).  We also use the term `containers` to refer to them.__\n"
   ]
  },
  {
   "cell_type": "markdown",
   "metadata": {},
   "source": [
    "__This notebook introduces the first of the data structures discussed above - `lists`.  Lists are a sequence of elements enclosed in square brackets and separated by commas.  There is a lot of similarity between lists and strings but also some important differences.__\n",
    "\n",
    "__Below is a brief comparison between Lists and Strings.__\n",
    "\n",
    "__Differences between Strings and Lists:__\n",
    "1.  Strings are immutable while lists are mutable.  That means individual elements of a list can be changed as needed.\n",
    "2.  Strings can only contain a sequence of characters while list are a sequence of any combination of numbers, strings, \n",
    "    lists, and other data structures.\n",
    "\n",
    "__Similarities between String and Lists:__\n",
    "3.  Like strings, individual elements of a list can be accessed using the appropriate index. This is because lists, like \n",
    "    strings are an ordered collection.\n",
    "4.  The len() function can also be applied on lists to find the number of elements in a list.\n",
    "5.  List slicing works exactly like string slicing and can be used to extract portions of a list.\n",
    "6.  List traversal can be done using the for construct just like we did in the case of string traversal. \n"
   ]
  },
  {
   "cell_type": "code",
   "execution_count": null,
   "metadata": {},
   "outputs": [],
   "source": [
    "'''\n",
    "    This example displays a few list constants.  \n",
    "'''\n",
    "from random import random\n",
    "print([15,22,32,25,11])\n",
    "print([random(), random(), random(), random(), random()])\n",
    "print(['a', 'e', 'i', 'o', 'u'])\n"
   ]
  },
  {
   "cell_type": "code",
   "execution_count": null,
   "metadata": {},
   "outputs": [],
   "source": [
    "'''\n",
    "    List variables can be created by assigning a list constant to a variable name.\n",
    "    Note that a list can contain elements of different types including other lists.  \n",
    "'''\n",
    "test_lst = ['5', 4, 3.3, 2, '1', True, [8,9], (5, 9)]\n",
    "print(test_lst)"
   ]
  },
  {
   "cell_type": "code",
   "execution_count": null,
   "metadata": {},
   "outputs": [],
   "source": [
    "'''\n",
    "    List elements can be any valid Python element; int, float, strings, other lists, expressions, etc. \n",
    "'''\n",
    "def fn(n):\n",
    "    return n**2\n",
    "x = 5 \n",
    "y = 8\n",
    "z = [x,y]\n",
    "u = [x,y,z,x+12, fn(5)]\n",
    "print(z)\n",
    "print(u)"
   ]
  }
 ],
 "metadata": {
  "kernelspec": {
   "display_name": "Python 3",
   "language": "python",
   "name": "python3"
  },
  "language_info": {
   "codemirror_mode": {
    "name": "ipython",
    "version": 3
   },
   "file_extension": ".py",
   "mimetype": "text/x-python",
   "name": "python",
   "nbconvert_exporter": "python",
   "pygments_lexer": "ipython3",
   "version": "3.7.6"
  }
 },
 "nbformat": 4,
 "nbformat_minor": 2
}
