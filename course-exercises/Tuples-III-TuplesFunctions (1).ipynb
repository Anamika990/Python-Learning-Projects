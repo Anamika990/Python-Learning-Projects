{
 "cells": [
  {
   "cell_type": "markdown",
   "metadata": {},
   "source": [
    "## Buitin Tuple functions\n",
    "__In this notebook, we will cover many of the same built-in functions that we have seen earlier.  __\n",
    "1. `len()` : Used to find the number of elements in a sequence\n",
    "2. `tuple()`:  Used to create a tuple\n",
    "3. `min()`:  Note that the min function can be applied to both numeric as well as alpha numeric values as well as to lists.  \n",
    "           However, the min() function requires that all elements be of the same type.\n",
    "4. `max()`: Note that the max function can be applied to both numeric as well as alpha numeric values as well as to lists.  \n",
    "           However, the max() function requires that all elements be of the same type.\n",
    "5. `sum()`: Used to sum up the values in a tuple.  Works only with numeric values.\n",
    "6. membership operators. `in` and `not in`"
   ]
  },
  {
   "cell_type": "markdown",
   "metadata": {},
   "source": [
    "__You can find the number of elements in a tuple, using the `len()` function.  You can traverse a tuple using the 'for' construct together with the `range()` function.__"
   ]
  },
  {
   "cell_type": "code",
   "execution_count": null,
   "metadata": {},
   "outputs": [],
   "source": [
    "my_new_tuple2 = ('a', 'b', 'c', 'd')\n",
    "for i in range(len(my_new_tuple2)): \n",
    "    print(my_new_tuple2[i])\n",
    "print()"
   ]
  },
  {
   "cell_type": "markdown",
   "metadata": {},
   "source": [
    "__Tuple traversal can also be done in the following manner and like with lists is the preferred approach.__"
   ]
  },
  {
   "cell_type": "code",
   "execution_count": null,
   "metadata": {},
   "outputs": [],
   "source": [
    "my_new_tuple2 = ('a', 'b', 'c', 'd')\n",
    "for j in my_new_tuple2:\n",
    "    print(j)"
   ]
  },
  {
   "cell_type": "markdown",
   "metadata": {},
   "source": [
    "__Tuples can be created from strings by using the `tuple()` function.__"
   ]
  },
  {
   "cell_type": "code",
   "execution_count": null,
   "metadata": {},
   "outputs": [],
   "source": [
    "my_new_tuple = tuple(\"Creating a list from a string\")\n",
    "print(my_new_tuple)\n",
    "my_new_tuple2 = tuple(\"2345678\")\n",
    "print(my_new_tuple2)\n"
   ]
  },
  {
   "cell_type": "markdown",
   "metadata": {},
   "source": [
    "__To find the element in a list with the highest value, use the `max()` function.  Note that the max function can be applied to both numeric as well as alpha numeric values as well as to lists.  However, the `max()` function requires that all elements be of the same type.__"
   ]
  },
  {
   "cell_type": "code",
   "execution_count": null,
   "metadata": {},
   "outputs": [],
   "source": [
    "my_new_tuple = tuple(range(0, 120, 10))\n",
    "print(max(my_new_tuple))"
   ]
  },
  {
   "cell_type": "markdown",
   "metadata": {},
   "source": [
    "__To find the element in a list with the smallest value, use the `min()` function.  Note that the min function can be applied to both numeric as well as alpha numeric values.  as well as to lists.  However, the `min()` function\n",
    "requires that all elements be of the same type.__"
   ]
  },
  {
   "cell_type": "code",
   "execution_count": null,
   "metadata": {},
   "outputs": [],
   "source": [
    "my_new_tuple = tuple(range(0, 120, 10))\n",
    "print(min(my_new_tuple))"
   ]
  },
  {
   "cell_type": "markdown",
   "metadata": {},
   "source": [
    "__To find the total of the elements in a list, use the `sum()` function.  The sum function cannot be applied to tuples containing non-numeric values.__"
   ]
  },
  {
   "cell_type": "code",
   "execution_count": null,
   "metadata": {},
   "outputs": [],
   "source": [
    "my_new_tuple = tuple(range(0, 120, 10))\n",
    "print(sum(my_new_tuple))"
   ]
  },
  {
   "cell_type": "markdown",
   "metadata": {},
   "source": [
    "__The `sum()` function accepts an optional start paramter.  If provided, the start value is added to the total.__"
   ]
  },
  {
   "cell_type": "code",
   "execution_count": null,
   "metadata": {},
   "outputs": [],
   "source": [
    "my_new_tuple = tuple(range(0, 120, 10))\n",
    "print(sum(my_new_tuple, 15))"
   ]
  },
  {
   "cell_type": "markdown",
   "metadata": {},
   "source": [
    "__The `in` and `not in` operators, referred to as membership operators are used to specify whether or not an element is \n",
    "in a tuple.__"
   ]
  },
  {
   "cell_type": "code",
   "execution_count": null,
   "metadata": {},
   "outputs": [],
   "source": [
    "my_tuple = (10, 20, 30, 40, 50 )\n",
    "print(10 in my_tuple)\n",
    "print(54 in my_tuple)\n",
    "\n",
    "print(10 not in my_tuple)\n",
    "print(54 not in my_tuple)"
   ]
  }
 ],
 "metadata": {
  "kernelspec": {
   "display_name": "Python 3",
   "language": "python",
   "name": "python3"
  },
  "language_info": {
   "codemirror_mode": {
    "name": "ipython",
    "version": 3
   },
   "file_extension": ".py",
   "mimetype": "text/x-python",
   "name": "python",
   "nbconvert_exporter": "python",
   "pygments_lexer": "ipython3",
   "version": "3.7.6"
  }
 },
 "nbformat": 4,
 "nbformat_minor": 2
}
