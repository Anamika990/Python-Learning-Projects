{
 "cells": [
  {
   "cell_type": "markdown",
   "metadata": {},
   "source": [
    "## Accessing Lists and Comparing Lists\n",
    "__In this notebook we look at some more examples using lists:__\n",
    "1.  Accessing elements of a list\n",
    "2.  Comparing lists with strings.  specifically, we demonstrate that lists are mutable but strings are not.\n"
   ]
  },
  {
   "cell_type": "markdown",
   "metadata": {},
   "source": [
    "__Lists can be accessed using idexes, just like we did for strings.  As in the case of strings, the index begins at 0 and ends at a value one less than the number of items in the list.  Negative indexes can also be used to start the list from the end working backwards.__"
   ]
  },
  {
   "cell_type": "code",
   "execution_count": null,
   "metadata": {},
   "outputs": [],
   "source": [
    "\n",
    "list1 = ['physics', 'chemistry', 1997, 2000]\n",
    "list2 = [1, 2, 3, 4, 5, 6, 7 ]\n",
    "print(list1)\n",
    "print(list2)\n",
    "print(list1[3])\n",
    "print(list2[-7])"
   ]
  },
  {
   "cell_type": "markdown",
   "metadata": {},
   "source": [
    "__Unlike strings, lists are mutable. This means that individual elements of a list can be changed or removed. However, since strings are immutable (or not mutable), the same cannot be done with strings.__"
   ]
  },
  {
   "cell_type": "markdown",
   "metadata": {},
   "source": [
    "__The `list()` function can be used to convert a valid sequence to a list.  Since strings are sequences, they can also be\n",
    "converted to a list.__"
   ]
  },
  {
   "cell_type": "code",
   "execution_count": null,
   "metadata": {},
   "outputs": [],
   "source": [
    "my_str = 'Hello, I am immutable'\n",
    "my_lst = list('Hello, I am mutable') \n",
    "print(my_str)\n",
    "print(my_lst)\n",
    "print('my_str',my_str[10]) #Extract the character at the 10th index from the string.\n",
    "print('my_lst', my_lst[10]) #Extract the character at the 10th index from the list.\n",
    "\n",
    "my_str[10] = 'n'  #Since strings are immutable, this statement will result in an error.\n",
    "my_lst[10] = 'n'   #Since lists are mutable, this statement is valid.\n",
    "print(my_lst)"
   ]
  }
 ],
 "metadata": {
  "kernelspec": {
   "display_name": "Python 3",
   "language": "python",
   "name": "python3"
  },
  "language_info": {
   "codemirror_mode": {
    "name": "ipython",
    "version": 3
   },
   "file_extension": ".py",
   "mimetype": "text/x-python",
   "name": "python",
   "nbconvert_exporter": "python",
   "pygments_lexer": "ipython3",
   "version": "3.7.6"
  }
 },
 "nbformat": 4,
 "nbformat_minor": 2
}
