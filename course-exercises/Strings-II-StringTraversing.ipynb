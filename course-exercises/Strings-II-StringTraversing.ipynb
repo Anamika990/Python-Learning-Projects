{
 "cells": [
  {
   "cell_type": "markdown",
   "metadata": {},
   "source": [
    "## String Traversal\n",
    "__This notebook demonstrates how you can use the for construct to traverse a string.  The ``for construct can be applied to go through each character in a string and process it as desired.__"
   ]
  },
  {
   "cell_type": "code",
   "execution_count": null,
   "metadata": {},
   "outputs": [],
   "source": [
    "''' \n",
    "Write a program to traverse a string and count the number of times the character 'b' appears in it.\n",
    "'''\n",
    "my_str = input('Enter a string: ')\n",
    "b_count = 0\n",
    "\n",
    "#In each iteration of the loop, the next character in my_str is assigned to the variable `cur_char`\n",
    "for cur_char in my_str:\n",
    "    if cur_char == 'b':\n",
    "        b_count +=1\n",
    "print('The number of times \"b\" appears in the input string is:', str(b_count))"
   ]
  }
 ],
 "metadata": {
  "kernelspec": {
   "display_name": "Python 3",
   "language": "python",
   "name": "python3"
  },
  "language_info": {
   "codemirror_mode": {
    "name": "ipython",
    "version": 3
   },
   "file_extension": ".py",
   "mimetype": "text/x-python",
   "name": "python",
   "nbconvert_exporter": "python",
   "pygments_lexer": "ipython3",
   "version": "3.7.6"
  }
 },
 "nbformat": 4,
 "nbformat_minor": 2
}
