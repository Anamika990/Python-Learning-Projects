{
 "cells": [
  {
   "cell_type": "markdown",
   "metadata": {},
   "source": [
    "## Documenting Functions\n",
    "__It is good practice to document your functions.  Include a brief description of what the function does, \n",
    "the parameters it requires and the return value if any.  In Python, documentation for a function is \n",
    " provided as a docstring.  A docstring is a multiline comment.  The line begins with a capital letter and ends\n",
    " with a period.  The first sentence is a short description of the function.  The second line is blank followed\n",
    " by a more detailed description of the function.  Note that the documentation for a function should follow the rules of indentation.__\n",
    " \n",
    "__You can print out the docstring associated with each function using the \\_\\_doc\\_\\_ attribute.__"
   ]
  },
  {
   "cell_type": "code",
   "execution_count": null,
   "metadata": {},
   "outputs": [],
   "source": [
    "def print_triangle(s):\n",
    "    '''\n",
    "        This function print out a right triangle with *\\'s.\n",
    "        \n",
    "        Parameters: It accepts one parameter which is an integer value.\n",
    "        Return Value: There is no return value.\n",
    "    '''\n",
    "    for i in range(1, s+1):\n",
    "        for j in range(1,i+1):\n",
    "            print('*', end='')\n",
    "        print() "
   ]
  },
  {
   "cell_type": "code",
   "execution_count": null,
   "metadata": {},
   "outputs": [],
   "source": [
    "print(print_triangle.__doc__)    #This will print out the docstring associated with the function.   "
   ]
  },
  {
   "cell_type": "code",
   "execution_count": null,
   "metadata": {},
   "outputs": [],
   "source": [
    "def sum1(n):\n",
    "    '''\n",
    "        This function prints out the sum of the first n integers.\n",
    "        \n",
    "        Parameters:  It has one parameter which is the value of n.\n",
    "        Return value:  The return value is the sum of the first n integers.\n",
    "    '''\n",
    "    s = 0\n",
    "    for i in range(1, n+1):\n",
    "        s += i\n",
    "    return s"
   ]
  },
  {
   "cell_type": "code",
   "execution_count": null,
   "metadata": {},
   "outputs": [],
   "source": [
    "print(sum1.__doc__)"
   ]
  },
  {
   "cell_type": "code",
   "execution_count": null,
   "metadata": {},
   "outputs": [],
   "source": [
    "'''\n",
    "You can use the __doc__ attribute to learn more about the functions in a module after first importing the function.\n",
    "'''\n",
    "from math import sqrt\n",
    "print(sqrt.__doc__)"
   ]
  },
  {
   "cell_type": "code",
   "execution_count": null,
   "metadata": {},
   "outputs": [],
   "source": [
    "'''\n",
    "You can use the help() function to learn more about the contents of the entire module after first importing the module.\n",
    "'''\n",
    "import math\n",
    "help(math)"
   ]
  },
  {
   "cell_type": "code",
   "execution_count": null,
   "metadata": {},
   "outputs": [],
   "source": [
    "'''\n",
    "You can use the help() function on modules you created.\n",
    "'''\n",
    "import my_arithmetic\n",
    "help(my_arithmetic)"
   ]
  }
 ],
 "metadata": {
  "kernelspec": {
   "display_name": "Python 3",
   "language": "python",
   "name": "python3"
  },
  "language_info": {
   "codemirror_mode": {
    "name": "ipython",
    "version": 3
   },
   "file_extension": ".py",
   "mimetype": "text/x-python",
   "name": "python",
   "nbconvert_exporter": "python",
   "pygments_lexer": "ipython3",
   "version": "3.7.6"
  }
 },
 "nbformat": 4,
 "nbformat_minor": 2
}
