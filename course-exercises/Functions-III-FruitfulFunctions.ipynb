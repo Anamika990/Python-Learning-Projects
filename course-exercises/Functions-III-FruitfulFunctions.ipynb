{
 "cells": [
  {
   "cell_type": "markdown",
   "metadata": {},
   "source": [
    "## Fruitful Functions\n",
    "__Functions which return a value are called `fruitful` functions while those which return nothing are called 'void' functions It is important to store the return value of fruitful functions for future use.__"
   ]
  },
  {
   "cell_type": "code",
   "execution_count": null,
   "metadata": {},
   "outputs": [],
   "source": [
    "def square_n(n):\n",
    "    return n**2 #square() returns a value and is therefore a fruitful function\n",
    "\n",
    "def print_str(my_str):\n",
    "    print(my_str) # print_str() is not a fruitful function. Note that the print() function is also not a fruitful function.\n",
    "\n",
    "def main():\n",
    "    square_n(15) # Just calling a fruitful function without storing the return value means that the results will be lost\n",
    "\n",
    "main()\n"
   ]
  },
  {
   "cell_type": "code",
   "execution_count": null,
   "metadata": {},
   "outputs": [],
   "source": [
    "\n",
    "def square_n(n):\n",
    "    return n**2 #square() returns a value and is therefore a fruitful function\n",
    "\n",
    "def print_str(my_str):\n",
    "    print(my_str) # Neither print_str() nor the print() function are fruitful functions.\n",
    "\n",
    "def main():\n",
    "    my_result = square_n(15) # You need to store the returned value of a fruitful function to make it available in the future\n",
    "    print(my_result)\n",
    "\n",
    "main()\n"
   ]
  },
  {
   "cell_type": "code",
   "execution_count": null,
   "metadata": {},
   "outputs": [],
   "source": [
    "\n",
    "def square_n(n):\n",
    "    return n**2 #square() returns a value and is therefore a fruitful function\n",
    "\n",
    "def print_str(my_str):\n",
    "    print(my_str) # print_str() is not a fruitful function. Note that the print() function is also not a fruitful function.\n",
    "\n",
    "def main():\n",
    "    print_str(\"Hello\") # This is a void function and hence there is no result to be stored\n",
    "    s = print_str('Hello') #What is returned by a void function?\n",
    "    print(s)\n",
    "\n",
    "main()\n"
   ]
  }
 ],
 "metadata": {
  "kernelspec": {
   "display_name": "Python 3",
   "language": "python",
   "name": "python3"
  },
  "language_info": {
   "codemirror_mode": {
    "name": "ipython",
    "version": 3
   },
   "file_extension": ".py",
   "mimetype": "text/x-python",
   "name": "python",
   "nbconvert_exporter": "python",
   "pygments_lexer": "ipython3",
   "version": "3.7.6"
  }
 },
 "nbformat": 4,
 "nbformat_minor": 2
}
