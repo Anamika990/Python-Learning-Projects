{
 "cells": [
  {
   "cell_type": "markdown",
   "metadata": {},
   "source": [
    "## Accessing Tuples.  The Immutability of Tuples\n",
    "__This notebook looks at__\n",
    "1. how tuples can be accessed - using positive or negative indexes just like in the case of strings and lists.  \n",
    "   This is because tuples, like strings and lists, are an ordered collection of items.\n",
    "2. the immutability of tuples - you cannot alter the contents of a tuple.\n",
    "\n",
    "__However, it is important to understand that if an individual element of a tuple is mutable, then the contents of  that element can be altered inside a tuple.__\n"
   ]
  },
  {
   "cell_type": "markdown",
   "metadata": {},
   "source": [
    "__Tuples can be accessed using indexes, just like we did for strings and lists.  As in the case of strings and lists, the index begins at 0 and ends at a value one less than the number of items in the tuple.  Negative indexes can also be used.__"
   ]
  },
  {
   "cell_type": "code",
   "execution_count": null,
   "metadata": {},
   "outputs": [],
   "source": [
    "tuple1 = ('physics', 'chemistry', 1997, 2000)\n",
    "tuple2 = (1, 2, 3, 4, 5, 6, 7 )\n",
    "print(tuple1)\n",
    "print(tuple2)\n",
    "print(tuple1[3])\n",
    "print(tuple2[-7])"
   ]
  },
  {
   "cell_type": "markdown",
   "metadata": {},
   "source": [
    "__Like strings, tuples are also immutable.  This means that individual elements of a tuple cannot be changed or removed.   Remember however, this is not true for lists.  Lists are mutable.__\n",
    "\n",
    "__Once a tuple is created, we cannot change its contents by adding new values or deleting existing values. You cannot change elements in a tuple by replacing one element with another.  Hence statements attempting to change a tuple are not valid and will generate errors.__"
   ]
  },
  {
   "cell_type": "code",
   "execution_count": null,
   "metadata": {},
   "outputs": [],
   "source": [
    "my_str = 'this is a test'\n",
    "my_int = 45\n",
    "my_list =[4,8,9,10]\n",
    "my_tuple = (my_str, my_int, my_list, 67, 'hello', [5,9,11])\n",
    "my_list[3] = 18\n",
    "print(my_list)\n",
    "my_tuple[3] = 18 # will generate an error"
   ]
  },
  {
   "cell_type": "markdown",
   "metadata": {},
   "source": [
    "__Tuples are immutable.  Therefore if individual elements of a tuple are assigned different values, the tuple still remains unchanged.__"
   ]
  },
  {
   "cell_type": "code",
   "execution_count": null,
   "metadata": {},
   "outputs": [],
   "source": [
    "my_str = 'this is a test'\n",
    "my_int = 45\n",
    "my_list =[4,8,9,10]\n",
    "\n",
    "my_tuple = (my_str, my_int, my_list, 67, 'hello', [5,9,11])\n",
    "print(my_tuple)\n",
    "\n",
    "my_str = 'this string is now different' \n",
    "my_int = 78\n",
    "my_list = [15, 20]\n",
    "\n",
    "print(my_tuple) \n",
    "print(my_list)"
   ]
  },
  {
   "cell_type": "markdown",
   "metadata": {},
   "source": [
    "__However, it is important to understand that if the individual element of a tuple is mutable, than the contents of that element can be altered and this will be reflected in the contents of the tuple as well.__  \n",
    "__Look at the tuple, `my_tuple`, created below. `my_str`, `my_int`, the string literal and the integer constant are all immutable. However, `my_list`, the list constant is mutable. We can change the list contents inside the tuple as shown below.__"
   ]
  },
  {
   "cell_type": "code",
   "execution_count": null,
   "metadata": {},
   "outputs": [],
   "source": [
    "my_str = 'this is a test'\n",
    "my_int = 45\n",
    "my_list =[4,8,9,10]\n",
    "\n",
    "my_tuple = (my_str, my_int, my_list, 67, 'hello', [5,9,11])\n",
    "print(my_tuple)\n",
    "\n",
    "'''\n",
    "If the contents of a mutable element in a tuple are changed,\n",
    "this change is also reflected when we look at the tuple directly\n",
    "'''\n",
    "my_tuple[2][2] = 15\n",
    "print(my_tuple)\n",
    "\n",
    "my_list[3] = 16\n",
    "print(my_tuple)"
   ]
  }
 ],
 "metadata": {
  "kernelspec": {
   "display_name": "Python 3",
   "language": "python",
   "name": "python3"
  },
  "language_info": {
   "codemirror_mode": {
    "name": "ipython",
    "version": 3
   },
   "file_extension": ".py",
   "mimetype": "text/x-python",
   "name": "python",
   "nbconvert_exporter": "python",
   "pygments_lexer": "ipython3",
   "version": "3.7.6"
  }
 },
 "nbformat": 4,
 "nbformat_minor": 2
}
