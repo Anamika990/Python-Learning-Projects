{
 "cells": [
  {
   "cell_type": "markdown",
   "metadata": {},
   "source": [
    "## List Comprehension\n",
    "\n",
    "__This notebook introduces you to the basics of list comprehension.__ \n",
    "\n",
    "__List comprehensions provide a concise way to create lists.   It consists of square brackets containing an expression followed by a for clause, then zero or more `for` or `if` clauses.  The result will be a new list.__\n",
    "\n",
    "__List comprehension starts with a `[` and `]`, to help you remember that the result is going to be a list.__\n",
    "\n",
    "The syntax is:\n",
    "   `[expression for item in list if conditional ]`\n"
   ]
  },
  {
   "cell_type": "code",
   "execution_count": null,
   "metadata": {},
   "outputs": [],
   "source": [
    "'''\n",
    "Create a list of integers between 18 and 27 (inclusive)\n",
    "'''\n",
    "my_lst = [x for x in range(8, 14)]\n",
    "print(my_lst)"
   ]
  },
  {
   "cell_type": "code",
   "execution_count": null,
   "metadata": {},
   "outputs": [],
   "source": [
    "'''\n",
    "Create a list that contains the squares of the integers between 18 and 27 (inclusive)\n",
    "'''\n",
    "my_lst = [x**2 for x in range(8, 14)]\n",
    "print(my_lst)"
   ]
  },
  {
   "cell_type": "code",
   "execution_count": null,
   "metadata": {},
   "outputs": [],
   "source": [
    "'''\n",
    "Create a new list consisting of all the non-string values from my_lst\n",
    "'''\n",
    "my_lst = ['ABC', 23.4, 7, 'Wow', 16, 'xyz', 10]\n",
    "new_lst = [x for x in my_lst if type(x) != str]\n",
    "print(new_lst)"
   ]
  },
  {
   "cell_type": "code",
   "execution_count": null,
   "metadata": {},
   "outputs": [],
   "source": [
    "'''\n",
    "print the first character of each word in the input list\n",
    "'''\n",
    "listOfWords = [\"this\",\"is no there\",\"apples\",\"List\",\"Tf\",\"words\"]\n",
    "new_list = [word.lower() if len(word) % 2 == 0\n",
    "            else word.upper() \n",
    "            for word in listOfWords \n",
    "            if len(word) <=5]\n",
    "print(new_list)"
   ]
  },
  {
   "cell_type": "code",
   "execution_count": null,
   "metadata": {},
   "outputs": [],
   "source": [
    "'''\n",
    "list comprehension can also be used on functions \n",
    "'''\n",
    "\n",
    "'''\n",
    "Suppose we have the following function which accepts an integer and returns the cube of the integer\n",
    "'''\n",
    "def cube_value(n):\n",
    "    return n*n*n\n",
    "\n",
    "'''\n",
    "Now suppose we have a list of integers called my_lst and we want a new list that contains the cube of the integers\n",
    "'''\n",
    "my_lst = [8,12,15,19,22,34]\n",
    "cubed_lst = [cube_value(x) for x in my_lst]\n",
    "print(cubed_lst)\n",
    "\n",
    "'''\n",
    "Now suppose we want a new list that contains the cube of only the odd integers in my_lst\n",
    "'''\n",
    "cubed_odd_lst = [cube_value(x) for x in my_lst if x%2 == 1]\n",
    "print(cubed_odd_lst)"
   ]
  },
  {
   "cell_type": "code",
   "execution_count": null,
   "metadata": {
    "scrolled": true
   },
   "outputs": [],
   "source": [
    "'''\n",
    "You can create new lists by iterating across two lists simultaneously using two ieteration variables.\n",
    "In the example below, each element in the first list is added to every element in the second list resulting in a new list\n",
    "whose length is the product of the lengths of the two input lists.\n",
    "'''\n",
    "list1 = [5, 8, 15, 19, 25]\n",
    "list2 = [6, 19, 23, 10, 5, 7]\n",
    "list3 = [x + y for x in list1 for y in list2]\n",
    "print(list3)\n",
    "print(len(list3))"
   ]
  },
  {
   "cell_type": "code",
   "execution_count": null,
   "metadata": {},
   "outputs": [],
   "source": [
    "'''\n",
    "Create a new list by summing the corresponding elements in the two input lists \n",
    "'''\n",
    "list1 = [5, 8, 15, 19, 25]\n",
    "list2 = [6, 19, 23, 10, 5,7]\n",
    "list3 = [x + y for x in list1 for y in list2 if list1.index(x)==list2.index(y)]\n",
    "print(list3)"
   ]
  }
 ],
 "metadata": {
  "kernelspec": {
   "display_name": "Python 3",
   "language": "python",
   "name": "python3"
  },
  "language_info": {
   "codemirror_mode": {
    "name": "ipython",
    "version": 3
   },
   "file_extension": ".py",
   "mimetype": "text/x-python",
   "name": "python",
   "nbconvert_exporter": "python",
   "pygments_lexer": "ipython3",
   "version": "3.7.6"
  }
 },
 "nbformat": 4,
 "nbformat_minor": 2
}
