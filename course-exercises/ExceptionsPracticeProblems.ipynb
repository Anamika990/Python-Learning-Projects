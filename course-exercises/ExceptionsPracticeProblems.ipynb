{
 "cells": [
  {
   "cell_type": "code",
   "execution_count": null,
   "metadata": {
    "collapsed": true
   },
   "outputs": [],
   "source": [
    "'''\n",
    "PPQ2: What is the output in each of the following cases:\n",
    "1. The user enters 22\n",
    "2. The user enters zz\n",
    "'''\n",
    "print('Begin')\n",
    "try:\n",
    "    x = int(input()) \n",
    "    print(x)\n",
    "except ValueError:\n",
    "    print('Wrong!') \n",
    "print('End')"
   ]
  },
  {
   "cell_type": "code",
   "execution_count": null,
   "metadata": {
    "collapsed": true
   },
   "outputs": [],
   "source": [
    "'''\n",
    "PPQ3: State whether or not the except blcok will be entered in each of the following cases:\n",
    "1. The user enters 22\n",
    "2. The user enters zz\n",
    "3. The user enters 0\n",
    "'''\n",
    "print('Begin')\n",
    "try:\n",
    "    x = int(input()) \n",
    "    print(x)\n",
    "except IndexError:\n",
    "    print('Wrong!') \n",
    "print('End')\n"
   ]
  },
  {
   "cell_type": "code",
   "execution_count": null,
   "metadata": {
    "collapsed": true
   },
   "outputs": [],
   "source": [
    "'''\n",
    "PPQ4: What is the error in the following code?\n",
    "'''\n",
    "try:\n",
    "    f() # Function f can raise an exception \n",
    "except Exception:\n",
    "    print(1)\n",
    "except ValueError:\n",
    "    print(2)\n"
   ]
  },
  {
   "cell_type": "code",
   "execution_count": null,
   "metadata": {
    "collapsed": true
   },
   "outputs": [],
   "source": [
    "'''\n",
    "PPQ5: What is the error in the following code?\n",
    "'''\n",
    "try:\n",
    "    f() # Function f can raise an exception \n",
    "finally:\n",
    "    print(1)\n",
    "except Exception:\n",
    "    print(2)"
   ]
  },
  {
   "cell_type": "code",
   "execution_count": null,
   "metadata": {
    "collapsed": true
   },
   "outputs": [],
   "source": [
    "'''\n",
    "PPQ6:\n",
    "\n",
    "6. Write a program that asks the user for a file name and then opens the file for reading. If the file does not exist, \n",
    "deal with this exception by printing an appropriate message.  Only if the file exists should you call a function called \n",
    "find_longest passing this file handle as an argument. This function should read the file and return the longest word. \n",
    "Your calling function should print the longest word and then close the file.  Regardless of whether or not an error exists, \n",
    "your program should politely terminate by saying ‘Goodbye!’.\n",
    "'''\n",
    "\n",
    "def longest_word(infile):\n",
    "    words = infile.read().split()\n",
    "    return max(words, key=len)\n",
    "\n",
    "def main():\n",
    "    fn = input('Enter file name: ')\n",
    "    try:\n",
    "        fb = open(fn, 'r')\n",
    "    except FileNotFoundError:\n",
    "        print('File not found')\n",
    "    else:\n",
    "        print(longest_word(fb))\n",
    "        fb.close()\n",
    "    print('Goodbye!')\n",
    "    \n",
    "main()"
   ]
  }
 ],
 "metadata": {
  "kernelspec": {
   "display_name": "Python 3",
   "language": "python",
   "name": "python3"
  },
  "language_info": {
   "codemirror_mode": {
    "name": "ipython",
    "version": 3
   },
   "file_extension": ".py",
   "mimetype": "text/x-python",
   "name": "python",
   "nbconvert_exporter": "python",
   "pygments_lexer": "ipython3",
   "version": "3.7.6"
  }
 },
 "nbformat": 4,
 "nbformat_minor": 2
}
