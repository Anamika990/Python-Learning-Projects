{
 "cells": [
  {
   "cell_type": "markdown",
   "metadata": {},
   "source": [
    "## Default Parameter Values \n",
    "__We can define our functions to accept a varying number of parameters by providing default values for some of the parameters.  All required parameters (without default values) should be listed before any optional parameters\n",
    "(parameters with default values).__"
   ]
  },
  {
   "cell_type": "code",
   "execution_count": null,
   "metadata": {},
   "outputs": [],
   "source": [
    "'''\n",
    "Note that in this function, the second and third parameters have been assigned a default value. \n",
    "These are therefore, optional parameters and you can call the function without providing values for these parameters.\n",
    "'''\n",
    "\n",
    "def sum_range(n,m=25, s = 1):  \n",
    "    sum = 0\n",
    "    for val in range(n, m + 1, s):\n",
    "        sum += val\n",
    "    return sum\n",
    "\n",
    "print(sum_range(5,s=3))"
   ]
  },
  {
   "cell_type": "code",
   "execution_count": null,
   "metadata": {},
   "outputs": [],
   "source": [
    "\n",
    "'''\n",
    "If we need to change the default value of the second parameter, we can include only the first two parameters and leave the \n",
    "last one to remain with the default value\n",
    "'''\n",
    "print(sum_range(18, 80)) #Here the value for the third argument will default to 1.\n",
    "\n"
   ]
  },
  {
   "cell_type": "code",
   "execution_count": null,
   "metadata": {},
   "outputs": [],
   "source": [
    "\n",
    "'''\n",
    "If we want to change the value of the third parameter without changing the default value of the second,\n",
    "we must specify the name of the third parameter before rewriting it.\n",
    "'''\n",
    "\n",
    "def sum_range(n, m=101, s = 1):  \n",
    "    sum = 0\n",
    "    for val in range(n, m + 1, s):\n",
    "        sum += val\n",
    "    return sum\n",
    "\n",
    "'''\n",
    "Here the value for the second argument will equal the default value.  But the value for the third argument will change to 2.\n",
    "'''\n",
    "print(sum_range(0, s = 2)) \n",
    "\n",
    "\n",
    "'''\n",
    "We can also call the functions by including the second argument with the default value.  In this case, we do not need\n",
    "to explicityly use the name of the third parameter.\n",
    "'''\n",
    "print(sum_range(0,101,2))"
   ]
  }
 ],
 "metadata": {
  "kernelspec": {
   "display_name": "Python 3",
   "language": "python",
   "name": "python3"
  },
  "language_info": {
   "codemirror_mode": {
    "name": "ipython",
    "version": 3
   },
   "file_extension": ".py",
   "mimetype": "text/x-python",
   "name": "python",
   "nbconvert_exporter": "python",
   "pygments_lexer": "ipython3",
   "version": "3.7.6"
  }
 },
 "nbformat": 4,
 "nbformat_minor": 2
}
