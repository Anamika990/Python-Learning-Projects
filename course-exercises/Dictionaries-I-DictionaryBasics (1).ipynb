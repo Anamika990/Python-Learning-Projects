{
 "cells": [
  {
   "cell_type": "markdown",
   "metadata": {},
   "source": [
    "## Dictionary Basics\n",
    "__Dictionaries are the second iterable data structure we will cover in this course. Dictionaries contain unordered `key:value `pairs where each key uniquely maps to a value.  Keys cannot be repeated but the values can repeat. The keys can then be used to loopkup values.__\n",
    "\n",
    "__Dictionary literals are stored as key value pairs enclosed in a set of curly braces.  Each `key:value` pair is separated by a `:`The pairs are separated by commas__\n",
    "\n",
    "__The examples in this notebook demonstrate how__\n",
    "1. to lookup values using keys\n",
    "2. to create dictionaries\n",
    "3. use the `len()` function to find the number of key value pairs in a dictionary"
   ]
  },
  {
   "cell_type": "markdown",
   "metadata": {},
   "source": [
    "__Dictionary literals are stored as key value pairs enclosed in a set of curly braces.  Each `key:value` pair is separated by a `:`  The pairs are separated by commas.__\n",
    "\n",
    "__The syntax to look up a value based on the key is:__\n",
    "    `dict_name[key]`"
   ]
  },
  {
   "cell_type": "code",
   "execution_count": null,
   "metadata": {},
   "outputs": [],
   "source": [
    "my_dict = {'Name':'Zara', 'Age': 7, 'Class': 'First'}\n",
    "print('my_dict[Name]', my_dict['Name'])\n",
    "print('my_dict[Class]', my_dict['Class'])\n",
    "\n",
    "'''\n",
    "We get a  KeyError if we try to lookup a value using a key that does not exist \n",
    "'''\n",
    "print('my_dict[Type]', my_dict['Type']) #This statement will return an error"
   ]
  },
  {
   "cell_type": "code",
   "execution_count": null,
   "metadata": {},
   "outputs": [],
   "source": [
    "'''\n",
    "You can create an empty dictionary as follows\n",
    "'''\n",
    "my_dict2 = { }\n",
    "print(my_dict2)"
   ]
  },
  {
   "cell_type": "code",
   "execution_count": null,
   "metadata": {},
   "outputs": [],
   "source": [
    "'''\n",
    "You can also create an empty dictionary using the dict() function\n",
    "'''\n",
    "my_dict3 = dict()\n",
    "print(my_dict3)"
   ]
  },
  {
   "cell_type": "code",
   "execution_count": null,
   "metadata": {},
   "outputs": [],
   "source": [
    "'''\n",
    "You can also create non-empty dictionaries using the dict() function.  The input can be any number of\n",
    "key:value pairs as shown below.  However, the key must be an alphanumeric value.\n",
    "'''\n",
    "my_dict4 = dict(s1='Amy', s2='Betty', s3='Cathy', s4='Diana')\n",
    "print(my_dict4)"
   ]
  },
  {
   "cell_type": "code",
   "execution_count": null,
   "metadata": {},
   "outputs": [],
   "source": [
    "'''\n",
    "You can find the number of key-value pairs in a dictionary by using the len() function\n",
    "'''\n",
    "print(len(my_dict))\n",
    "print(len(my_dict2))\n",
    "print(len(my_dict3))\n",
    "print(len(my_dict4))"
   ]
  }
 ],
 "metadata": {
  "kernelspec": {
   "display_name": "Python 3",
   "language": "python",
   "name": "python3"
  },
  "language_info": {
   "codemirror_mode": {
    "name": "ipython",
    "version": 3
   },
   "file_extension": ".py",
   "mimetype": "text/x-python",
   "name": "python",
   "nbconvert_exporter": "python",
   "pygments_lexer": "ipython3",
   "version": "3.7.6"
  }
 },
 "nbformat": 4,
 "nbformat_minor": 2
}
