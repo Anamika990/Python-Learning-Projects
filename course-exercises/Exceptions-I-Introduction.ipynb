{
 "cells": [
  {
   "cell_type": "markdown",
   "metadata": {
    "collapsed": true
   },
   "source": [
    "## Exceptions I\n",
    "### This series of notebooks discusses Exception Handling in Python\n",
    "\n",
    "__This notebook demonstrates the need for exception handling.  We begin with an example which has the potential to\n",
    "result in an error and stop the program abnormally. Then we introduce the *Look Before You Leap* concept.   \n",
    "Finally, since  LBYL may not work well in all situations, we introduce Exception Handling.\n",
    "Note that when an exception is raised, an exception object is created and passed on to the `except` clause.__\n"
   ]
  },
  {
   "cell_type": "markdown",
   "metadata": {},
   "source": [
    "__Consider the following program that accepts two integers and returns the quotient.  There is no way of controlling for the  fact that the user may enter 0 for the denominator.__"
   ]
  },
  {
   "cell_type": "code",
   "execution_count": null,
   "metadata": {},
   "outputs": [],
   "source": [
    "'''\n",
    "  Erroneous input\n",
    "'''\n",
    "n1 = int(input('Enter the numerator:'))\n",
    "n2 = int(input('Enter the denominator: '))\n",
    "\n",
    "quo = n1/n2\n",
    "print('The quotient when dividing', n1, 'by', n2, 'is:', quo)"
   ]
  },
  {
   "cell_type": "markdown",
   "metadata": {},
   "source": [
    "__We can solve the problem described above in the following manner (referred to as *Look Before You Leap (LBYL)*:__"
   ]
  },
  {
   "cell_type": "code",
   "execution_count": null,
   "metadata": {},
   "outputs": [],
   "source": [
    "'''\n",
    "  Erroneous input\n",
    "'''\n",
    "n1 = int(input('Enter the numerator:'))\n",
    "n2 = int(input('Enter the denominator: '))\n",
    "\n",
    "#Before dividing the numerator by the denominator, make sure that the denominator is not zero.\n",
    "if n2 == 0: \n",
    "    print('Division by zero is not allowed!!')\n",
    "else:\n",
    "    quo = n1/n2\n",
    "    print('The quotient when dividing', n1, 'by', n2, 'is:', quo)"
   ]
  },
  {
   "cell_type": "markdown",
   "metadata": {},
   "source": [
    "__However, what if the user enters a non-numeric value.  The LBYL policy does not work well in such situations.  Hence the \n",
    "need for -  *Easier To Ask for Forgiveness than Permission (EAFP)* - or in other words, *Exception Handling.*__\n",
    "\n",
    "If the user enters an illegal value (either 0 or a non-numeric value), an exception is raised and an exception object is\n",
    "generated. Control of the program then goes to the except block.\n",
    "Exception handling involves the writing of code that responds when exceptions are raised, and prevents the\n",
    "program from crashing.  \n",
    "In Python exception handling is achived through the `try/except` statement block.\n",
    "The `try` block includes the code that could potentially raise an exception while the `except` block contains the code to \n",
    "handle such execptions"
   ]
  },
  {
   "cell_type": "code",
   "execution_count": null,
   "metadata": {},
   "outputs": [],
   "source": [
    "'''\n",
    "  First Exception Handling Program\n",
    "'''\n",
    "try:\n",
    "    n1 = int(input('Enter the numerator:'))\n",
    "    n2 = int(input('Enter the denominator: '))\n",
    "    quo = n1/n2\n",
    "    print('The quotient when dividing', n1, 'by', n2, 'is:', quo)\n",
    "except Exception:\n",
    "    print('Error in input!!')\n",
    "    "
   ]
  }
 ],
 "metadata": {
  "kernelspec": {
   "display_name": "Python 3",
   "language": "python",
   "name": "python3"
  },
  "language_info": {
   "codemirror_mode": {
    "name": "ipython",
    "version": 3
   },
   "file_extension": ".py",
   "mimetype": "text/x-python",
   "name": "python",
   "nbconvert_exporter": "python",
   "pygments_lexer": "ipython3",
   "version": "3.7.6"
  }
 },
 "nbformat": 4,
 "nbformat_minor": 2
}
