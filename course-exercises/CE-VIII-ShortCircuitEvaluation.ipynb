{
 "cells": [
  {
   "cell_type": "markdown",
   "metadata": {},
   "source": [
    "## Short Circuit Evaluation\n",
    "__Python performs short-circuit evaluation of logical expressions. When evaluating logical expressions consisting of multiple comparisons, if Python detects that the comparisons done so far  are sufficient to determine the value of the logical expression, it stops evaluating the rest of the logical expression.__"
   ]
  },
  {
   "cell_type": "code",
   "execution_count": null,
   "metadata": {},
   "outputs": [],
   "source": [
    "'''\n",
    "In the following example, if the first part of the conditional is false, then we know the whole condition is false\n",
    "regardless of the value of the second part.\n",
    "That is, if y > 2 is false, then the whole condition is false.  In this case, the second part is not evaluated at all.\n",
    "This not only saves processing time, but also serves as a safety measure in some cases.\n",
    "'''\n",
    "x = 1\n",
    "y = 0\n",
    "if y > 2 and x/y > 3:\n",
    "    print('Good show')\n",
    "else:\n",
    "    print(\"Incorrect\")"
   ]
  },
  {
   "cell_type": "code",
   "execution_count": null,
   "metadata": {},
   "outputs": [],
   "source": [
    "'''\n",
    "In the following example, if the first part of the conditional is true, then we know the whole condition is true\n",
    "regardless of the value of the second part.\n",
    "That is, if x > 2 is true, then the whole condition is true.  In this case, the second part is not evaluated at all.\n",
    "'''\n",
    "x = 12\n",
    "y = 3\n",
    "if x > 2 or y > 10:\n",
    "    print('Good show')"
   ]
  }
 ],
 "metadata": {
  "kernelspec": {
   "display_name": "Python 3",
   "language": "python",
   "name": "python3"
  },
  "language_info": {
   "codemirror_mode": {
    "name": "ipython",
    "version": 3
   },
   "file_extension": ".py",
   "mimetype": "text/x-python",
   "name": "python",
   "nbconvert_exporter": "python",
   "pygments_lexer": "ipython3",
   "version": "3.7.3"
  }
 },
 "nbformat": 4,
 "nbformat_minor": 2
}
