{
 "cells": [
  {
   "cell_type": "markdown",
   "metadata": {},
   "source": [
    "### Files - I\n",
    "__In the following series of notebooks we will look at how to write to and read from files.__\n",
    "\n",
    "__In this notebook we will look at the Python syntax for writing data to a text file. The syntax for opening a file is <font color = blue>handle = open(filename, mode)</font>. The `open()` function returns  a file object (also called a *file handle*) that contains methods for working on the file.__ \n",
    "\n",
    "In the code below, <font color = blue>f</font> is the name for the file handle. <font color = blue>out.txt</font> is the name of the file we are working with. The second  argument in the open function is the mode and is used to tell Python exactly what we plan to do with the file.  The value of <font color = blue>w</font> for mode indicates that we want to open this file for writing. Note that if the file exists and contains data, all that data will be wiped out and fresh data will be written into the file."
   ]
  },
  {
   "cell_type": "markdown",
   "metadata": {},
   "source": [
    "__To write to a text file, we use the `write()` method.  \n",
    "The argument to the `write()` method is a string value.  Hence if we wish to write any other type of data, it must be first converted to string.__ "
   ]
  },
  {
   "cell_type": "markdown",
   "metadata": {},
   "source": [
    "__You must always close the file when you are done with it. In this course, I will treat it as an error if you do not do so, unless we use the `with/as` construct that I will discuss later.__"
   ]
  },
  {
   "cell_type": "code",
   "execution_count": null,
   "metadata": {},
   "outputs": [],
   "source": [
    "f = open('out.txt', 'w') # opened for writing\n",
    "\n",
    "for i in range(11):\n",
    "    f.write('This is line ' + str(i) + '\\n') # Note the newline character\n",
    "print('done')\n",
    "\n",
    "f.close()"
   ]
  },
  {
   "cell_type": "markdown",
   "metadata": {},
   "source": [
    "__The `write()` method writes the string argument to the file and returns the number of characters written.\n",
    "In the following example, we write the string to the file while simultaneously printing out the number of characters that were written.__"
   ]
  },
  {
   "cell_type": "code",
   "execution_count": null,
   "metadata": {
    "scrolled": true
   },
   "outputs": [],
   "source": [
    "f = open('out.txt', 'w') # opened for writing\n",
    "\n",
    "for i in range(11):\n",
    "    # This line will write the string to the file and also print out the number of characters that were written\n",
    "    print(f.write('This is line ' + str(i) + '\\n')) \n",
    "print('\\ndone')\n",
    "  \n",
    "f.close()"
   ]
  }
 ],
 "metadata": {
  "kernelspec": {
   "display_name": "Python 3",
   "language": "python",
   "name": "python3"
  },
  "language_info": {
   "codemirror_mode": {
    "name": "ipython",
    "version": 3
   },
   "file_extension": ".py",
   "mimetype": "text/x-python",
   "name": "python",
   "nbconvert_exporter": "python",
   "pygments_lexer": "ipython3",
   "version": "3.7.6"
  }
 },
 "nbformat": 4,
 "nbformat_minor": 2
}
