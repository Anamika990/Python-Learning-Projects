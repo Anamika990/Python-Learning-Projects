{
 "cells": [
  {
   "cell_type": "markdown",
   "metadata": {},
   "source": [
    "## The `If` Statement\n",
    "__We now look at how conditional execution works in Python. We begin with the simplest form of conditional execution.  We use the `if` statement to conditionally execute different portions of the code. A `if` clause is followed by a conditional expression which will evaluate to either `True` or `False`. The set of statements (referred to as a `block`) that are executed when the `if` statement is true MUST be indented.__"
   ]
  },
  {
   "cell_type": "code",
   "execution_count": null,
   "metadata": {},
   "outputs": [],
   "source": [
    "x = 25\n",
    "if x < 10: # x < 10 is the conditional expression\n",
    "    print('Smaller') # This statement will be executed only if x < 10\n",
    "    \n",
    "if x > 20:\n",
    "    print('Bigger') # Similarly, this statement will be executed only if x > 20\n",
    "print('Finished') # This statement will be executed regardless of the value of x"
   ]
  }
 ],
 "metadata": {
  "kernelspec": {
   "display_name": "Python 3",
   "language": "python",
   "name": "python3"
  },
  "language_info": {
   "codemirror_mode": {
    "name": "ipython",
    "version": 3
   },
   "file_extension": ".py",
   "mimetype": "text/x-python",
   "name": "python",
   "nbconvert_exporter": "python",
   "pygments_lexer": "ipython3",
   "version": "3.7.3"
  }
 },
 "nbformat": 4,
 "nbformat_minor": 2
}
