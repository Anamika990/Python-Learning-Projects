{
 "cells": [
  {
   "cell_type": "markdown",
   "metadata": {},
   "source": [
    "## List Functions\n",
    "__There are a number of built-in functions that can be used with lists.  In this notebook, we cover some of them.__\n",
    "1.  `list()`:  used to create lists when supplied with a string or any other iterable object as an argument.\n",
    "2.  `len()`:   finding the number of elements in a list using the len() function\n",
    "3.  `range()`: used to generate a sequence of integers\n",
    "4.  `max()`:   used to find the largest value in an iterable\n",
    "5.  `sum()`:   used to find the sum of all elements in an iterable.  Cannot be applied to sequences containing non-numeric  values\n",
    "6.  `min()`:   used to find the smallest value in a sequence\n",
    "7.  `in` and `not in` membership operators\n"
   ]
  },
  {
   "cell_type": "markdown",
   "metadata": {},
   "source": [
    "__Lists can be created from strings by using the `list()` function.__"
   ]
  },
  {
   "cell_type": "code",
   "execution_count": null,
   "metadata": {},
   "outputs": [],
   "source": [
    "'''  \n",
    "Note the following:\n",
    "  1.  When converting a string to a list, each character (including spaces) is considered a separate element.  \n",
    "  2.  A list can have duplicate elements, that is, a list can have the same element repeated multiple times.\n",
    "'''\n",
    "my_new_lst = list(\"Creating a list from a string\")\n",
    "print(my_new_lst)\n",
    "print(len(my_new_lst))\n",
    "print(len(\"Creating a list from a string\"))"
   ]
  },
  {
   "cell_type": "code",
   "execution_count": null,
   "metadata": {},
   "outputs": [],
   "source": [
    "'''\n",
    "Lists can be created from strings by using the list() function.  \n",
    "Note the following:\n",
    "  1.  When converting a string to a list, each character (including spaces) is considered a separate element.  \n",
    "  2.  A list can have duplicate elements, that is, a list can have the same element repeated multiple times.\n",
    "'''\n",
    "my_new_lst = list(range(2, 18, 2))\n",
    "print(my_new_lst)\n",
    "print(len(my_new_lst))\n"
   ]
  },
  {
   "cell_type": "code",
   "execution_count": null,
   "metadata": {},
   "outputs": [],
   "source": [
    "'''\n",
    "Another Example\n",
    "'''\n",
    "my_new_lst2 = list((2,3,4,5,6))\n",
    "print(my_new_lst2)\n",
    "print('The length of my_lst_2 is:',len(my_new_lst2))\n"
   ]
  },
  {
   "cell_type": "code",
   "execution_count": null,
   "metadata": {},
   "outputs": [],
   "source": [
    "'''\n",
    "List traversal can be done in the following manner and is the recommended approach to traversing a list.   \n",
    "'''\n",
    "my_new_lst2 = ['5', 4, 3.3, 2, '1', True, [8,9], (5, 9)]\n",
    "for ele in my_new_lst2:\n",
    "    print(type(ele))\n"
   ]
  },
  {
   "cell_type": "code",
   "execution_count": null,
   "metadata": {},
   "outputs": [],
   "source": [
    "'''\n",
    "In the example below, we print out each element of a list.  If an element is itself a list, the individual \n",
    "elements of the list are printed out.\n",
    "'''\n",
    "my_lst = ['hello', 5, 19, [5,'mix']]\n",
    "for ele in my_lst:\n",
    "    if type(ele) == list:\n",
    "        for i in ele:\n",
    "            print(i, end=\" \")\n",
    "        print()\n",
    "    else:\n",
    "        print(ele)"
   ]
  },
  {
   "cell_type": "markdown",
   "metadata": {},
   "source": [
    "__You can find the number of elements in a list, using the `len()` function.  You can then traverse the list using the `for` construct, together with the `range()` function as shown below.  However, this is not the recommended approach since it is more ineficient than the approach discussed in the previous cell.__"
   ]
  },
  {
   "cell_type": "code",
   "execution_count": null,
   "metadata": {},
   "outputs": [],
   "source": [
    "my_new_lst2 = list(\"2345678\")\n",
    "\n",
    "for ele in my_new_lst2:\n",
    "    print(ele)\n",
    "\n",
    "for i in range(len(my_new_lst2)):\n",
    "    print(my_new_lst2[i])"
   ]
  },
  {
   "cell_type": "markdown",
   "metadata": {},
   "source": [
    "__To find the element in a list with the highest value, use the `max()` function.  Note that the `max` function can be applied to both numeric as well as alpha numeric values but not to a list that contains a mix of both types.__"
   ]
  },
  {
   "cell_type": "code",
   "execution_count": null,
   "metadata": {},
   "outputs": [],
   "source": [
    "my_new_lst = list(\"Creating a list from a string\")\n",
    "my_new_lst1 = [2,3,4,5,6,7,8]\n",
    "my_new_lst2 = [2,3,4,5,6,7,8, 'asdsf']\n",
    "print('The max of my_lst: ',max(my_new_lst))\n",
    "print('The max of my_lst1: ',max(my_new_lst1))\n",
    "print('The max of my_lst2: ',max(my_new_lst2))"
   ]
  },
  {
   "cell_type": "code",
   "execution_count": null,
   "metadata": {},
   "outputs": [],
   "source": [
    "print(max([True, False]))"
   ]
  },
  {
   "cell_type": "markdown",
   "metadata": {},
   "source": [
    "__To find the element in a list with the smallest value, use the `min()` function.  Note that the `min` function can be applied to both numeric as well as alpha numeric values.  The space character is the smallest in the my_new_lst list.__"
   ]
  },
  {
   "cell_type": "code",
   "execution_count": null,
   "metadata": {},
   "outputs": [],
   "source": [
    "my_new_lst = list(\"Creating a list from a string\")\n",
    "my_new_lst2 = [2,3,4,5,6,7,8]\n",
    "my_new_lst3 = list(\"Creatingalistfromastring\")\n",
    "print('1. ', min(my_new_lst)) # This will display a space\n",
    "print('2. ', min(my_new_lst2))\n",
    "print('3. ', min(my_new_lst3))"
   ]
  },
  {
   "cell_type": "markdown",
   "metadata": {},
   "source": [
    "__To find the total of the elements in a list, use the `sum()` function.  The sum function cannot be applied to lists with \n",
    "non-numeric values__"
   ]
  },
  {
   "cell_type": "code",
   "execution_count": null,
   "metadata": {},
   "outputs": [],
   "source": [
    "my_new_lst = list(\"Creating a list from a string\")\n",
    "my_new_lst2 = [2,3,4,5,6,7,8]\n",
    "\n",
    "#print(sum(my_new_lst)) #This will result in an error\n",
    "print(sum(my_new_lst2))\n"
   ]
  },
  {
   "cell_type": "markdown",
   "metadata": {},
   "source": [
    "__The `in` and `not in` operators, referred to as membership operators are used to specify whether or not an element\n",
    "is in a list.__"
   ]
  },
  {
   "cell_type": "code",
   "execution_count": null,
   "metadata": {},
   "outputs": [],
   "source": [
    "my_list = [[10], 20, 30, 40, 50 ]\n",
    "print(10 in my_list)\n",
    "print(54 in my_list)\n",
    "\n",
    "print(10 not in my_list)\n",
    "print(54 not in my_list)"
   ]
  }
 ],
 "metadata": {
  "kernelspec": {
   "display_name": "Python 3",
   "language": "python",
   "name": "python3"
  },
  "language_info": {
   "codemirror_mode": {
    "name": "ipython",
    "version": 3
   },
   "file_extension": ".py",
   "mimetype": "text/x-python",
   "name": "python",
   "nbconvert_exporter": "python",
   "pygments_lexer": "ipython3",
   "version": "3.7.6"
  }
 },
 "nbformat": 4,
 "nbformat_minor": 2
}
