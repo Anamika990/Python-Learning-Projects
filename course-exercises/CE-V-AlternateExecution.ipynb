{
 "cells": [
  {
   "cell_type": "markdown",
   "metadata": {},
   "source": [
    "## Alternate Execution.  \n",
    "__We might sometimes want one block of code to be executed when the if condition is true and another block of code executed\n",
    "when the conditional statement evaluates to false.  We use the `if.... else` construct to accomplish this.__\n"
   ]
  },
  {
   "cell_type": "code",
   "execution_count": null,
   "metadata": {},
   "outputs": [],
   "source": [
    "# If x > 2 print 'Bigger'.  Otherwise print 'Not bigger'. But in either case, print 'All done'\n",
    "x = 11\n",
    "if x > 2:\n",
    "    print('Bigger')\n",
    "    print('This block is executed when x is greater than 2\\n')\n",
    "else:\n",
    "    print('Not bigger')\n",
    "    print('This block is executed when x is less than or equal to 2\\n')\n",
    "    \n",
    "print('All Done.  This statement is executed always')"
   ]
  }
 ],
 "metadata": {
  "kernelspec": {
   "display_name": "Python 3",
   "language": "python",
   "name": "python3"
  },
  "language_info": {
   "codemirror_mode": {
    "name": "ipython",
    "version": 3
   },
   "file_extension": ".py",
   "mimetype": "text/x-python",
   "name": "python",
   "nbconvert_exporter": "python",
   "pygments_lexer": "ipython3",
   "version": "3.7.3"
  }
 },
 "nbformat": 4,
 "nbformat_minor": 2
}
