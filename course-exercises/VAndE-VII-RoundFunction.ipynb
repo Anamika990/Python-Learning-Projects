{
 "cells": [
  {
   "cell_type": "markdown",
   "metadata": {},
   "source": [
    "## The `round()` function\n",
    "__In this notebook we look at the `round()` function__"
   ]
  },
  {
   "cell_type": "code",
   "execution_count": null,
   "metadata": {},
   "outputs": [],
   "source": [
    "# round() rounds (off) the argument.  Rounding is up or down based on the argument.\n",
    "x = 46.5\n",
    "y = round(x)\n",
    "print('x is:', x, ' and y is:', y)"
   ]
  },
  {
   "cell_type": "code",
   "execution_count": null,
   "metadata": {},
   "outputs": [],
   "source": [
    "'''\n",
    "round()  accepts an optional argument which dictates the number of decimal places for rounding\n",
    "A positive value of n for the optional argument means that the number will be rounded to n digits after the decimal point\n",
    "'''\n",
    "x = 45.24589\n",
    "y = round(x)\n",
    "z = round(x, 3)\n",
    "print('x is:', x, 'y is:', y, 'and z is:', z)"
   ]
  },
  {
   "cell_type": "code",
   "execution_count": null,
   "metadata": {},
   "outputs": [],
   "source": [
    "'''\n",
    "The optional argument in round() can be negative and specifies the number of places to \n",
    "the left of the decimal point for rounding.  That is, a value of -n means that n places \n",
    "to the left of the decimal point will be converted to zero.  The n+1th place to the left will be the rounded digit\n",
    "'''\n",
    "x = 49.24589\n",
    "y = round(x, -3)\n",
    "print('x is:', x, ' and y is:', y)"
   ]
  },
  {
   "cell_type": "code",
   "execution_count": null,
   "metadata": {},
   "outputs": [],
   "source": [
    "# what is?\n",
    "print(round(6358923, -4))\n",
    "print(round(488.45,-2))"
   ]
  }
 ],
 "metadata": {
  "kernelspec": {
   "display_name": "Python 3",
   "language": "python",
   "name": "python3"
  },
  "language_info": {
   "codemirror_mode": {
    "name": "ipython",
    "version": 3
   },
   "file_extension": ".py",
   "mimetype": "text/x-python",
   "name": "python",
   "nbconvert_exporter": "python",
   "pygments_lexer": "ipython3",
   "version": "3.7.3"
  }
 },
 "nbformat": 4,
 "nbformat_minor": 2
}
