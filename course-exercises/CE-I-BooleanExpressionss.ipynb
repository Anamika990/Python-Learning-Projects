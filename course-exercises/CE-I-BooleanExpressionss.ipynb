{
 "cells": [
  {
   "cell_type": "markdown",
   "metadata": {},
   "source": [
    "## Boolean Data Type & Comparison Operators\n",
    "__The next set of notewbooks discusses conditional execution.__\n",
    "__In the first notebook we will introduce the boolean (bool) data type.  The bool data type allows only two values:__\n",
    "1. True\n",
    "2. False\n",
    "\n",
    "__Note both values are case sensitive and should be written exactly as shown above.\n",
    "We also take a look at the comparison operators that can be used to compare arithmetic expressions with each other \n",
    "or string expressions with each other.__"
   ]
  },
  {
   "cell_type": "code",
   "execution_count": null,
   "metadata": {},
   "outputs": [],
   "source": [
    "print(type(False))\n",
    "print(type(True))"
   ]
  },
  {
   "cell_type": "markdown",
   "metadata": {},
   "source": [
    "__The following operators are called relational or comparison operators.__\n",
    "\n",
    "\\> &emsp; greater than\n",
    "\n",
    "\\>= &emsp; greater than or equal to \n",
    "\n",
    "< &emsp; less than  \n",
    "\n",
    "<= &emsp; less than or equal to  \n",
    "\n",
    "==  &emsp; equal to -- note the two equal signs \n",
    "\n",
    "!=  &emsp; not equal to\n",
    "\n",
    "__These operators can be used to compare arithmetic or string expressions with each other.__"
   ]
  },
  {
   "cell_type": "code",
   "execution_count": null,
   "metadata": {},
   "outputs": [],
   "source": [
    "'''\n",
    "Comparing numeric values, numeric variables and / or numeric expressions\n",
    "'''\n",
    "\n",
    "x = 18\n",
    "y = 20\n",
    "print('x > y: {}'.format(x > y))  \n",
    "print('y > 15: {}'.format(y > 15))\n",
    "print('x * y > 350: {}'.format(x*y > 350))"
   ]
  },
  {
   "cell_type": "code",
   "execution_count": null,
   "metadata": {},
   "outputs": [],
   "source": [
    "'''\n",
    "Comparing string values and / or string variables.  \n",
    "'''\n",
    "str1 = 'hello'\n",
    "str2 = 'Hello'\n",
    "str3 = 'hell'\n",
    "str4 = 'hello'\n",
    "str5 = 'k'\n",
    "print('str1 == str2: {}'.format(str1 == str2)) #Comparisons are case sensitive as is demonstrated by this example  \n",
    "print('str1 == str3: {}'.format(str1 == str3))\n",
    "print('str1 == str4: {}'.format(str1 == str4))\n",
    "\n",
    "print('str1 > str2: {}'.format(str1 > str2))\n",
    "print('str1 > str3: {}'.format(str1 > str3))\n",
    "print('str1 > str4: {}'.format(str1 > str4))\n",
    "print('str1 > str5: {}'.format(str1 > str5))"
   ]
  }
 ],
 "metadata": {
  "kernelspec": {
   "display_name": "Python 3",
   "language": "python",
   "name": "python3"
  },
  "language_info": {
   "codemirror_mode": {
    "name": "ipython",
    "version": 3
   },
   "file_extension": ".py",
   "mimetype": "text/x-python",
   "name": "python",
   "nbconvert_exporter": "python",
   "pygments_lexer": "ipython3",
   "version": "3.7.3"
  }
 },
 "nbformat": 4,
 "nbformat_minor": 2
}
