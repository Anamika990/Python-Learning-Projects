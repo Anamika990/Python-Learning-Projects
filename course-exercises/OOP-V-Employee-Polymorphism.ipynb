{
 "cells": [
  {
   "cell_type": "markdown",
   "metadata": {
    "collapsed": true
   },
   "source": [
    "## Polymorphism\n",
    "__In this notebook we introduce polymorphism, another very important principle of object oriented programming.  \n",
    "Polymorphism enables the same object to be processed in different ways depending on the class.__\n"
   ]
  },
  {
   "cell_type": "markdown",
   "metadata": {
    "collapsed": true
   },
   "source": [
    "__We will study polymorphism via a simple example. We will use the same Employee and Full_TimeEmployee classes from before. In addition, we will add another child class called Part_Time_Employee. The details of this class are given below. We also add an additional method to all three classes. This method will have the same name, but will function differently for each of the three classes. This is the compute_income() method.__"
   ]
  },
  {
   "cell_type": "markdown",
   "metadata": {},
   "source": [
    "__The Employee class defined defined here is almost the same as the one in the previous example, except that it has an additional method called `compute_income()`.   This method does nothing and just serves as a placeholder for later use.__"
   ]
  },
  {
   "cell_type": "code",
   "execution_count": null,
   "metadata": {},
   "outputs": [],
   "source": [
    "'''\n",
    "Defines a blueprint of an Employee with additional method called compute_income().\n",
    "'''\n",
    "class Employee:\n",
    "    def __init__(self, fn, ln):\n",
    "        self.__first_name = fn\n",
    "        self.__last_name = ln\n",
    "\n",
    "    def get_first(self):\n",
    "        return self.__first_name\n",
    "\n",
    "    def get_last_name(self):\n",
    "        return self.__last_name\n",
    "\n",
    "    def set_first_name(self, fn):\n",
    "        self.__first_name = fn\n",
    "    \n",
    "    def set_first_name(self, ln):\n",
    "        self.__last_name = ln\n",
    "        \n",
    "    def __str__(self):\n",
    "        return \"The employee's name is {} {}\".format(self.__first_name, self.__last_name)\n",
    "\n",
    "    #This is the only change to the Employee class from the previous example.\n",
    "    def compute_income(self):\n",
    "        return 'Objects which are only objects of the Employee class do not have an income'"
   ]
  },
  {
   "cell_type": "markdown",
   "metadata": {},
   "source": [
    "__This is the FullTimeEmployee class from the previous example. The only change is the inclusion of the `compute_income()` method. This method returns the monthly income of the employee by dividing the salary by 12.__"
   ]
  },
  {
   "cell_type": "code",
   "execution_count": null,
   "metadata": {},
   "outputs": [],
   "source": [
    "'''\n",
    "Defines a blueprint of a full-time employee with the inclusion of the compute_income() method.\n",
    "'''\n",
    "class FullTimeEmp(Employee):\n",
    "    def __init__(self, fn, ln, jt, sal):\n",
    "        super().__init__(fn, ln)\n",
    "        self.__salary = sal\n",
    "        self.__job_title = jt\n",
    "        \n",
    "    def get_title(self):\n",
    "        return self.__job_title\n",
    "    \n",
    "    def get_salary(self):\n",
    "        return self.__salary\n",
    "    \n",
    "    def set_title(self, jt):\n",
    "        self.__job_title = jb\n",
    "        \n",
    "    def set_salary(self, sal):\n",
    "        self.__salary = sal\n",
    "        \n",
    "    def __str__(self):\n",
    "        op = super().__str__() #we call the parent class's __str__method first.\n",
    "        op += \". The salary is: {} and the job title is: {}\".format(self.__salary, self.__job_title)\n",
    "        return op    \n",
    "   \n",
    "    #This is the new method added to the Full-Time-Employee class.\n",
    "    def compute_income(self):\n",
    "        return 'The monthly income for this full time employee is ${0:,.2f}'.format(self.__salary / 12)"
   ]
  },
  {
   "cell_type": "markdown",
   "metadata": {},
   "source": [
    "__This is the new child class we define - Part-Time-Employee. Like Full-Time-Emoployee, Part_Time_Employee is also a\n",
    "child of the Employee class.  Therefore, any object of the Part-Time-Employee class is also an object of the Employee class\n",
    "and hence has all the methods and attributes of the Employee class.  We therefore need not define them again.__\n",
    "\n",
    "__The Part\\_Time\\_Employee has two instance variables in addition to first name and last name: hourly rate and \n",
    "number of hours worked.  We  will define the accessor and mutator methods for the additional attributes \n",
    "and the <font color = 'blue'>\\_\\_init\\_\\_</font> and <font color = 'blue'>\\_\\_str\\_\\_</font> methods.__\n",
    "\n",
    "__In addition, this class too, has a method called `compute_income()`.  When called, this method will return the monthly income by multiplying the hours worked by the hourly rate.__"
   ]
  },
  {
   "cell_type": "code",
   "execution_count": null,
   "metadata": {},
   "outputs": [],
   "source": [
    "'''\n",
    "Defines a blueprint of a part-time employee with the inclusion of the compute_income() method.\n",
    "'''\n",
    "class PartTimeEmp(Employee):\n",
    "    def __init__(self, fn, ln, rate, num):\n",
    "        super().__init__(fn, ln)\n",
    "        self.__hourly_rate = rate\n",
    "        self.__num_hrs_wrkd  = num\n",
    "    \n",
    "    def get_hourly_rate(self):\n",
    "        return self.__hourly_rate\n",
    "\n",
    "    def get_num_hrs(self):\n",
    "        return self.__num_hrs_wrkd\n",
    "\n",
    "    def set_num_hrs(self, num):\n",
    "        self.__num_hrs_wrkd = num\n",
    "\n",
    "    def set_hourly_rate(self, rt):\n",
    "        self.__hourly_rate = rt\n",
    "    \n",
    "    def __str__(self):\n",
    "        op = super().__str__() #we call the parent class's __str__method first.\n",
    "        op += \". The hourly rate is: {} and the number of hours worked is: {}\".format(self.__hourly_rate, self.__num_hrs_wrkd)\n",
    "        return op    \n",
    "\n",
    "    def compute_income(self):\n",
    "        return 'The monthly income for this part time employee is ${0:,.2f}'.format(self.__hourly_rate * self.__num_hrs_wrkd)"
   ]
  },
  {
   "cell_type": "markdown",
   "metadata": {},
   "source": [
    "__The term polymorphism (in object oriented programming) comes from the fact that the same object can behave differently.\n",
    "Any object which 'is-a' object of different classes, can exhibit polymorphic behavior.__\n",
    "\n",
    "__As discussed earlier, a child object is also an object of the parent class.  Therefore, in this example, an object of the\n",
    "Part-Time-Employee (or full-Time-Employee) class is also an object of the Employee class.  This is true since a\n",
    "Part-Time-Employee (Full-Time-Employee) is also an Employee.__\n",
    "\n",
    "__We are now ready to test out our class definitions. Our driver program will do the following:  \n",
    "It will create five Employee objects.  Two will be part time employees,\n",
    "two will be full time employees and one will be just an employee.  Once these objects have been created, we will print out \n",
    "the monthly income for each object.__"
   ]
  },
  {
   "cell_type": "code",
   "execution_count": null,
   "metadata": {},
   "outputs": [],
   "source": [
    "'''\n",
    "Test class definitions\n",
    "'''\n",
    "#First write a function to create the Employee object and store in a list\n",
    "def create_emp():\n",
    "    emp1 = PartTimeEmp('Amy', 'Johnson', 15.20, 50)\n",
    "    emp2 = FullTimeEmp('Barbie', 'Doll', 'Manager', 125000)\n",
    "    emp3 = PartTimeEmp('Jackie', 'Shroff', 10.90, 45)\n",
    "    emp4 = Employee('Tracie', 'Bones')\n",
    "    emp5 = FullTimeEmp('Lily', 'Singh', 'Talk show host', 25000000)\n",
    "    print(emp2)\n",
    "    return [emp1, emp2, emp3, emp4, emp5]\n",
    "\n",
    "'''\n",
    "Note that calling the compute_income() method, we do not have to worry about which specific version is being called.\n",
    "This is due to the polymorphic behavior of the objects.\n",
    "'''\n",
    "def get_income(emp_lst):\n",
    "    for i in emp_lst:\n",
    "        print(i.compute_income())\n",
    "        \n",
    "def main():\n",
    "    my_emp = create_emp()\n",
    "    get_income(my_emp)\n",
    "    \n",
    "main()"
   ]
  }
 ],
 "metadata": {
  "kernelspec": {
   "display_name": "Python 3",
   "language": "python",
   "name": "python3"
  },
  "language_info": {
   "codemirror_mode": {
    "name": "ipython",
    "version": 3
   },
   "file_extension": ".py",
   "mimetype": "text/x-python",
   "name": "python",
   "nbconvert_exporter": "python",
   "pygments_lexer": "ipython3",
   "version": "3.7.6"
  }
 },
 "nbformat": 4,
 "nbformat_minor": 2
}
