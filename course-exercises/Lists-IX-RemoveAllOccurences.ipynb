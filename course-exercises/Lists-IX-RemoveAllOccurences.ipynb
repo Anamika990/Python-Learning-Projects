{
 "cells": [
  {
   "cell_type": "markdown",
   "metadata": {},
   "source": [
    "## List Comprehension - Remove All Occurences of an Element From a List\n",
    "\n",
    "__The `remove()` method removes only the first occurence of an item from the list__ \n",
    "\n",
    "__The del operator removes a particular element specified by the index, or a portion of a list specified by the slicing interval__\n",
    "\n",
    "__In this notebook, we show how to remove all occurences of an element from a list using List Comprehension__\n",
    "\n",
    "The syntax is:\n",
    "   `[expression for item in list if conditional ]`\n"
   ]
  },
  {
   "cell_type": "code",
   "execution_count": null,
   "metadata": {},
   "outputs": [],
   "source": [
    "'''\n",
    "Remove all occurences of 1, 2 from list\n",
    "'''\n",
    "my_list = [1,2,3,4,1,2,1]\n",
    "\n",
    "unwanted_num = [1,2]\n",
    "my_list = [ele for ele in my_list if ele not in unwanted_num] \n",
    "print(my_list)"
   ]
  },
  {
   "cell_type": "code",
   "execution_count": null,
   "metadata": {},
   "outputs": [],
   "source": [
    "'''\n",
    "Remove all occurences of 1, 2 from list\n",
    "Same as above but accomplishes the task using a defined function\n",
    "'''\n",
    "def remove_values_from_list(the_list, val):\n",
    "   return [value for value in the_list if value != val]\n",
    "\n",
    "my_list = [1,2,3,4,1,2,1]\n",
    "print(my_list)\n",
    "my_list = remove_values_from_list(my_list, 1)\n",
    "print(my_list)\n",
    "my_list = remove_values_from_list(my_list, 2)\n",
    "print(my_list)"
   ]
  }
 ],
 "metadata": {
  "kernelspec": {
   "display_name": "Python 3",
   "language": "python",
   "name": "python3"
  },
  "language_info": {
   "codemirror_mode": {
    "name": "ipython",
    "version": 3
   },
   "file_extension": ".py",
   "mimetype": "text/x-python",
   "name": "python",
   "nbconvert_exporter": "python",
   "pygments_lexer": "ipython3",
   "version": "3.7.6"
  }
 },
 "nbformat": 4,
 "nbformat_minor": 2
}
