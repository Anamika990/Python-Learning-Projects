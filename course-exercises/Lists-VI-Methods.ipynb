{
 "cells": [
  {
   "cell_type": "markdown",
   "metadata": {},
   "source": [
    "## List Methods\n",
    "__This notebook looks at list methods.  We will first study the concatenation `+` operator and the multiplication `*` operator in the context of lists and then turn our attention to list methods.__\n",
    "\n",
    "__There are a number of list methods available for list processing.  These methods are accessed in the following way:__\n",
    "`nameoflistvariable.methodname().`\n",
    "__We will discuss the following methods in this class:__\n",
    "\n",
    "   `append()`: adds a passed object to the end of an existing list\n",
    "    \n",
    "   `extend()`: adds the contents of a sequence to the end of an existing list\n",
    "   \n",
    "   `count()`: counts the number of times an element occurs in a list\n",
    "   \n",
    "   `index()`: returns the index of the first occurence of the argument\n",
    "   \n",
    "   `insert()`: inserts the object at the index provided\n",
    "   \n",
    "   `pop()`: removes and returns an item from the list. If no argument is provided, the method returns the last item from the list. If an argument is provided (it should be a valid index), the method returns the element at that index.\n",
    "   \n",
    "   `remove()`: removes an item from the list.  It accepts the item to be removed as an argument and returns the first matching value. It returns nothing.\n",
    "   \n",
    "   `reverse()`: reverses the objects of a list in place.  That means, nothing is returned and the list is changed.\n",
    "   \n",
    "   `sort()`: sorts objects in a list.\n"
   ]
  },
  {
   "cell_type": "markdown",
   "metadata": {},
   "source": [
    "__We can concatenate two lists together using the concatenation (`+`) operator.   Note that applying the `+` operator to a mix of a list and a single value is not allowed.__"
   ]
  },
  {
   "cell_type": "code",
   "execution_count": null,
   "metadata": {},
   "outputs": [],
   "source": [
    "a = [1, 2, 3]\n",
    "b = ['4', '5', 6]\n",
    "c = a + b\n",
    "\n",
    "print(c)\n",
    "print(a)\n",
    "print(b)"
   ]
  },
  {
   "cell_type": "markdown",
   "metadata": {},
   "source": [
    "__We can use the multiplication operator (`*`) to repeat a list multiple times.  Note that you cannot multiply a list with another list. The `*` operator is commutative.__"
   ]
  },
  {
   "cell_type": "code",
   "execution_count": null,
   "metadata": {},
   "outputs": [],
   "source": [
    "aList = ['xyz', 'zara', 'abc', 'xyz']\n",
    "newList = aList*2\n",
    "print(aList)\n",
    "print(newList)"
   ]
  },
  {
   "cell_type": "markdown",
   "metadata": {},
   "source": [
    "__The `append()` method adds a passed object to the end of an existing list.  This method modifies the original list.  This is a void method.__"
   ]
  },
  {
   "cell_type": "code",
   "execution_count": null,
   "metadata": {},
   "outputs": [],
   "source": [
    "aList = [123, 'xyz', 'zara', 'abc']\n",
    "aList.append([2009,5678])\n",
    "print(\"Updated List : \", aList)\n"
   ]
  },
  {
   "cell_type": "code",
   "execution_count": null,
   "metadata": {},
   "outputs": [],
   "source": [
    "'''\n",
    "You can append any element to a list including another list.\n",
    "'''\n",
    "aList = [123, 'xyz', 'zara', 'abc']\n",
    "aList.append( [2009, 'a', 15.9])\n",
    "print(\"Updated List : \", aList)"
   ]
  },
  {
   "cell_type": "markdown",
   "metadata": {},
   "source": [
    "__The `extend()` method adds the contents of a sequence to the end of an existing list.  This method modifies the original list. This is a void method.__"
   ]
  },
  {
   "cell_type": "code",
   "execution_count": null,
   "metadata": {},
   "outputs": [],
   "source": [
    "aList = [123, 'xyz', 'zara', 'abc']\n",
    "aList.extend(['asdf', 5, 8])\n",
    "print(\"Updated List : \", aList)"
   ]
  },
  {
   "cell_type": "markdown",
   "metadata": {},
   "source": [
    "__The `count()` method counts the number of times an element occurs in a list.__"
   ]
  },
  {
   "cell_type": "code",
   "execution_count": null,
   "metadata": {},
   "outputs": [],
   "source": [
    "aList = [123, 'xyz', 'zara', 'abc', 123]\n",
    "print(\"Count for 123 : \", aList.count(123))\n",
    "print(\"Count for zara : \", aList.count('zara'))"
   ]
  },
  {
   "cell_type": "markdown",
   "metadata": {},
   "source": [
    "__The `index()` method returns the index of the first occurence of the argument.  The `index()` method takes an optional argument that is the start index at which the search will begin.__"
   ]
  },
  {
   "cell_type": "code",
   "execution_count": null,
   "metadata": {},
   "outputs": [],
   "source": [
    "aList = [123, 'xyz', 'zara', 'abc', 'xyz', 567, 123, 'xyz']\n",
    "print(\"Index for xyz : \", aList.index( 'xyz'))\n",
    "print(\"Index for zara : \", aList.index( 'zara'))\n",
    "print(\"Index for xyz starting at index 3: \", aList.index( 'xyz', 3))\n",
    "print(\"Index for xyz starting at index -4: \", aList.index( 'xyz', -4))\n",
    "print(\"Index for xyz starting at index -3: \", aList.index( 'xyz', -3))\n",
    "print(aList.index('zzz'))\n"
   ]
  },
  {
   "cell_type": "markdown",
   "metadata": {},
   "source": [
    "__The `insert()` method inserts the object at the index provided.  The first argument is the index at which the second argument is to be inserted. This method modifies the original list.__"
   ]
  },
  {
   "cell_type": "code",
   "execution_count": null,
   "metadata": {},
   "outputs": [],
   "source": [
    "aList = [123, 'xyz', 'zara', 'abc']\n",
    "a = aList.insert(3,2009)\n",
    "print(\"Final List : \", aList)\n",
    "print(a)"
   ]
  },
  {
   "cell_type": "markdown",
   "metadata": {},
   "source": [
    "__The `pop()` method removes and returns an item from the list.  This method modifies the original list.  If no argument is provided, the method returns the last item from the list.__"
   ]
  },
  {
   "cell_type": "code",
   "execution_count": null,
   "metadata": {},
   "outputs": [],
   "source": [
    "aList = [123, 'xyz', 'zara', 'abc']\n",
    "a = aList.pop()\n",
    "print(aList)\n",
    "print(a)"
   ]
  },
  {
   "cell_type": "markdown",
   "metadata": {},
   "source": [
    "__The `pop()` method removes and returns an item from the list.  This method modifies the original list.  If an argument is provided (it should be a valid index), the method returns the element at that index.__"
   ]
  },
  {
   "cell_type": "code",
   "execution_count": null,
   "metadata": {},
   "outputs": [],
   "source": [
    "aList = [123, 'xyz', 'zara', 'abc']\n",
    "b = aList.pop(-2)\n",
    "print(aList)\n",
    "print(b)"
   ]
  },
  {
   "cell_type": "markdown",
   "metadata": {},
   "source": [
    "__The `remove()` method removes an item from the list.  It takes *exactly* one argument. It accepts the item to be removed as an argument and removes the first matching value.  It returns nothing.  This method modifies the original list.  This method returns an error if the element does not exist in the list.__"
   ]
  },
  {
   "cell_type": "code",
   "execution_count": null,
   "metadata": {},
   "outputs": [],
   "source": [
    "aList = [123, 'xyz', 'zara', 'abc', 'xyz']\n",
    "\n",
    "# remove 1st occurence of 'xyz'\n",
    "aList.remove('xyz')\n",
    "print(aList)"
   ]
  },
  {
   "cell_type": "code",
   "execution_count": null,
   "metadata": {},
   "outputs": [],
   "source": [
    "aList = [123, 'xyz', 'zara', 'abc', 'xyz']\n",
    "a = aList.remove('xyzz')\n",
    "print(\"List : \", aList)\n",
    "print(a)\n"
   ]
  },
  {
   "cell_type": "markdown",
   "metadata": {},
   "source": [
    "__The following provides the differences between `del`, `remove()` and `pop()`__\n",
    "\n",
    "__`del` is an operator that removes the item from a list at a specified index.  It can remove multiple items as provided by the slicing feature.It returns nothing.__\n",
    "\n",
    "__`pop()` removes the item at the index specified by the optional argument.  If no argument is provided, it removes the item at the last index. It returns the value that is removed.__\n",
    "\n",
    "__`remove()` removes the first matching value.  It accepts a value as an argument not an index.  It returns nothing.__\n",
    "\n",
    "__Note that all three methods modify the original list.__\n"
   ]
  },
  {
   "cell_type": "code",
   "execution_count": null,
   "metadata": {},
   "outputs": [],
   "source": [
    "aList = [123, 'xyz', 'zara', 'abc', 'xyz']\n",
    "\n",
    "# delete whole list\n",
    "del aList[:]\n",
    "print(aList)"
   ]
  },
  {
   "cell_type": "code",
   "execution_count": null,
   "metadata": {},
   "outputs": [],
   "source": [
    "aList = [123, 'xyz', 'zara', 'abc', 'xyz']\n",
    "\n",
    "# delete a slice of a list\n",
    "del aList[2:]\n",
    "print(aList)"
   ]
  },
  {
   "cell_type": "markdown",
   "metadata": {},
   "source": [
    "__The `reverse()` method reverses the objects of a list in place.  That means, nothing is returned and the list is changed.__"
   ]
  },
  {
   "cell_type": "code",
   "execution_count": null,
   "metadata": {},
   "outputs": [],
   "source": [
    "aList = [123, 'xyz', 'zara', 'abc', 'xyz']\n",
    "a = aList.reverse()\n",
    "print(\"List : \", aList)\n",
    "print(a)"
   ]
  },
  {
   "cell_type": "markdown",
   "metadata": {},
   "source": [
    "__The `sort()` method sorts the objects of a list in place.  Nothing is returned and the list is changed.  Note that all elements of the list have to be of the same type.  Having a mix of elements will cause an error.__"
   ]
  },
  {
   "cell_type": "code",
   "execution_count": null,
   "metadata": {},
   "outputs": [],
   "source": [
    "aList = ['xyz', 'zara', 'abc', 'xyz']\n",
    "\n",
    "a = aList.sort()\n",
    "print(\"List : \", aList)\n",
    "print(a)\n"
   ]
  },
  {
   "cell_type": "code",
   "execution_count": null,
   "metadata": {},
   "outputs": [],
   "source": [
    "'''\n",
    "Some things you can do with a list.  You can create an empty list as shown below.  You can then use the append() \n",
    "and insert() methods or the concatenation operator to add elements to the list.\n",
    "'''\n",
    "my_lst = []\n",
    "my_lst = my_lst + [1,2,3]\n",
    "print(my_lst)\n",
    "my_lst.append(5)\n",
    "print(my_lst)\n",
    "my_lst.extend([8,7,2])\n",
    "print(my_lst)"
   ]
  },
  {
   "cell_type": "code",
   "execution_count": null,
   "metadata": {},
   "outputs": [],
   "source": [
    "'''\n",
    "You can initialize a list to contain all zeros (for example) by using the multiplication operator as shown below\n",
    "'''\n",
    "my_lst = [0]*5\n",
    "print(my_lst)"
   ]
  }
 ],
 "metadata": {
  "kernelspec": {
   "display_name": "Python 3",
   "language": "python",
   "name": "python3"
  },
  "language_info": {
   "codemirror_mode": {
    "name": "ipython",
    "version": 3
   },
   "file_extension": ".py",
   "mimetype": "text/x-python",
   "name": "python",
   "nbconvert_exporter": "python",
   "pygments_lexer": "ipython3",
   "version": "3.7.6"
  }
 },
 "nbformat": 4,
 "nbformat_minor": 2
}
