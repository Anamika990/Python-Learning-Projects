{
 "cells": [
  {
   "cell_type": "markdown",
   "metadata": {},
   "source": [
    "## Defining and Using Functions\n",
    "__Using a function consists of two parts: *1) Defining it and 2) Calling it.*__\n",
    "\n",
    "__To define a function, you start with the keyword `def` and then the name of the function, \n",
    "open and close parentheses and end with a `:`__\n",
    "\n",
    "__The body of the function contains the Python statements that will be executed when the function is called.  Note that the body should be indented, just like in the case of the if statement and the while and for loops.__\n",
    "__If the function requires any inputs, the variable names for these should be listed (separated by commas) inside the parentheses.  This list of variable names is referred to as the parameters of the function.__"
   ]
  },
  {
   "cell_type": "markdown",
   "metadata": {},
   "source": [
    "__Note some functions return a value while others do not.  A function which returns a value is called a `fruitful` function.__"
   ]
  },
  {
   "cell_type": "code",
   "execution_count": null,
   "metadata": {},
   "outputs": [],
   "source": [
    "'''\n",
    "Write a function definition that will accept an integer value as an argument\n",
    "and return the cubed value.\n",
    "'''\n",
    "#start the function definition with the def keyword.  End with a ':'. Include the required inputs inside parentheses\n",
    "def cube_int(i): \n",
    "    result = i ** 3\n",
    "    return result"
   ]
  },
  {
   "cell_type": "markdown",
   "metadata": {},
   "source": [
    "__To call the function we pass it the appropriate inputs.   The term argument(s) refers to the value or variable name provided as input(s) when calling the function.  These arguments must be listed in the same order as the parameters in the function definition.__\n",
    "\n",
    "__If the function being called is a fruitful function, we must make sure that we capture the return value by  assigning it to a variable.  Otherwise, the value returned by the function is lost.__\n",
    "\n",
    "__Some points to note (test out):__\n",
    "\n",
    "1:  What happens if the function does not have a return statement\n",
    "\n",
    "2:  What happens when you call the cube_int() function by itself (without the print statement)\n",
    "\n",
    "3:  What happens if you try to assign the return value from a function which has no return statement?\n"
   ]
  },
  {
   "cell_type": "code",
   "execution_count": null,
   "metadata": {},
   "outputs": [],
   "source": [
    "'''\n",
    "To call a function, we write the name of the function and provide the argument values inside parentheses\n",
    "'''\n",
    "def cube_int(i):\n",
    "    result = i ** 3\n",
    "    return result\n",
    "\n",
    "\n",
    "n = int(input('Enter an integer: '))\n",
    "print(cube_int(n))"
   ]
  },
  {
   "cell_type": "code",
   "execution_count": null,
   "metadata": {},
   "outputs": [],
   "source": [
    "'''\n",
    "To call a function, we write the name of the function and provide the argument values inside parentheses.  Note that \n",
    "the arguments must be in the same order as the parameters in the function definition.\n",
    "'''\n",
    "def divide_int(i, j):\n",
    "    result = i / j\n",
    "    return result\n",
    "\n",
    "n1 = int(input('Enter an integer: '))\n",
    "n2 = int(input('Enter another integer: '))\n",
    "print(divide_int(n1, n2)) ##Note that switching the order of n1 and n2 will change the results"
   ]
  },
  {
   "cell_type": "code",
   "execution_count": null,
   "metadata": {},
   "outputs": [],
   "source": [
    "'''\n",
    "Any function can be called (invoked) multiple times.\n",
    "'''\n",
    "def cube_int(i):\n",
    "    result = i ** 3\n",
    "    return result\n",
    "\n",
    "# Print the cube of all integers between 1 and 10\n",
    "for i in range(1,11):\n",
    "    print(cube_int(i))"
   ]
  }
 ],
 "metadata": {
  "kernelspec": {
   "display_name": "Python 3",
   "language": "python",
   "name": "python3"
  },
  "language_info": {
   "codemirror_mode": {
    "name": "ipython",
    "version": 3
   },
   "file_extension": ".py",
   "mimetype": "text/x-python",
   "name": "python",
   "nbconvert_exporter": "python",
   "pygments_lexer": "ipython3",
   "version": "3.7.6"
  }
 },
 "nbformat": 4,
 "nbformat_minor": 2
}
