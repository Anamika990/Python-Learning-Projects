{
 "cells": [
  {
   "cell_type": "markdown",
   "metadata": {},
   "source": [
    "## Loops\n",
    "__Sometimes, it is desirable to repeat the same lines of code using different inputs over and over again. We can use iteration in Python to achieve this efficiently.__\n",
    "\n",
    "__There are two main types of loops:__\n",
    "1.  Indefinite loop:  In indefinite loops, at the beginning we usually dont know how many times the loop will be executed.  \n",
    "It is dependent on factors outside the programmer's /program's control.  The while construct is usually used for \n",
    "indefinite loops though it is also possible to use it for definite loops.\n",
    "\n",
    "2.  Definite loop:  In definite loops, we know upfront the number of times the loop will be executed. \n",
    "The for construct is usually used for definite loops.\n"
   ]
  },
  {
   "cell_type": "markdown",
   "metadata": {},
   "source": [
    "### While loop\n",
    "__The reserved word `while` is followed by a conditional expression. The variable in the conditional expression is called the iteration variable. The indented set of statements (the block) after the `while` is called the body of the loop. The body is executed repeatedly as long as the condition in the while clause is true.__"
   ]
  },
  {
   "cell_type": "code",
   "execution_count": null,
   "metadata": {},
   "outputs": [],
   "source": [
    "n = 3\n",
    "while n > 0: # the body of the loop will be executed as long as n > 0\n",
    "    print(n)\n",
    "    n -= 1  # this line changes the value of n each time the loop is executed\n",
    "print('Blastoff')"
   ]
  },
  {
   "cell_type": "code",
   "execution_count": null,
   "metadata": {},
   "outputs": [],
   "source": [
    "'''\n",
    "A correctly defined while loop should change the iteration variable inside the loop \n",
    "in a manner that ensures that the condition eventually become False.\n",
    "If not, the loop will continue  to execute infinitely until the computer runs out of resources\n",
    "\n",
    "This is an example of an infinite loop. Select 'Kernel --> Restart and clear output'  once you execute this cell to forcibly\n",
    "terminate the code.\n",
    "'''\n",
    "n = 5\n",
    "while n > 0:\n",
    "    print(n)\n",
    "    \n",
    "    #Since we increment the value of n each time, n will ALWAYS be greater than zero and hence \n",
    "    #the loop body will execute infinitely\n",
    "    n += 1\n",
    "    \n",
    "print('Blastoff')"
   ]
  },
  {
   "cell_type": "code",
   "execution_count": null,
   "metadata": {},
   "outputs": [],
   "source": [
    "'''\n",
    "A loop body that will never execute even once is referred to as a dead loop.\n",
    "\n",
    "This is an example of a dead loop.\n",
    "'''\n",
    "n = 5 \n",
    "\n",
    "'''\n",
    "Note that we begin with n = 5 while the conditional expression requires that n should be greater than 10.\n",
    "This means the conditional expression will evaluate to false the very first time it is evaluated \n",
    "and the loop will never be entered.\n",
    "'''\n",
    "while n > 10: \n",
    "    print(n)\n",
    "    n += 1\n",
    "print('Blastoff')"
   ]
  },
  {
   "cell_type": "markdown",
   "metadata": {},
   "source": [
    "__Write a program that asks a user for an integer and prints it out.  The program should do this repeatedly as long as the \n",
    "number is greater than 0.  This is a clear example of why we call them indefinite loops.  We dont know when the user will enter a 0. The first time, we will ask the user for an integer value OUTSIDE the loop. Then we enter the loop and repeatedly execute until the conditional expression evaluates to `False`.__"
   ]
  },
  {
   "cell_type": "code",
   "execution_count": null,
   "metadata": {},
   "outputs": [],
   "source": [
    "\n",
    "#Unless the user enters a negative value the very first time, this code will execute at least once\n",
    "n = int(input('Enter a positive integer.  Enter a value of 0 or less to stop: ')) \n",
    "while n > 0:\n",
    "    print(n)\n",
    "    \n",
    "    #We ask for the next number. The body of the loop will be executed again,  until the user enters 0 or a negative number.\n",
    "    n = int(input('Enter a positive integer.  Enter a value of 0 or less to stop: ')) # \n",
    "    \n",
    "print('done')    "
   ]
  }
 ],
 "metadata": {
  "kernelspec": {
   "display_name": "Python 3",
   "language": "python",
   "name": "python3"
  },
  "language_info": {
   "codemirror_mode": {
    "name": "ipython",
    "version": 3
   },
   "file_extension": ".py",
   "mimetype": "text/x-python",
   "name": "python",
   "nbconvert_exporter": "python",
   "pygments_lexer": "ipython3",
   "version": "3.7.6"
  }
 },
 "nbformat": 4,
 "nbformat_minor": 2
}
