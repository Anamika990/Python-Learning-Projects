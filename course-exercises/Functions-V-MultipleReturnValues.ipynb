{
 "cells": [
  {
   "cell_type": "markdown",
   "metadata": {},
   "source": [
    "## A Function can return multiple values.\n",
    "__The example in this notebook demonstrate's that a function can return multiple values.  By default, the function creates a tuple (which we will discuss later in the course) with the different values and returns it. We can also return the multiple values as other sequences.__"
   ]
  },
  {
   "cell_type": "code",
   "execution_count": null,
   "metadata": {},
   "outputs": [],
   "source": [
    "def compute_two(x, y):\n",
    "    return x + y, x - y, x * y, x / y # This will be returned as a tuple\n",
    "\n",
    "def main():\n",
    "    n1 = int(input('Enter the first number: '))\n",
    "    n2 = int(input('Enter the second number: '))\n",
    "    result = compute_two(n1, n2)\n",
    "    print('The sum, difference, product, and quotient are : {} respectively'.format(result))\n",
    "    \n",
    "main()"
   ]
  }
 ],
 "metadata": {
  "kernelspec": {
   "display_name": "Python 3",
   "language": "python",
   "name": "python3"
  },
  "language_info": {
   "codemirror_mode": {
    "name": "ipython",
    "version": 3
   },
   "file_extension": ".py",
   "mimetype": "text/x-python",
   "name": "python",
   "nbconvert_exporter": "python",
   "pygments_lexer": "ipython3",
   "version": "3.7.6"
  }
 },
 "nbformat": 4,
 "nbformat_minor": 2
}
