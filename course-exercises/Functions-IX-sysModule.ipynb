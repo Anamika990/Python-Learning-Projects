{
 "cells": [
  {
   "cell_type": "markdown",
   "metadata": {},
   "source": [
    "## The sys module\n",
    "__In this notebook we discuss the `sys` module.  The `sys` module provides a number of functions and variables that give programmers access to system specific information. In this course we will study just one  specific function - `exit` function which  terminates an executing program.__"
   ]
  },
  {
   "cell_type": "code",
   "execution_count": null,
   "metadata": {},
   "outputs": [],
   "source": [
    "'''\n",
    "Write a program to accept two integer values each less than or equal to 10 from the user.  If either integer is negative \n",
    "or more than 10 terminate the program. \n",
    "Otherwise print a rectangle of *'s.  Each line will have as many *'s as specified by the first integer and there will be as\n",
    "many lines as specified by the second integer.\n",
    "'''\n",
    "\n",
    "import sys\n",
    "cols = int(input('Enter a positive integer less than or equal to 10: '))\n",
    "rows = int(input('Enter a positive integer less than or equal to 10: '))\n",
    "print()\n",
    "if cols < 1 or cols > 10 or rows < 1 or rows > 10:\n",
    "    print('Enter a positive integer less than or equal to 10')\n",
    "    sys.exit(0)\n",
    "for i in range (rows):\n",
    "    for j in range(cols):\n",
    "        print('*', end='')\n",
    "    print()\n",
    "    "
   ]
  }
 ],
 "metadata": {
  "kernelspec": {
   "display_name": "Python 3",
   "language": "python",
   "name": "python3"
  },
  "language_info": {
   "codemirror_mode": {
    "name": "ipython",
    "version": 3
   },
   "file_extension": ".py",
   "mimetype": "text/x-python",
   "name": "python",
   "nbconvert_exporter": "python",
   "pygments_lexer": "ipython3",
   "version": "3.7.6"
  }
 },
 "nbformat": 4,
 "nbformat_minor": 2
}
