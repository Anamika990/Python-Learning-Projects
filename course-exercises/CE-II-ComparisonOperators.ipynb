{
 "cells": [
  {
   "cell_type": "markdown",
   "metadata": {},
   "source": [
    "## Comparison Operators\n",
    "__We look at some more examples of using comparison operators.  We also take a look at tuple assignment where multiple variables can be assigned values in a single assignment statement.__\n"
   ]
  },
  {
   "cell_type": "code",
   "execution_count": null,
   "metadata": {},
   "outputs": [],
   "source": [
    "'''\n",
    "The following statement is called a tuple assignment. \n",
    "Each variable on the left is assigned to its corresponding value on the right.\n",
    "Note that the number of variables on the left must exactly equal the number of values on the right.\n",
    "If they are not equal you will get an error\n",
    "'''\n",
    "x, y, z = 3, 5, 7\n",
    "print(x == 5) \n",
    "print(y < z)\n",
    "print(z >= x)\n",
    "print(z < 7) \n",
    "print(z <= 7) \n",
    "print(z != 7)"
   ]
  },
  {
   "cell_type": "code",
   "execution_count": null,
   "metadata": {},
   "outputs": [],
   "source": [
    "# Note that '=' is NOT the same as '=='\n",
    "x = 8\n",
    "#print(x = 5)\n",
    "print(x == 5)"
   ]
  },
  {
   "cell_type": "code",
   "execution_count": null,
   "metadata": {},
   "outputs": [],
   "source": [
    "# Comparison operators are executed before the assignment operators\n",
    "x, y, z = 3, 5, 7\n",
    "m = y > x \n",
    "print(m)"
   ]
  },
  {
   "cell_type": "code",
   "execution_count": null,
   "metadata": {},
   "outputs": [],
   "source": [
    "# Comparison operators are executed before the assignment operators but after arithmetic operators\n",
    "x, y, z = 3, 5, 7\n",
    "m = y > x + 2\n",
    "print(m)"
   ]
  }
 ],
 "metadata": {
  "kernelspec": {
   "display_name": "Python 3",
   "language": "python",
   "name": "python3"
  },
  "language_info": {
   "codemirror_mode": {
    "name": "ipython",
    "version": 3
   },
   "file_extension": ".py",
   "mimetype": "text/x-python",
   "name": "python",
   "nbconvert_exporter": "python",
   "pygments_lexer": "ipython3",
   "version": "3.7.3"
  }
 },
 "nbformat": 4,
 "nbformat_minor": 2
}
