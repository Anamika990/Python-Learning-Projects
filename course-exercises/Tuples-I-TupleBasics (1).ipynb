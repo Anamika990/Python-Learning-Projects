{
 "cells": [
  {
   "cell_type": "markdown",
   "metadata": {},
   "source": [
    "## Tuple Basics\n",
    "__This set of notebooks covers the third iterable data structure we will discuss in this course  -  `Tuples`.__ \n",
    "\n",
    "__Tuples are very similar to lists except for one important difference:  Tuples are *immutable*. That means that the contents of a tuple cannot be altered.  In this respect they are similar to strings. Because of this property, tuples are more efficient in terms of memory use and performance than lists.__\n",
    "\n",
    "__Tuples are ordered and hence we can use indexes to access individual elements. The values in a tuple are enclosed inside parenthese and separated by commas.__"
   ]
  },
  {
   "cell_type": "markdown",
   "metadata": {},
   "source": [
    "__Tuples are written as a collection of values separated by commas and enclosed in parentheses.__  \n",
    "__Tuples can also be created using the `tuple()` function. The `tuple()` function accepts an (optional) iterable parameter.__"
   ]
  },
  {
   "cell_type": "code",
   "execution_count": null,
   "metadata": {},
   "outputs": [],
   "source": [
    "t1 = tuple()\n",
    "t2 = tuple([8, 9, 6, 12])\n",
    "t3 = tuple(range(5, -26, -4))\n",
    "print(type(t1))\n",
    "print(t1)\n",
    "print(t2)\n",
    "print(t3)"
   ]
  },
  {
   "cell_type": "markdown",
   "metadata": {},
   "source": [
    "__The values in a tuple are enclosed inside parenthese and separated by commas.  This cells shows a few examples of tuples__"
   ]
  },
  {
   "cell_type": "code",
   "execution_count": null,
   "metadata": {},
   "outputs": [],
   "source": [
    "from random import randrange\n",
    "print((5,4,3,2,1))\n",
    "print((randrange(8),randrange(8),randrange(8),randrange(8)))\n",
    "print(('a', 'e', 'i', 'o', 'u'))"
   ]
  },
  {
   "cell_type": "markdown",
   "metadata": {},
   "source": [
    "__Tuple variables can be created by assigning a tuple constant to a variable name.__  \n",
    "__A tuple can contain elements of different types.__"
   ]
  },
  {
   "cell_type": "code",
   "execution_count": null,
   "metadata": {},
   "outputs": [],
   "source": [
    "test_tuple = ('5', 4, 3, 2, '1', 5.8, [7,8], (5, 9))\n",
    "print(test_tuple)"
   ]
  },
  {
   "cell_type": "code",
   "execution_count": null,
   "metadata": {},
   "outputs": [],
   "source": [
    "'''\n",
    "Note that if you want to create a tuple with a single element then there must be a comma after the element.\n",
    "'''\n",
    "test_tuple = ('5')\n",
    "print(type(test_tuple))\n",
    "test_tuple = ('5',)\n",
    "print(type(test_tuple))"
   ]
  }
 ],
 "metadata": {
  "kernelspec": {
   "display_name": "Python 3",
   "language": "python",
   "name": "python3"
  },
  "language_info": {
   "codemirror_mode": {
    "name": "ipython",
    "version": 3
   },
   "file_extension": ".py",
   "mimetype": "text/x-python",
   "name": "python",
   "nbconvert_exporter": "python",
   "pygments_lexer": "ipython3",
   "version": "3.7.6"
  }
 },
 "nbformat": 4,
 "nbformat_minor": 2
}
