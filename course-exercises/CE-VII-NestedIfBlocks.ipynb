{
 "cells": [
  {
   "cell_type": "markdown",
   "metadata": {},
   "source": [
    "## Nested `if` statements\n",
    "__An `if`, `elif` or `else` block can have another if block in it.  We refer to this as a nested if.__\n",
    " \n",
    "__Here is an example:__\n",
    "1. If x > 1 print 'More than one' and then check if y is even.  If y is even, print the product of x and y.\n",
    "\n",
    "2. If y is odd print the sum of x and y.\n",
    "\n",
    "3. If x is not greater than 1 print 'Less than 1' and then check if y is a multiple of 3.  \n",
    "\n",
    "4. If it is, print a message saying so otherwise print a message that y is not a multiple of 3. \n",
    "5. Print 'All Done' at the end, no matter what the value of x and y are."
   ]
  },
  {
   "cell_type": "code",
   "execution_count": null,
   "metadata": {},
   "outputs": [],
   "source": [
    "x = int(input('Enter the value for x: '))\n",
    "y = int(input('Enter the value for y: '))\n",
    "if x > 1:\n",
    "    print('More than one')\n",
    "    if y % 2 == 0:\n",
    "        print(x * y)\n",
    "    else:\n",
    "        print(x + y)\n",
    "else:\n",
    "    print('Less than one')\n",
    "    if y % 3 == 0:\n",
    "        print('{0} is a multiple of 3'.format(y))\n",
    "    else:\n",
    "        print('{0} is not a multiple of 3'.format(y))\n",
    "        \n",
    "print('All Done')"
   ]
  }
 ],
 "metadata": {
  "kernelspec": {
   "display_name": "Python 3",
   "language": "python",
   "name": "python3"
  },
  "language_info": {
   "codemirror_mode": {
    "name": "ipython",
    "version": 3
   },
   "file_extension": ".py",
   "mimetype": "text/x-python",
   "name": "python",
   "nbconvert_exporter": "python",
   "pygments_lexer": "ipython3",
   "version": "3.7.3"
  }
 },
 "nbformat": 4,
 "nbformat_minor": 2
}
