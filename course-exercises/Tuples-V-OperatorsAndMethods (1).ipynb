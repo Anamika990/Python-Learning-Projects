{
 "cells": [
  {
   "cell_type": "markdown",
   "metadata": {},
   "source": [
    "## Tuples - Operators and Methods\n",
    "__This notebook covers the operators and methods applicable to tuples.__\n",
    "1. The concatenation (`+`) operator\n",
    "2. The multiplication (`*`) operator\n",
    "\n",
    "Tuples have only two methods().  As usual, they are accessed as follows: `tuplename.methodname()`\n",
    "3. The `count()` method : counts the number of times an element occurs in a list\n",
    "4. The `index()` method : returns the index of the first occurence of the argument\n",
    "\n",
    "__We also discuss tuple assignment.__"
   ]
  },
  {
   "cell_type": "markdown",
   "metadata": {},
   "source": [
    "__We can concatenate two tuples together using the concatenation (`+`) operator.__"
   ]
  },
  {
   "cell_type": "code",
   "execution_count": null,
   "metadata": {},
   "outputs": [],
   "source": [
    "a = (1, 2, 3)\n",
    "b = (4,)\n",
    "c = a + b\n",
    "print(c)"
   ]
  },
  {
   "cell_type": "markdown",
   "metadata": {},
   "source": [
    "__We can use the multiplication operator (`*`) to repeat a tuple multiple times.__"
   ]
  },
  {
   "cell_type": "code",
   "execution_count": null,
   "metadata": {},
   "outputs": [],
   "source": [
    "aTuple = ('xyz', 'zara', 'abc', 'xyz')\n",
    "newTuple = aTuple*2\n",
    "newTuple2 = 2*aTuple # The int value can come before or after the tuple\n",
    "print(aTuple)\n",
    "print(newTuple)\n",
    "print(newTuple2)"
   ]
  },
  {
   "cell_type": "markdown",
   "metadata": {},
   "source": [
    "__The `count()` method counts the number of times an element occurs in a tuple.__"
   ]
  },
  {
   "cell_type": "code",
   "execution_count": null,
   "metadata": {},
   "outputs": [],
   "source": [
    "aTuple = (123, 'xyz', 'zara', 'abc', 123)\n",
    "print(\"Count for 123 : \", aTuple.count(123))\n",
    "print(\"Count for zara : \", aTuple.count('zara'))"
   ]
  },
  {
   "cell_type": "markdown",
   "metadata": {},
   "source": [
    "__The `index()` method returns the index of the first occurence of the argument.__"
   ]
  },
  {
   "cell_type": "code",
   "execution_count": null,
   "metadata": {},
   "outputs": [],
   "source": [
    "aTuple = (123, 'xyz', 'zara', 'abc', 123)\n",
    "print(\"Index for xyz : \", aTuple.index( 'xyz'))\n",
    "print(\"Index for zara : \", aTuple.index( 'zarak')) # Will return an error since 'zarak' is not in the tuple."
   ]
  },
  {
   "cell_type": "markdown",
   "metadata": {},
   "source": [
    "__You can use tuple assignment to assign values to multiple variables in a single Python statement.  Note that the number of variables must exactly equal the number of values. Note also that we can omit the parentheses in tuple assignment.__"
   ]
  },
  {
   "cell_type": "code",
   "execution_count": null,
   "metadata": {},
   "outputs": [],
   "source": [
    "aTuple = (123, 'xyz', 'zara', 'abc', 123)\n",
    "a,b,c,d,e = aTuple\n",
    "print(a,b,c,d,e)"
   ]
  },
  {
   "cell_type": "markdown",
   "metadata": {},
   "source": [
    "__You can use slicing if you wish to use tuple assignment to assign values to a fewer number of variables.__"
   ]
  },
  {
   "cell_type": "code",
   "execution_count": null,
   "metadata": {},
   "outputs": [],
   "source": [
    "aTuple = (123, 'xyz', 'zara', 'abc', 123)\n",
    "a,b,c = aTuple[:3]\n",
    "print(a,b,c)"
   ]
  }
 ],
 "metadata": {
  "kernelspec": {
   "display_name": "Python 3",
   "language": "python",
   "name": "python3"
  },
  "language_info": {
   "codemirror_mode": {
    "name": "ipython",
    "version": 3
   },
   "file_extension": ".py",
   "mimetype": "text/x-python",
   "name": "python",
   "nbconvert_exporter": "python",
   "pygments_lexer": "ipython3",
   "version": "3.7.6"
  }
 },
 "nbformat": 4,
 "nbformat_minor": 2
}
