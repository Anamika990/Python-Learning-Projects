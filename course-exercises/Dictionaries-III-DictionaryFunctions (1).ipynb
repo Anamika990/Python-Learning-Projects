{
 "cells": [
  {
   "cell_type": "markdown",
   "metadata": {},
   "source": [
    "## Dictionary Functions\n",
    "__This notebook demonstrates the dictionary functions that we will cover in this course.  These are functions we have already seen in the context of lists.\n",
    "They are:__\n",
    "1. max(dict)  -  returns the key with the maximum key literal\n",
    "2. min(dict)  -  returns the key with the minimum key literal\n",
    "3. sorted(dict) - returns the keys of the dictionary in a sorted order\n",
    "4. len(dict)\n",
    "\n",
    "__where dict is the name of a dictionary object.  \n",
    "Note that all of the above are functions on the keys of the `key:value` pairs of the Dictionary structure__\n"
   ]
  },
  {
   "cell_type": "markdown",
   "metadata": {},
   "source": [
    "__The `max()` function returns the key with the max value.  Note that all the keys in  the dictionary must be of the same type,  otherwise the use of the `max()` function will return an error.__"
   ]
  },
  {
   "cell_type": "code",
   "execution_count": null,
   "metadata": {},
   "outputs": [],
   "source": [
    "dict1 = {'Name': 'Zara', 'Age': 7, 'Class': 'First', 'Gender':'Female'}\n",
    "print(dict1)\n",
    "print('max key is: ', max(dict1))"
   ]
  },
  {
   "cell_type": "code",
   "execution_count": null,
   "metadata": {},
   "outputs": [],
   "source": [
    "dict1 = {'Name': 'Zara', 'Age': 7, 'Class': 'First', 'Type':[5,8,9]}\n",
    "print(dict1)\n",
    "print('max key is: ', max(dict1))"
   ]
  },
  {
   "cell_type": "markdown",
   "metadata": {},
   "source": [
    "__The `min()` function returns the key with the min value.  Note that all the keys in the dictionary must be of the same type,  otherwise the use of the `min()` function will return an error.__"
   ]
  },
  {
   "cell_type": "code",
   "execution_count": null,
   "metadata": {},
   "outputs": [],
   "source": [
    "dict1 = {'Name': 'Zara', 'Age': 7, 'Class': 'First', 'Type':[5,8,9]}\n",
    "print(dict1)\n",
    "print('min key is: ', min(dict1))"
   ]
  },
  {
   "cell_type": "code",
   "execution_count": null,
   "metadata": {},
   "outputs": [],
   "source": [
    "dict1 = {'Name': 'Zara', 'Class': 'First', 'Gender':'Female'}\n",
    "print(dict1)\n",
    "print('min key is: ', min(dict1))"
   ]
  },
  {
   "cell_type": "markdown",
   "metadata": {},
   "source": [
    "__The `sorted()` function returns the keys of the dictionary in a sorted order.__"
   ]
  },
  {
   "cell_type": "code",
   "execution_count": null,
   "metadata": {},
   "outputs": [],
   "source": [
    "dict1 = {'Name': 'Zara', 'Age': 7, 'Class': 'First', 'Type':[5,8,9], 'Gender':'Female'}\n",
    "print(dict1)\n",
    "print('sorted keys: ', sorted(dict1))"
   ]
  },
  {
   "cell_type": "markdown",
   "metadata": {},
   "source": [
    "__The `len()` function returns the number of key:value pairs in the dictionary.__"
   ]
  },
  {
   "cell_type": "code",
   "execution_count": null,
   "metadata": {},
   "outputs": [],
   "source": [
    "dict1 = {'a':5, 'b':8, 'c':10}\n",
    "print('length of dict: ', len(dict1))"
   ]
  }
 ],
 "metadata": {
  "kernelspec": {
   "display_name": "Python 3",
   "language": "python",
   "name": "python3"
  },
  "language_info": {
   "codemirror_mode": {
    "name": "ipython",
    "version": 3
   },
   "file_extension": ".py",
   "mimetype": "text/x-python",
   "name": "python",
   "nbconvert_exporter": "python",
   "pygments_lexer": "ipython3",
   "version": "3.7.6"
  }
 },
 "nbformat": 4,
 "nbformat_minor": 2
}
