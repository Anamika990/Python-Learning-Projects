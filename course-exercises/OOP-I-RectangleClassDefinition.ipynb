{
 "cells": [
  {
   "cell_type": "markdown",
   "metadata": {
    "collapsed": true
   },
   "source": [
    "### Objects And Classes - I - Class Definition\n",
    "\n",
    "__This lecture will discuss the most important construct in object oriented programming - `classes`.  A class can be thought of as a blueprint for creating objects. Each object is described by its attributes and has behavior associated with it.  \n",
    "The behavior is captured through the `methods` of an object while the `attributes` describe different properties of the object. While all objects of a class will have the same set of attributes and methods, the values of the attributes will likely be different for each object.__\n",
    "\n",
    "__An object of a class is also called an `instance` of a class and hence the attributes asscociated with an object are also called `instance variables`.__\n",
    "\n",
    "__For example:__  \n",
    "<font color='blue'>Class:</font> __Dog__  \n",
    "<font color='blue'>Attributes:</font>  __name, age, breed, color__  \n",
    "<font color='blue'>Methods:</font> __bark, eat, sleep__\n",
    "\n",
    "<font color='blue'>Object:</font> __dog object__  \n",
    "<font color='blue'>attributes:</font> __name='Kaazi', age=3, breed='labrador', color = 'black'__\n",
    "\n",
    "__In this notebook we will study how__ \n",
    "1.   class definitions are written\n",
    "2.   attributes (also called instance variables) are associated with a class\n",
    "3.   to write methods for a class\n",
    "4.   to create an object of a class\n"
   ]
  },
  {
   "cell_type": "markdown",
   "metadata": {
    "collapsed": true
   },
   "source": [
    "__In this notebook, we will write the class definition for a class called Rectangle.  We begin by specifying the requirements  for the Rectangle class are as described below.__\n",
    "\n",
    "1. We will create the definition for a simple Rectangle class. \n",
    "2. This class has two instance variables (or attributes) - length and width\n",
    "3. We will ensure that the objects are encapsulated by \"hiding\" the instance variables to the extent \n",
    "    that is possible in Python.\n",
    "4. Since the instance variables are \"hidden\", this class definition will also require the necessary accessor (get) and \n",
    "   mutator (set) methods.\n",
    "5. We  also desire to print out the details (length, width, area, and perimeter) of every rectangle object \n",
    "   and need an appropriate method for this.\n",
    "6. Finally, the class has two additional methods - `computer_area()` and `compute_perimeter()` that will\n",
    "   compute and return the appropriate values\n"
   ]
  },
  {
   "cell_type": "markdown",
   "metadata": {},
   "source": [
    "__<font color = 'blue'>Requirement 1.</font>  We will write the first statement for defining the Rectangle class in this cell. Ignoring any import statements your definition may require, a class definition always begins with the word 'class' \n",
    "followed by the name of the class and then a <font color = 'blue'>:</font>. If the definition requires any import statements, they will, as usual, go before the class statement.__"
   ]
  },
  {
   "cell_type": "code",
   "execution_count": null,
   "metadata": {},
   "outputs": [],
   "source": [
    "'''\n",
    "By convention, the first letter of a class name will be upper case.\n",
    "The names of objects will always start with lower case letters like we have done for all other variables so far.\n",
    "'''\n",
    "class Rectangle:\n",
    "    pass"
   ]
  },
  {
   "cell_type": "markdown",
   "metadata": {},
   "source": [
    "__Python provides a bulitin method called <font color='blue'>\\_\\_init()\\_\\_</font> which is automatically called when a new object is created.  In this course, we will ALWAYS redefine the <font color='blue'>\\_\\_init()\\_\\_</font> method and initialize all instance variables.__\n",
    "\n",
    "__Note that every method in a class definition will have at least one parameter.  This is by convention called `self`.  \n",
    "In addition, a method in a class may also have other parameters as needed.  The other parameters will always be listed\n",
    "after the `self` parameter.  The `self` parameter denotes the specific instance of the class that the method should apply to.__\n",
    "\n",
    "__<font color = 'blue'>Requirement 2. </font> We will continue with our class definition by redefining the <font color='blue'>\\_\\_init()\\_\\_</font> method to initialize the instance variables.__\n"
   ]
  },
  {
   "cell_type": "code",
   "execution_count": null,
   "metadata": {},
   "outputs": [],
   "source": [
    " '''\n",
    "The __init__ method for our Rectangle class will therefore have three parameters: 1) self, 2) length, and 3) width.\n",
    "While you can use any suitable variable name for length and width, note that in this course, \n",
    "you will always use the name 'self' for the first parameter.  \n",
    "'''\n",
    "class Rectangle: \n",
    "    \n",
    "    #Method heading.  The first parameter is self, then we will include the length and width parameters\n",
    "    def __init__(self, length, w): \n",
    "        \n",
    "        '''\n",
    "         Each instance variable name must be prefixed by the word 'self'. This tells Python exactly which object the\n",
    "         variable applies to.\n",
    "         The object's length variable is initialized by assigning it the value provided in the method argument.\n",
    "         This is also where you will validate your input as needed.\n",
    "        '''\n",
    "        self.length = length\n",
    "        \n",
    "        #Similarly for the width\n",
    "        self.width = w\n",
    "        "
   ]
  },
  {
   "cell_type": "markdown",
   "metadata": {
    "collapsed": true
   },
   "source": [
    "__The next two cells discuss how data hiding is achieved in Python.  Python does not strictly prohibit users from directly \n",
    "accessing instance variables.  However, there are mechanisms in place to restrict such direct access. In this course, we will only use the mechanism described in the second cell.__"
   ]
  },
  {
   "cell_type": "markdown",
   "metadata": {},
   "source": [
    "__The convention in Python is to use a leading underscore to name instance variables not meant for general access by clients. Note that the single <font color = 'blue'>\\_</font> character does not prevent direct access.  It is just a convention to let other programmers know that this variable is not intended for direct access.__\n",
    "\n",
    "__<font color='blue'>Requirement 3 - I.</font> \"Hide\" the instance variables.  Note the instance variables are the variables \n",
    "associated with the self parameter.  These are the ones that need to be made \"hidden\" by prefixing with <font color='blue'>\\_ </font>.__"
   ]
  },
  {
   "cell_type": "code",
   "execution_count": null,
   "metadata": {},
   "outputs": [],
   "source": [
    "'''\n",
    "Requirement 3 - I. \"Hide\" the instance variables.  Note the instance variables are the variables \n",
    "associated with the self parameter.  These are the ones that need to be made \"hidden\" by prefixing with _.\n",
    "'''\n",
    "class Rectangle: \n",
    "    def __init__(self, l, w):\n",
    "        \n",
    "        '''\n",
    "        Note the single '_' character will signal to other programmers that direct access of the \n",
    "        variable is not recommended.\n",
    "        '''\n",
    "        self._length = l \n",
    "        self._width = w "
   ]
  },
  {
   "cell_type": "markdown",
   "metadata": {},
   "source": [
    "__Python offers another mechanism for making direct access of variables difficult. This is done by prefixing each variable name by two <font color='blue'>\\_</font> (underscore) characters.  This is referred to as <font color='blue'>name mangling</font>. In this course, we will use this mechanism for hiding our variables.__\n",
    "\n",
    "__<font color='blue'>Requirement 3 - II.</font> \"Hide\" the instance variables.  Note the instance variables are the variables  associated with the self parameter.  These are the ones that need to be made \"hidden\" by prefixing with <font color='blue'>\\_\\_</font>.__"
   ]
  },
  {
   "cell_type": "code",
   "execution_count": null,
   "metadata": {},
   "outputs": [],
   "source": [
    "'''\n",
    "Requirement 3 - II. \"Hide\" the instance variables.  Note the instance variables are the variables \n",
    "associated with the self parameter.  These are the ones that need to be made \"hidden\" by prefixing with __.\n",
    "'''\n",
    "class Rectangle: \n",
    "    def __init__(self, l, w): \n",
    "        self.__length = l  #Note the two underscore characters before the instance variable name\n",
    "        self.__width = w "
   ]
  },
  {
   "cell_type": "markdown",
   "metadata": {},
   "source": [
    "__Since we do not want our instance variables to be directly accessed by outside methods, we will need to create methods that will enable us to access or make changes to the instance variables.  To retrieve the value of an instance variable, \n",
    "we will need an `accessor` method.  These are also call `getters` or `get methods`. To change the value of an instance variable, we will need a `mutator` method.  These are also call `setters` or `set methods`.__\n",
    "\n",
    "__<font color='blue'>Requirement 4.</font>  Redefine the class to include the accessor and mutator methods.__"
   ]
  },
  {
   "cell_type": "code",
   "execution_count": null,
   "metadata": {},
   "outputs": [],
   "source": [
    "'''\n",
    "Requirement 4.  Redefine the class to include the accessor and mutator methods.\n",
    "'''\n",
    "\n",
    "class Rectangle: \n",
    "    def __init__(self, l, w): \n",
    "        self.__length = l  #Note the two underscore characters before the instance variable name\n",
    "        self.__width = w\n",
    "        \n",
    "    '''\n",
    "    All accessor methods are defined with just the self parameter and will contain a single return statement to return the value \n",
    "    of the instance variable.  By convention, we will name the accessor methods starting with the word 'get' followed by \n",
    "    underscore and the name of the variable.\n",
    "    '''\n",
    "        \n",
    "    #This class has two accessor method \n",
    "    def get_length(self):\n",
    "        return self.__length\n",
    "    \n",
    "    def get_width(self):\n",
    "        return self.__width\n",
    "\n",
    "    '''\n",
    "    All mutator methods are defined with the self parameter and an additional parameter containing the new value for\n",
    "    the instance variable.  The method body will contain an assignment statement to reset the old value of the instance variable\n",
    "    with this new value. By convention, we will name the mutator methods starting with the word 'set' followed by underscore \n",
    "    and the name of the variables\n",
    "    '''\n",
    "    #This class has two mutator methods\n",
    "    def set_length(self, l):\n",
    "        self.__length = l\n",
    "        \n",
    "    def set_width(self, w):\n",
    "        self.__width = w\n",
    "        "
   ]
  },
  {
   "cell_type": "markdown",
   "metadata": {},
   "source": [
    "__Another common requirement is to print out the values of all instance variables of an object. To do this, we redefine a builtin function called <font color = 'blue'>\\_\\_str\\_\\_()</font>.  This function returns a string value containing the instance variable values as desired. Other methods can then use the print function to automatically print out the data.__\n",
    "\n",
    "__<font color='blue'>Requirement 5.</font>  We will define the \\_\\_str\\_\\_() function.  This function just requires the `self` parameter. This is a fruitful function and will return a string containing all contents of the object that you are interested in. You must therefore ensure that your redefined code correctly returns a string.__"
   ]
  },
  {
   "cell_type": "code",
   "execution_count": null,
   "metadata": {},
   "outputs": [],
   "source": [
    "'''\n",
    "Requirement 5.  We will define the __str__() function.  This function just requires the self parameter.\n",
    "This is a fruitful function and will return a string containing all contents of the object that you are interested in.\n",
    "You must therefore ensure that your redefined code correctly returns a string.\n",
    "'''\n",
    "class Rectangle: \n",
    "    def __init__(self, l, w): \n",
    "        self.__length = l \n",
    "        self.__width = w \n",
    " \n",
    "    def get_length(self):\n",
    "        return self.__length\n",
    "    \n",
    "    def get_width(self):\n",
    "        return self.__width\n",
    "    \n",
    "    def set_length(self, l):\n",
    "        self.__length = l\n",
    "        \n",
    "    def set_width(self, w):\n",
    "        self.__width = w\n",
    "        \n",
    "    def __str__(self):\n",
    "        return 'length = ' + str(self.__length) + '; width = ' + str(self.__width) "
   ]
  },
  {
   "cell_type": "markdown",
   "metadata": {},
   "source": [
    "__<font color='blue'>Requirement 6:</font>  Write two additional methods: `compute_area()` and `compute_perimeter()`.__\n",
    "\n",
    "Inputs for the two methods:\n",
    "As described earlier, every method needs to have the self parameter.  These methods will also, therfore, have the self parameter.\n",
    "We only require the instance variables of the object to compute the area as well as the parameter and we already have access\n",
    "to these variables via the self parameter.  Hence, we do not need any other external values to compute either\n",
    "the area or the perimeter.\n",
    "\n",
    "Return value of the two methods:\n",
    "Like in other functions or methods we have seen earlier, a method of a class may also include a return statement\n",
    "as appropriate.\n",
    "In our Rectangle class definition, we will require both the area and the perimeter methods to \n",
    "return the value that is computed\n",
    "\n",
    "So in this cell, we will continue with our class definition by defining both these methods."
   ]
  },
  {
   "cell_type": "code",
   "execution_count": null,
   "metadata": {},
   "outputs": [],
   "source": [
    "'''\n",
    "Requirement 6:  Write two additional methods: compute_area() and compute_perimeter().\n",
    "'''\n",
    "class Rectangle:\n",
    "\n",
    "    def __init__(self, l, w): \n",
    "        self.__length = l \n",
    "        self.__width = w \n",
    " \n",
    "    def get_length(self):\n",
    "        return self.__length\n",
    "    \n",
    "    def get_width(self):\n",
    "        return self.__width\n",
    "    \n",
    "    def set_length(self, l):\n",
    "        self.__length = l\n",
    "        \n",
    "    def set_width(self, w):\n",
    "        self.__width = w\n",
    "        \n",
    "    def __str__(self):\n",
    "        return 'length = ' + str(self.__length) + '; width = ' + str(self.__width) \n",
    "        \n",
    "    def compute_area(self):\n",
    "        return self.__width * self.__length\n",
    "    \n",
    "    def compute_perimeter(self):\n",
    "        return 2*(self.__width + self.__length)   \n"
   ]
  },
  {
   "cell_type": "markdown",
   "metadata": {},
   "source": [
    "__Now that we have defined the class, we can use it in other scripts. Let us suppose we wish to create two rectangles. The first will have a length of 5 and a width of 8 while the corresponding numbers for the second rectangle are 6 and 7 respectively. Your code should create the two rectangles. Then print the length and width of each rectangle. Finally, compute the areas and primeters of both and then print appropriate messages stating which perimeter is larger and which area is larger.__"
   ]
  },
  {
   "cell_type": "code",
   "execution_count": null,
   "metadata": {},
   "outputs": [],
   "source": [
    "'''\n",
    "Now that we have defined the class, we can use it in other scripts.\n",
    "'''\n",
    "\n",
    "#Create the first rectangle.  Note that the length argument is first followed by the width argument.  This is in the same\n",
    "#order as listed in the __int__() method\n",
    "r1 = Rectangle(5, 8)\n",
    "\n",
    "#Create the second rectangle\n",
    "r2 = Rectangle(6, 7)\n",
    "\n",
    "#print the rectangle data.  Note this returns the length and width of the the rectangle in the argument.  This is because\n",
    "# we redefined the __str__().\n",
    "print(r1)\n",
    "print(r2)\n",
    "\n",
    "#Get and store the two areas\n",
    "area1 = r1.compute_area()\n",
    "area2 = r2.compute_area()\n",
    "\n",
    "#Get and store the two perimeters\n",
    "peri1 = r1.compute_perimeter()\n",
    "peri2 = r2.compute_perimeter()\n",
    "\n",
    "#Compare areas and perimeters and print appropriate messages\n",
    "if area1 > area2:\n",
    "    print('The first rectangle has a larger area')\n",
    "elif area2 > area1:\n",
    "    print('The second rectangle has a larger area')\n",
    "else:\n",
    "    print('The areas of the two rectangles are the same')\n",
    "    \n",
    "if peri1 > peri2:\n",
    "    print('The first rectangle has a larger perimeter')\n",
    "elif peri2 > peri1:\n",
    "    print('The second rectangle has a larger perimeter')\n",
    "else:\n",
    "    print('The perimeters of the two rectangles are the same')"
   ]
  },
  {
   "cell_type": "markdown",
   "metadata": {},
   "source": [
    "__We revisit <font color='blue'>name mangling</font> in this cell.  Recall that we prefixed two \\_ characters before each variable name to restrict direct access.  In this cell, we will see how this works.__\n",
    "\n",
    "__We first create the one rectangle object as before and then try to access its length (one of its instance variables)\n",
    "directly.__"
   ]
  },
  {
   "cell_type": "code",
   "execution_count": null,
   "metadata": {},
   "outputs": [],
   "source": [
    "'''\n",
    "We revisit 'name mangling' in this cell.\n",
    "'''\n",
    "\n",
    "#Create a rectangle.  \n",
    "r1 = Rectangle(5, 8)\n",
    "'''\n",
    "The statement below will return all the instance variables and methods availabe to the r1 Rectangle object.\n",
    "You will notice that the instance variables __length and __width do not show up.  This is due to the name mangling\n",
    "that occurs.\n",
    "'''\n",
    "print(dir(r1))\n",
    "'''\n",
    "Hence if you execute the statement below, it will return an error since there is no variable named __length. \n",
    "Uncoment the statement below and try it yourself.\n",
    "'''\n",
    "print(r1.__length) # This will return an error as shown below.\n",
    "\n"
   ]
  },
  {
   "cell_type": "markdown",
   "metadata": {},
   "source": [
    "__One can circumvent this  by prefixing the variable name with the name of the class which in its turn is prefixed \n",
    "by a single underscore.__"
   ]
  },
  {
   "cell_type": "code",
   "execution_count": null,
   "metadata": {},
   "outputs": [],
   "source": [
    "'''\n",
    "One can circumvent this by prefixing the variable name with the name of the class which in its turn is prefixed \n",
    "by a single underscore.  \n",
    "'''\n",
    "#The following two statements will execute correctly.\n",
    "print(r1._Rectangle__length) \n",
    "print(r1._Rectangle__width)"
   ]
  }
 ],
 "metadata": {
  "kernelspec": {
   "display_name": "Python 3",
   "language": "python",
   "name": "python3"
  },
  "language_info": {
   "codemirror_mode": {
    "name": "ipython",
    "version": 3
   },
   "file_extension": ".py",
   "mimetype": "text/x-python",
   "name": "python",
   "nbconvert_exporter": "python",
   "pygments_lexer": "ipython3",
   "version": "3.7.6"
  }
 },
 "nbformat": 4,
 "nbformat_minor": 2
}
