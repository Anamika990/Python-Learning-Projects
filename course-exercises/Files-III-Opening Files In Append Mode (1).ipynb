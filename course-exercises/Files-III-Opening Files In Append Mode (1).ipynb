{
 "cells": [
  {
   "cell_type": "markdown",
   "metadata": {
    "collapsed": true
   },
   "source": [
    "### Files - III\n",
    "__In this notebook we look at another mode when using text files, the <font color = blue>'append'</font> mode.__  \n",
    "\n",
    "To add new lines of data to an existing file, you must open it for append by setting the mode to 'a'.  \n",
    "If you open an existing file with 'a' mode, the file will not be overwritten, but rather, data will be added to the end of the file.  \n",
    "This is unlike the case when you open a file with 'w' mode. When the mode is 'w', if the file already exists, the data will be overwritten by new data.  \n",
    "Aside from this difference, writing to a file with mode = 'a' is no different than writing to a file with mode = 'w'"
   ]
  },
  {
   "cell_type": "markdown",
   "metadata": {},
   "source": [
    "__We will first take a look at <font color = blue>'out.txt'</font> to see what it contains.__  \n",
    "Recall that we can process each line separately, using the 'for' construct only if the input file was written with a newline character at the end of each line.  \n",
    "By default, the print statement also adds a newline character at the end of each line that is printed.  Which is why we see the blank line between each pair of lines.  If we do not want that we can edit the print statement, setting end = ''"
   ]
  },
  {
   "cell_type": "code",
   "execution_count": null,
   "metadata": {},
   "outputs": [],
   "source": [
    "f = open('out.txt')\n",
    "for i in f:\n",
    "    print(i, end = '') # This will result in a blank line between each pair of lines\n",
    "f.close()"
   ]
  },
  {
   "cell_type": "markdown",
   "metadata": {},
   "source": [
    "__Next, we open the same file <font color = blue>'out.txt'</font> in append mode and write a few more lines to it.__"
   ]
  },
  {
   "cell_type": "code",
   "execution_count": null,
   "metadata": {},
   "outputs": [],
   "source": [
    "f = open('out.txt', 'a')\n",
    "for i in range(25, 31):\n",
    "    f.write('This is line ' + str(i) + '\\n')\n",
    "f.close()"
   ]
  },
  {
   "cell_type": "markdown",
   "metadata": {},
   "source": [
    "__Finally, we test out the code written above by reading the file. I have changed the `end` in the print statement, so that the extra blank line will not be printed after each line. Notice that the new lines have now been appended to <font color = blue>'out.txt'</font>.__"
   ]
  },
  {
   "cell_type": "code",
   "execution_count": null,
   "metadata": {},
   "outputs": [],
   "source": [
    "f = open('out.txt')\n",
    "for i in f:\n",
    "    print(i, end = '')\n",
    "f.close()"
   ]
  }
 ],
 "metadata": {
  "kernelspec": {
   "display_name": "Python 3",
   "language": "python",
   "name": "python3"
  },
  "language_info": {
   "codemirror_mode": {
    "name": "ipython",
    "version": 3
   },
   "file_extension": ".py",
   "mimetype": "text/x-python",
   "name": "python",
   "nbconvert_exporter": "python",
   "pygments_lexer": "ipython3",
   "version": "3.7.6"
  }
 },
 "nbformat": 4,
 "nbformat_minor": 2
}
