{
 "cells": [
  {
   "cell_type": "markdown",
   "metadata": {
    "collapsed": true
   },
   "source": [
    "## Exceptions - III\n",
    "### The Untyped Except block.  The exception object\n",
    "__Sometimes your code can generate exceptions that you did not anticipate.\n",
    "In such cases, you may want to include an untyped (generic) except block, like we used in the third example in the first notebook.__\n",
    "\n",
    "__<font color = blue>Note:  an untyped except block has to be the last except block.</font>__ \n"
   ]
  },
  {
   "cell_type": "markdown",
   "metadata": {},
   "source": [
    "__Write a program to read data from a file.  Each line is two integer values.  For each pair of integers, write a line\n",
    "to a new text file containing the two numbers together with the quotient. We desire to handle `ValueError` and `ZeroDivisionError` exceptions separately.  All other exceptions can be handled using  an untyped except block.__"
   ]
  },
  {
   "cell_type": "code",
   "execution_count": null,
   "metadata": {},
   "outputs": [],
   "source": [
    "'''\n",
    "  Specific (typed) and generic (untyped) exception handling\n",
    "'''\n",
    "try:\n",
    "    f = open('input.txt', 'r') \n",
    "    f2 = open('output.txt', 'w')\n",
    "    for line in f:\n",
    "        n_lst = line.split(',')\n",
    "        n1 = int(n_lst[0])\n",
    "        n2 = int(n_lst[1])\n",
    "        quo = n1/n2\n",
    "        f2.write('{}, {}, {0.2f}\\n'.format(str(n1), str(n2), str(my_quo)))\n",
    "    f.close()\n",
    "    f2.close()\n",
    "except ZeroDivisionError: #This block of code will handle ZeroDivisionError exceptions\n",
    "    print('Division by zero is not allowed!!')\n",
    "except ValueError: #This block of code will handle exceptions due to non-numeric values being entered by the user\n",
    "    print('You need to enter a numeric value')\n",
    "    '''\n",
    "    The block below is called an untyped except block.  This block captures all exceptions, other than the ZeroDivisionError\n",
    "    and ValueError exceptions, that the program may generate. An untyped except block must be the last except block.  \n",
    "    It cannot appear before a typed except block.\n",
    "    '''\n",
    "except Exception: \n",
    "    print('Some other error')\n"
   ]
  },
  {
   "cell_type": "markdown",
   "metadata": {},
   "source": [
    "__In the previous example, the message 'Some other error' is not very explanatory.  We may want more information\n",
    "about the type of error that occurred.  In this case, we can \"catch\" the exception object that is generated and print \n",
    "out the information that is contained inside.__"
   ]
  },
  {
   "cell_type": "code",
   "execution_count": null,
   "metadata": {},
   "outputs": [],
   "source": [
    "'''\n",
    " Specific (typed) exception handling\n",
    " Catching Generic (untyped) exceptions\n",
    "'''\n",
    "try:\n",
    "    f = open('input.txt', 'r')\n",
    "    f2 = open('output.txt', 'w')\n",
    "    for line in f:\n",
    "        n_lst = line.split(',')\n",
    "        n1 = int(n_lst[0])\n",
    "        n2 = int(n_lst[1])\n",
    "        quo = n1/n2\n",
    "        f2.write('{0}, {1}, {0.2f}\\n'.format(str(n1), str(n2), str(my_quo)))\n",
    "    f.close()\n",
    "    f2.close()\n",
    "except ZeroDivisionError:\n",
    "    print('Division by zero is not allowed!!')\n",
    "except ValueError:\n",
    "    print('You need to enter a numeric value')\n",
    "except Exception as e: # To catch the exception object\n",
    "    print('Some other error', e) #Here we print the contents"
   ]
  }
 ],
 "metadata": {
  "kernelspec": {
   "display_name": "Python 3",
   "language": "python",
   "name": "python3"
  },
  "language_info": {
   "codemirror_mode": {
    "name": "ipython",
    "version": 3
   },
   "file_extension": ".py",
   "mimetype": "text/x-python",
   "name": "python",
   "nbconvert_exporter": "python",
   "pygments_lexer": "ipython3",
   "version": "3.7.6"
  }
 },
 "nbformat": 4,
 "nbformat_minor": 2
}
