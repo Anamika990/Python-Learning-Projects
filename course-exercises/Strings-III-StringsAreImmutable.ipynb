{
 "cells": [
  {
   "cell_type": "markdown",
   "metadata": {},
   "source": [
    "## String are Immutable\n",
    "__Strings are an ordered and immutable collection of characters.  Mutable objects can be changed after they are created. Immutable objects cannot be changed after they are created.  Strings are immutable objects.  This means that you cannot change a portion of a string.__"
   ]
  },
  {
   "cell_type": "code",
   "execution_count": null,
   "metadata": {},
   "outputs": [],
   "source": [
    "\n",
    "from random import randrange\n",
    "\n",
    "my_str = 'This is a test string'\n",
    "str_len = len(my_str)\n",
    "n = randrange(0,str_len) #This statement returns a random number between 0 and 1 less than the length of the string\n",
    "print(n)\n",
    "print(my_str[n])\n",
    "\n",
    "#Trying to change a portion of the string to a different value will cause an error\n",
    "my_str[n] = 'Z'\n"
   ]
  },
  {
   "cell_type": "code",
   "execution_count": null,
   "metadata": {},
   "outputs": [],
   "source": [
    "'''\n",
    "However, reassigning a different value to the string variable is valid.\n",
    "'''\n",
    "my_str = 'This is a test string'\n",
    "print(my_str)\n",
    "my_str = 'ThisZis a test string' \n",
    "print(my_str)"
   ]
  }
 ],
 "metadata": {
  "kernelspec": {
   "display_name": "Python 3",
   "language": "python",
   "name": "python3"
  },
  "language_info": {
   "codemirror_mode": {
    "name": "ipython",
    "version": 3
   },
   "file_extension": ".py",
   "mimetype": "text/x-python",
   "name": "python",
   "nbconvert_exporter": "python",
   "pygments_lexer": "ipython3",
   "version": "3.7.6"
  }
 },
 "nbformat": 4,
 "nbformat_minor": 2
}
