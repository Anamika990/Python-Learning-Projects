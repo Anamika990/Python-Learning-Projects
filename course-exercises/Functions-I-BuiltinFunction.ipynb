{
 "cells": [
  {
   "cell_type": "markdown",
   "metadata": {},
   "source": [
    "## Builtin Functions\n",
    "__In this lecture we will look at functions.  Functions are reusable segments of code. Functions can be either builtin\n",
    "functions or user defined. We have already seen many builtin functions.  For example:__\n",
    "\n",
    "`int()`, `str()`, `float()`, `print()`, `input()`, etc.\n",
    "\n",
    "__In this notebook, we will take a look at a few more of the built-in functions:__"
   ]
  },
  {
   "cell_type": "code",
   "execution_count": null,
   "metadata": {},
   "outputs": [],
   "source": [
    "''' \n",
    "The max() function finds the maximum value within the argument provided.  The argument can be any sequence. \n",
    "However, the elements in the sequence must be either all numeric or all string.  A combination of the two will result \n",
    "in an error.\n",
    "'''\n",
    "print(max('hello world'))\n",
    "print(max([3,7,9,1,3]))\n",
    "print(max((5, 8, 10, 15, 23, 1, 9.0)))\n",
    "print(max(['hello', 'why', 'are']))\n",
    "print(max((5, 8, 10, 15, 23, 1, 'this')))  # This will result in an error."
   ]
  },
  {
   "cell_type": "code",
   "execution_count": null,
   "metadata": {},
   "outputs": [],
   "source": [
    "'''\n",
    "The sum() returns the total of the elements in a sequence. \n",
    "'''\n",
    "print(sum([3,7,9,1,3]))"
   ]
  },
  {
   "cell_type": "code",
   "execution_count": null,
   "metadata": {},
   "outputs": [],
   "source": [
    "'''\n",
    "The sum() function accepts an iterable object and an optional 'start' argument.  This start value is added to the total.\n",
    "The default value of start is 0.\n",
    "'''\n",
    "print(sum((3,7,9,1,3), 2))"
   ]
  },
  {
   "cell_type": "code",
   "execution_count": null,
   "metadata": {},
   "outputs": [],
   "source": [
    "'''\n",
    "Note that the input argument of the sum() function must consist of numeric elements.  Otherwise you will get an error.\n",
    "'''\n",
    "sum(['a','b','c'])"
   ]
  },
  {
   "cell_type": "code",
   "execution_count": null,
   "metadata": {},
   "outputs": [],
   "source": [
    "'''\n",
    "round() is another builtin function that we have already seen.\n",
    "'''\n",
    "print(round(4578.843, -2))"
   ]
  },
  {
   "cell_type": "code",
   "execution_count": null,
   "metadata": {},
   "outputs": [],
   "source": [
    "'''\n",
    "Functions can be nested one inside another.\n",
    "For example:\n",
    "'''\n",
    "my_str =  input('Enter an integer ')\n",
    "my_int = int(my_str)\n",
    "my_abs = abs(my_int)\n",
    "print(my_abs)\n",
    "\n",
    "'''\n",
    "can be written in one single statement as follows:\n",
    "'''\n",
    "print(abs(int(input('Enter an integer'))))\n"
   ]
  },
  {
   "cell_type": "code",
   "execution_count": null,
   "metadata": {},
   "outputs": [],
   "source": [
    "'''\n",
    "The type() builtin function returns the data type of the argument.\n",
    "'''\n",
    "print(type('abcdef'))"
   ]
  },
  {
   "cell_type": "markdown",
   "metadata": {},
   "source": [
    "__One more function is the `range()` function. What does it do?:__"
   ]
  },
  {
   "cell_type": "code",
   "execution_count": null,
   "metadata": {},
   "outputs": [],
   "source": [
    "r = range(5,26,1)\n",
    "print(list(r))\n",
    "print(sum(r))"
   ]
  }
 ],
 "metadata": {
  "kernelspec": {
   "display_name": "Python 3",
   "language": "python",
   "name": "python3"
  },
  "language_info": {
   "codemirror_mode": {
    "name": "ipython",
    "version": 3
   },
   "file_extension": ".py",
   "mimetype": "text/x-python",
   "name": "python",
   "nbconvert_exporter": "python",
   "pygments_lexer": "ipython3",
   "version": "3.7.6"
  }
 },
 "nbformat": 4,
 "nbformat_minor": 2
}
