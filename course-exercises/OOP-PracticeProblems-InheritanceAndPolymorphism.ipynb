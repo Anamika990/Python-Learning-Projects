{
 "cells": [
  {
   "cell_type": "markdown",
   "metadata": {},
   "source": [
    "## Inheritance And Polymorphism Practice Problems"
   ]
  },
  {
   "cell_type": "code",
   "execution_count": null,
   "metadata": {
    "collapsed": true
   },
   "outputs": [],
   "source": [
    "class Vehicle:\n",
    "    def __init__(self, brand, model):\n",
    "        self.__brand = brand\n",
    "        self.__model = model\n",
    "        \n",
    "    def set_brand(self, brand):\n",
    "        self.__brand = brand\n",
    "        \n",
    "    def set_model(self, model):\n",
    "        self.__model = model\n",
    "        \n",
    "    def get_model(self):\n",
    "        return self.__model\n",
    "    \n",
    "    def get_brand(self):\n",
    "        return self.__brand\n",
    "    \n",
    "    def __str__(self):\n",
    "        return 'Brand: ' + self.__brand + '; Model: ' + self.__model"
   ]
  },
  {
   "cell_type": "code",
   "execution_count": null,
   "metadata": {
    "collapsed": true
   },
   "outputs": [],
   "source": [
    "class Bicycle(Vehicle):\n",
    "    def __init__(self, brand, model, num_of_wheels):\n",
    "        super().__init__(brand, model)\n",
    "        self.__num_of_wheels = num_of_wheels\n",
    "        \n",
    "    def set_num_of_wheels(self, num_of_wheels):\n",
    "        self.__num_of_wheels = num_of_wheels \n",
    "    \n",
    "    def get_num_of_wheels(self):\n",
    "        return self.__num_of_wheels\n",
    "    \n",
    "    def __str__(self):\n",
    "        return Vehicle.__str__ + '; Number of wheels: ' + self.__num_of_wheels"
   ]
  },
  {
   "cell_type": "code",
   "execution_count": null,
   "metadata": {
    "collapsed": true
   },
   "outputs": [],
   "source": [
    "class PoweredVehicle(Vehicle):\n",
    "    def __init__(self, brand, model, fuel_type):\n",
    "        super.__init__(brand, model)\n",
    "        self.__fuel_type = fuel_type\n",
    "        \n",
    "    def set_fuel_type(self, fuel_type):\n",
    "        self.__fuel_type = fuel_type\n",
    "        \n",
    "    def get_fuel_type(self):\n",
    "        return self.__fuel_type       \n",
    "      \n",
    "    def __str__(self):\n",
    "        return Vehicle.__str__ + '; Fuel Type: ' + self.__fuel_type        "
   ]
  },
  {
   "cell_type": "code",
   "execution_count": null,
   "metadata": {
    "collapsed": true
   },
   "outputs": [],
   "source": [
    "class Car(PoweredVehicle):\n",
    "    def __init__(self, brand, model, fuel_type, engine_size):\n",
    "        super().__init__(brand, model, engine_size)\n",
    "        self.__engine_size = engine_size\n",
    "        \n",
    "    def set_engine_size(self, engine_size):\n",
    "        self.__engine_size = engine_size\n",
    "        \n",
    "    def get_engine_size(self):\n",
    "        return self.__engine_size\n",
    "    \n",
    "    def __str__(self):\n",
    "        return super().__str__ + '; Engine Size: ' + self.__engine_size"
   ]
  },
  {
   "cell_type": "code",
   "execution_count": null,
   "metadata": {
    "collapsed": true
   },
   "outputs": [],
   "source": [
    "class Jet(PoweredVehicle):\n",
    "    def __init__(self, brand, model, duel_type, engine_count):\n",
    "        super().__init__(brand, model, engine_count)\n",
    "        self.__engine_count = engine_count    \n",
    "        \n",
    "    def set_engine_count(self, engine_count):\n",
    "        self.__engine_count = engine_count\n",
    "        \n",
    "    def get_engine_size(self):\n",
    "        return self.__engine_count\n",
    "    \n",
    "    def __str__(self):\n",
    "        return super().__str__ + '; Engine Count: ' + self.__engine_count"
   ]
  },
  {
   "cell_type": "code",
   "execution_count": null,
   "metadata": {
    "collapsed": true
   },
   "outputs": [],
   "source": [
    "def main():\n",
    "    veh_list = []\n",
    "    veh_list.append()"
   ]
  },
  {
   "cell_type": "code",
   "execution_count": null,
   "metadata": {
    "collapsed": true
   },
   "outputs": [],
   "source": [
    "'''\n",
    "Practice Problem Q2\n",
    "'''\n",
    "class Test:\n",
    "    def __init__(self):\n",
    "        self.x = 0\n",
    "\n",
    "class Derived_Test(Test):\n",
    "    def __init__(self):\n",
    "        super().__init__()\n",
    "        self.y = 1\n",
    "\n",
    "def main():\n",
    "    b = Derived_Test()\n",
    "    print(b.x,b.y)\n",
    "\n",
    "main()"
   ]
  },
  {
   "cell_type": "code",
   "execution_count": 2,
   "metadata": {},
   "outputs": [
    {
     "name": "stdout",
     "output_type": "stream",
     "text": [
      "1 1 1\n"
     ]
    }
   ],
   "source": [
    "'''\n",
    "Practice Problem Q3\n",
    "'''\n",
    "class A:\n",
    "    def __str__(self):\n",
    "        return '1'\n",
    "\n",
    "class B(A):\n",
    "    def __init__(self):\n",
    "        super().__init__()\n",
    "\n",
    "class C(B):\n",
    "    def __init__(self):\n",
    "        super().__init__()\n",
    "\n",
    "def main():\n",
    "    obj1 = B()\n",
    "    obj2 = A()\n",
    "    obj3 = C()\n",
    "    print(obj1,obj2,obj3)\n",
    "\n",
    "main()"
   ]
  },
  {
   "cell_type": "code",
   "execution_count": null,
   "metadata": {
    "collapsed": true
   },
   "outputs": [],
   "source": [
    "'''\n",
    "Practice Problem Q4\n",
    "'''\n",
    "class A:\n",
    "    def __str__(self, x):\n",
    "        return '1'\n",
    "\n",
    "class B(A):\n",
    "    def __init__(self):\n",
    "        super().__init__()\n",
    "\n",
    "def main():\n",
    "    obj1 = B()\n",
    "    obj2 = A()\n",
    "    print(obj1,obj2)\n",
    "\n",
    "main()"
   ]
  },
  {
   "cell_type": "code",
   "execution_count": null,
   "metadata": {
    "collapsed": true
   },
   "outputs": [],
   "source": [
    "'''\n",
    "Practice Problem Q5\n",
    "'''\n",
    "class A:\n",
    "    def __init__(self, x):\n",
    "        self.__x = x\n",
    "\n",
    "class B():\n",
    "    def __init__(self, x, y):\n",
    "        self.__y = y\n",
    "\n",
    "def main():\n",
    "    obj1 = B()\n",
    "    obj2 = A()\n",
    "    \n",
    "main()"
   ]
  },
  {
   "cell_type": "code",
   "execution_count": null,
   "metadata": {
    "collapsed": true
   },
   "outputs": [],
   "source": [
    "'''\n",
    "Practice Problem Q6\n",
    "'''\n",
    "class A:\n",
    "\tdef __init__(self, x):\n",
    "        print(‘hello’)\n",
    "\n",
    "\n",
    "class B():\n",
    "\tdef __init__(self,x):\n",
    "        super().__init__(x)\n",
    "\n",
    "def main():\n",
    "    obj1 = B()\n",
    "    print(obj1)\n",
    "\n",
    "main()"
   ]
  },
  {
   "cell_type": "code",
   "execution_count": 4,
   "metadata": {},
   "outputs": [
    {
     "name": "stdout",
     "output_type": "stream",
     "text": [
      "Hello from constructor of ClassC\n",
      "Hello from method2 of ClassC\n",
      "25\n"
     ]
    }
   ],
   "source": [
    "'''\n",
    "Practice Problems Q7\n",
    "'''\n",
    "class ClassA:\n",
    "    def __str__(self):\n",
    "        print('Hello from ClassA')\n",
    "    \n",
    "    def methodNull(self):\n",
    "        pass\n",
    "        \n",
    "    def method5(self):\n",
    "        print('method5 from ClassA')\n",
    "        \n",
    "class ClassB(ClassA):\n",
    "    def __str__(self):\n",
    "        super().__str__()\n",
    "        print('Hello from ClassB')\n",
    "        \n",
    "    def method1(self, x):\n",
    "        return x**3\n",
    "    \n",
    "    \n",
    "    def method5(self):\n",
    "        print('method5 from ClassB')\n",
    "    \n",
    "class ClassC(ClassB):\n",
    "    \n",
    "    def __init__(self):\n",
    "        super().__init__()\n",
    "        print('Hello from constructor of ClassC')\n",
    "        \n",
    "    def method1(self, x):\n",
    "        return x**2\n",
    "    \n",
    "    def method2(self):\n",
    "        print('Hello from method2 of ClassC')\n",
    "        \n",
    "    def method5(self):\n",
    "        print('method5 from ClassC')\n",
    "        \n",
    "class ClassD(ClassC):\n",
    "    \n",
    "    def method4(self):\n",
    "        print('Hello from method4 of ClassD')\n",
    "        \n",
    "    def method5(self):\n",
    "        print('method5 from ClassD')\n",
    "        \n",
    "objD = ClassD()\n",
    "objD.method2()\n",
    "print(objD.method1(5))"
   ]
  }
 ],
 "metadata": {
  "kernelspec": {
   "display_name": "Python 3",
   "language": "python",
   "name": "python3"
  },
  "language_info": {
   "codemirror_mode": {
    "name": "ipython",
    "version": 3
   },
   "file_extension": ".py",
   "mimetype": "text/x-python",
   "name": "python",
   "nbconvert_exporter": "python",
   "pygments_lexer": "ipython3",
   "version": "3.7.6"
  }
 },
 "nbformat": 4,
 "nbformat_minor": 2
}
