{
 "cells": [
  {
   "cell_type": "markdown",
   "metadata": {},
   "source": [
    "## The `for` loop\n",
    "__This example demonstrates a `for` loop.\n",
    "The iterator variable is part of the `for` construct.  There are multiple ways of writing the `for` loop. Here we present just one example.  The group of numbers in the `for` construct  is called a sequence. Specifically, the square brackets indicates that this is a `list`.  We will discuss lists later on in this course. The i is the iteration variable and it will iterate over, or go through the sequence, one number at a time and execute the body of the loop using the number as input for that iteration.__"
   ]
  },
  {
   "cell_type": "code",
   "execution_count": null,
   "metadata": {},
   "outputs": [],
   "source": [
    "for i in [2,4,8,9,0]:\n",
    "    print(i**2)"
   ]
  },
  {
   "cell_type": "code",
   "execution_count": null,
   "metadata": {},
   "outputs": [],
   "source": [
    "'''\n",
    "This is another example of the 'for' loop where the sequence is a list of characters.\n",
    "'''\n",
    "for i in ['a', 'b', 'c', 'd', 'k', 'j', 't']:\n",
    "    print(i)"
   ]
  }
 ],
 "metadata": {
  "kernelspec": {
   "display_name": "Python 3",
   "language": "python",
   "name": "python3"
  },
  "language_info": {
   "codemirror_mode": {
    "name": "ipython",
    "version": 3
   },
   "file_extension": ".py",
   "mimetype": "text/x-python",
   "name": "python",
   "nbconvert_exporter": "python",
   "pygments_lexer": "ipython3",
   "version": "3.7.6"
  }
 },
 "nbformat": 4,
 "nbformat_minor": 2
}
