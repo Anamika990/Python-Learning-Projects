{
 "cells": [
  {
   "cell_type": "markdown",
   "metadata": {},
   "source": [
    "## Lists - Aliases\n",
    "__In this notebook we briefly discuss the difference between a memory location and the contents at that location. We also study aliases.__\n",
    "\n",
    "__Everything in Python is an object.  Every object has an identity (id) which corresponds to the object's location in memory. The `id()` function can be used to retrieve the memory location of an object.  Variable names point to the memory location.__\n",
    "\n",
    "__It is important to understand that two memory locations can contain the same values but are still two distinctly different objects. Changing or removing the contents in one will not affect the other location.__\n",
    "\n",
    "__On the other hand, two different names can be used to point to the same memory location.  In this case, the variable names are said to be aliases of each other.__\n",
    "\n",
    "__When you have two aliases for a mutable object, changing the value of one variable means that the alias also changes. So, it is good practice to avoid aliasing when working with mutable objects.__"
   ]
  },
  {
   "cell_type": "code",
   "execution_count": null,
   "metadata": {},
   "outputs": [],
   "source": [
    "'''\n",
    "In the following example, the identifiers lst_1 and lst_2 point to two different memory locations.\n",
    "Hence, although their contents are the same, their identities are different.  \n",
    "'''\n",
    "lst_1 = [1,2,3]\n",
    "lst_2 = [1,2,3]\n",
    "print(lst_1 is lst_2) # The is operator will return False as the two memory locations are different\n",
    "print(id(lst_1), id(lst_2)) # The id() function will return two different id's for the two objects\n",
    "print(lst_1 == lst_2)   # However, since the contents are the same, the `==` operator will return `True`"
   ]
  },
  {
   "cell_type": "code",
   "execution_count": null,
   "metadata": {},
   "outputs": [],
   "source": [
    "'''\n",
    "In the following assignment statement, the identifier lst_1 is assigned the same address as \n",
    "that for lst_2.\n",
    "Since both identifiers are therefore pointing to the same memory location, they are the same.  \n",
    "We say lst_1 and lst_2 are aliases of each other.\n",
    "'''\n",
    "lst_1 = [1,2,3]\n",
    "lst_2 = lst_1\n",
    "print(lst_1 is lst_2) #The is operator will return True as the two variables point to the same memory location\n",
    "print(id(lst_1), id(lst_2)) # The id() function will return the same id for the two variables.  \n",
    "print(lst_1 == lst_2) # The == operator will also return True"
   ]
  },
  {
   "cell_type": "code",
   "execution_count": null,
   "metadata": {},
   "outputs": [],
   "source": [
    "'''\n",
    "In the above, since lst_1 and lst_2 refer to the same object, changing lst_2 changes lst_1.\n",
    "Avoid aliasing when working with mutable objects.\n",
    "'''\n",
    "lst_1 = [1,2,3]\n",
    "\n",
    "'''\n",
    "This statement just sets the memory location of lst_2 to be the same as the location of lst_1.  \n",
    "Thus lst_1 and lst_2 are aliases of each other.\n",
    "'''\n",
    "lst_2 = lst_1  \n",
    "\n",
    "#Since both lst_1 and lst_2 are pointing to the same memory location, their id will be the same\n",
    "print(id(lst_1))\n",
    "print(id(lst_2))\n",
    "\n",
    "print(lst_1)\n",
    "print(lst_2)\n",
    "\n",
    "lst_1[1] = 9 #  This statement change the second element of lst_2 to 8.  However, this means that lst_1 is also changed.\n",
    "print(lst_1)\n",
    "print(lst_2)\n"
   ]
  },
  {
   "cell_type": "code",
   "execution_count": null,
   "metadata": {},
   "outputs": [],
   "source": [
    "'''\n",
    "Lists can be passed as arguments to a function.  What is actually being passed is the address of the location \n",
    "containing the list.  However, since lists are mutable, any change to the list inside the function will permanently\n",
    "modify the list. Hence care needs to be exerted when passing lists (or any other mutable objects) as arguments.\n",
    "'''\n",
    "def delete_head(lst):\n",
    "    del lst[0]\n",
    "\n",
    "def squaren(n):\n",
    "    n = n**2\n",
    "    return n    \n",
    "    \n",
    "numbers=[1,2,3,4,5]\n",
    "delete_head(numbers) #After this statement is executed, the list will be changed\n",
    "print('numbers:',numbers)\n",
    "\n",
    "n = 5\n",
    "print(squaren(n)) # The value of n stays the same even after this statement is executed.\n",
    "print(n)"
   ]
  }
 ],
 "metadata": {
  "kernelspec": {
   "display_name": "Python 3",
   "language": "python",
   "name": "python3"
  },
  "language_info": {
   "codemirror_mode": {
    "name": "ipython",
    "version": 3
   },
   "file_extension": ".py",
   "mimetype": "text/x-python",
   "name": "python",
   "nbconvert_exporter": "python",
   "pygments_lexer": "ipython3",
   "version": "3.7.6"
  }
 },
 "nbformat": 4,
 "nbformat_minor": 2
}
