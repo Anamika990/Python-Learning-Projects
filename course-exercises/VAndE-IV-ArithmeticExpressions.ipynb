{
 "cells": [
  {
   "cell_type": "markdown",
   "metadata": {},
   "source": [
    "## Arithmetic Expressions\n",
    "__We revisit arithmetic expressions in this notebook\n",
    "An arithmetic expression is a combination of numeric variables, numeric constants and arithmetic operators that produces a single numeric value.__\n",
    "1.   If all the operands in an arithmetic expression are of type int \n",
    "       and if the expression results in a whole number, then the result is also of type int.  \n",
    "2.   If all the operands in an arithmetic expression are of type int but the expression results in a float number, \n",
    "       then the result will be of type float. \n",
    "3.   If even one of the operands is of type float, the result is always of type float."
   ]
  },
  {
   "cell_type": "code",
   "execution_count": null,
   "metadata": {},
   "outputs": [],
   "source": [
    "\n",
    "x = 45\n",
    "y = 50\n",
    "z = x + y\n",
    "print(z)\n",
    "# what is the type of z?\n"
   ]
  },
  {
   "cell_type": "code",
   "execution_count": null,
   "metadata": {},
   "outputs": [],
   "source": [
    "price = 20.0\n",
    "qty = 18\n",
    "total_amt = price * qty\n",
    "print(total_amt)\n",
    "# what is the type of total_amt?\n"
   ]
  },
  {
   "cell_type": "code",
   "execution_count": null,
   "metadata": {},
   "outputs": [],
   "source": [
    "x = 45\n",
    "y = 5\n",
    "z = x//y\n",
    "print(z)\n",
    "print(type(z))\n",
    "# what is the type of z?\n"
   ]
  },
  {
   "cell_type": "code",
   "execution_count": null,
   "metadata": {},
   "outputs": [],
   "source": [
    "x = 45\n",
    "y = 4\n",
    "print(z)\n",
    "z = x//y\n",
    "print(type(z))\n",
    "# what is the type of z?\n"
   ]
  },
  {
   "cell_type": "code",
   "execution_count": null,
   "metadata": {},
   "outputs": [],
   "source": [
    "x = 45.0\n",
    "y = 5\n",
    "z = x//y\n",
    "print(z)\n",
    "print(type(z))\n",
    "# what is the type of z?\n"
   ]
  },
  {
   "cell_type": "code",
   "execution_count": null,
   "metadata": {},
   "outputs": [],
   "source": [
    "x = 45\n",
    "y = 5\n",
    "z = x/y\n",
    "print(z)\n",
    "print(type(z))\n",
    "# what is the type of z?\n"
   ]
  },
  {
   "cell_type": "code",
   "execution_count": null,
   "metadata": {},
   "outputs": [],
   "source": [
    "x = 45\n",
    "y = 4\n",
    "z = x%y\n",
    "print(z)\n",
    "print(type(z))\n",
    "# what is the type of z?"
   ]
  },
  {
   "cell_type": "code",
   "execution_count": null,
   "metadata": {},
   "outputs": [],
   "source": [
    "x = 45.5\n",
    "y = 4\n",
    "z = x%y\n",
    "print(z)\n",
    "print(type(z))\n",
    "# what is the type of z?"
   ]
  },
  {
   "cell_type": "code",
   "execution_count": null,
   "metadata": {},
   "outputs": [],
   "source": [
    "'''\n",
    "Evaluate the following expressions. What is the data type of the result in each case?\n",
    "'''\n",
    "i1 = 2\n",
    "i2 = 5\n",
    "i3 = -3\n",
    "d1 = 2.0\n",
    "d2 = 5.0\n",
    "d3 = -0.5\n",
    "r1 = 3 * (d1 + d2) * (d1 - d3)\n",
    "r2 = (d1 + d2 + d3) / 3\n",
    "r3 = d1 + d2 + (d3 / 3)\n",
    "r4 = i1 // i2 + i3\n",
    "r5 = i1 / i2 + i3\n",
    "print(r1)\n",
    "print(r2)\n",
    "print(r3)\n",
    "print(r4)\n",
    "print(r5)"
   ]
  }
 ],
 "metadata": {
  "kernelspec": {
   "display_name": "Python 3",
   "language": "python",
   "name": "python3"
  },
  "language_info": {
   "codemirror_mode": {
    "name": "ipython",
    "version": 3
   },
   "file_extension": ".py",
   "mimetype": "text/x-python",
   "name": "python",
   "nbconvert_exporter": "python",
   "pygments_lexer": "ipython3",
   "version": "3.7.3"
  }
 },
 "nbformat": 4,
 "nbformat_minor": 2
}
