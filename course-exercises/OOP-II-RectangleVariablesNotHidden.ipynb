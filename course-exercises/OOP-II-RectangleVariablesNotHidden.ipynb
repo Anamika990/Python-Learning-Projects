{
 "cells": [
  {
   "cell_type": "markdown",
   "metadata": {
    "collapsed": true
   },
   "source": [
    "### Objects And Classes - II- Hiding Instance Variables\n",
    "\n",
    "__This notebook demonstrates that using the single '\\_' to prefix does not actually restrict access to the variables. As stated in the earlier notebook, this is a mechanism just used to signal to other users of the class that direct access of these variables is not recommended.__"
   ]
  },
  {
   "cell_type": "markdown",
   "metadata": {},
   "source": [
    "__In the following cell, I have rewritten the Rectangle class by changing the variable names to be prefixed by a single \n",
    "underscore character.  I have therefore also changed the name of the class to `Rectangle_NotHidden`.__"
   ]
  },
  {
   "cell_type": "code",
   "execution_count": null,
   "metadata": {},
   "outputs": [],
   "source": [
    "class Rectangle_NotHidden: \n",
    "    def __init__(self, l, w): \n",
    "        self._length = l \n",
    "        self._width = w \n",
    " \n",
    "    def get_length(self):\n",
    "        return self._length\n",
    "    \n",
    "    def get_width(self):\n",
    "        return self._width\n",
    "\n",
    "    def set_length(self, l):\n",
    "        self._length = l\n",
    "        \n",
    "    def set_width(self, w):\n",
    "        self._width = w\n",
    "        \n",
    "    def __str__(self):\n",
    "        return 'length = ' + str(self._length) + '; width = ' + str(self._width) \n",
    "        \n",
    "    def compute_area(self):\n",
    "        return self._width * self._length\n",
    "    "
   ]
  },
  {
   "cell_type": "markdown",
   "metadata": {},
   "source": [
    "__In the following example we will again create an object of the `Rectangle_NotHidden` class. Then we will print out the values of the variables directly, demonstrating that this can be easily done because, the single underscore is just a naming convention.__"
   ]
  },
  {
   "cell_type": "code",
   "execution_count": null,
   "metadata": {},
   "outputs": [],
   "source": [
    "'''\n",
    "In this example we will again create an object of the Rectangle_NotHidden class.\n",
    "Then we will print out the values of the variables directly, demonstrating that this can be easily done because,\n",
    "the single underscore is just a naming convention.\n",
    "'''\n",
    "\n",
    "r1 = Rectangle_NotHidden(4, 8)\n",
    "print('Length is', r1._length)\n",
    "print('Width is', r1._width)\n",
    "print(dir(r1))"
   ]
  }
 ],
 "metadata": {
  "kernelspec": {
   "display_name": "Python 3",
   "language": "python",
   "name": "python3"
  },
  "language_info": {
   "codemirror_mode": {
    "name": "ipython",
    "version": 3
   },
   "file_extension": ".py",
   "mimetype": "text/x-python",
   "name": "python",
   "nbconvert_exporter": "python",
   "pygments_lexer": "ipython3",
   "version": "3.7.6"
  }
 },
 "nbformat": 4,
 "nbformat_minor": 2
}
