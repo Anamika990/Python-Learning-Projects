{
 "cells": [
  {
   "cell_type": "markdown",
   "metadata": {},
   "source": [
    "## Sets\n",
    "__This set of notebooks covers the last builtin data structure we will discuss in this course - *Set*.__ \n",
    "\n",
    "__Some of the properties of a set are:__\n",
    "\n",
    "    -  All items are unique (no duplicate items)\n",
    "    -  Sets are unordered.  Since sets are unordered, sets do not support indexing\n",
    "    -  Elements in a set can be of different data types\n",
    "    \n",
    "    \n",
    "__In this notebook, we will look at how to__\n",
    "\n",
    "1.  Create a set using the set() function\n",
    "\n",
    "2.  Traverse a set\n",
    "\n",
    "3.  Find the number of elements in a set using the `len()` function\n",
    "\n",
    "4.  Clear out the contents of a set using the `clear()` method\n",
    "\n",
    "5.  Delete an entire set using the `del` operator\n"
   ]
  },
  {
   "cell_type": "markdown",
   "metadata": {},
   "source": [
    "__A set is created by using the `set()` function or placing all the elements within a pair of curly braces.  Note that when using the `set()` function, the input argument must be an iterable parameter__"
   ]
  },
  {
   "cell_type": "code",
   "execution_count": null,
   "metadata": {},
   "outputs": [],
   "source": [
    "fruits = {'apples', 'oranges', 'bananas'}\n",
    "vegetables = set(['tomatoes', 'potatoes', 'onions', 'peas'])\n",
    "print(fruits)\n",
    "print(vegetables)\n",
    "print(type(fruits))\n",
    "print(type(vegetables))\n",
    "s = set(['hello'])\n",
    "print(s)\n",
    "s1 = set('hello')\n",
    "print(s1)"
   ]
  },
  {
   "cell_type": "markdown",
   "metadata": {},
   "source": [
    "__To access elements in a set, you can use the `for` loop__"
   ]
  },
  {
   "cell_type": "code",
   "execution_count": null,
   "metadata": {},
   "outputs": [],
   "source": [
    "fruits = {'apples', 'oranges', 'bananas'}\n",
    "for f in fruits:\n",
    "    print(f)"
   ]
  },
  {
   "cell_type": "markdown",
   "metadata": {},
   "source": [
    "__To find the number of elements in a set, use the `len()` function__"
   ]
  },
  {
   "cell_type": "code",
   "execution_count": null,
   "metadata": {},
   "outputs": [],
   "source": [
    "months = {'January', 'February', 'March', 'April', 'May', 'May','May','May','June', \n",
    "          'July', 'August', 'September', 'October', 'November', 'December'}\n",
    "print('The number of elements in months is:', len(months))          "
   ]
  },
  {
   "cell_type": "markdown",
   "metadata": {},
   "source": [
    "__To delete a set use the `del` operator.__"
   ]
  },
  {
   "cell_type": "code",
   "execution_count": null,
   "metadata": {},
   "outputs": [],
   "source": [
    "x = {1,4,17,20}\n",
    "print(x)\n",
    "del x\n",
    "print(x) #This will generate an error"
   ]
  }
 ],
 "metadata": {
  "kernelspec": {
   "display_name": "Python 3",
   "language": "python",
   "name": "python3"
  },
  "language_info": {
   "codemirror_mode": {
    "name": "ipython",
    "version": 3
   },
   "file_extension": ".py",
   "mimetype": "text/x-python",
   "name": "python",
   "nbconvert_exporter": "python",
   "pygments_lexer": "ipython3",
   "version": "3.7.6"
  }
 },
 "nbformat": 4,
 "nbformat_minor": 2
}
