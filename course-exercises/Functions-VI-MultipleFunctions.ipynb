{
 "cells": [
  {
   "cell_type": "markdown",
   "metadata": {},
   "source": [
    "## Organizing a complex task into multiple functions\n",
    "__In this notebook, we look at how complex tasks can be organized into smaller logical units  thereby making the code easier to debug and understand. A Python script can contain multiple functions.  Further, a function can call one or more other functions from itself.__"
   ]
  },
  {
   "cell_type": "markdown",
   "metadata": {},
   "source": [
    "__In the following example, we write a script to accept two integer values from the user and  then print the sum, difference, product and quotient. To do this, we split each task (addition, subtraction, multiplication, and division) into a function by itself. We then define the `main()` function to accept user input and call each of the four previously defined functions, one by one and print the results.__\n",
    "\n",
    "__The call to the `main()` function is the only statement in the script which is not part of a function definition.__\n",
    "\n",
    "__Note that a function should be defined first before it can be called. In the example below, the `main()` function must be\n",
    "defined after the first four functions since the main() calls these functions.__"
   ]
  },
  {
   "cell_type": "code",
   "execution_count": null,
   "metadata": {},
   "outputs": [],
   "source": [
    "\n",
    "def add_two(i1, i2):\n",
    "    '''\n",
    "    This function adds two integers.\n",
    "    \n",
    "    This function accepts two integers as input and returns their sum.\n",
    "    '''\n",
    "    return i1 + i2\n",
    "\n",
    "def minus_two(i1, i2):\n",
    "    '''\n",
    "    This function subtracts one integer from the other.\n",
    "    \n",
    "    This function accepts two integers as input and returns their difference.\n",
    "    '''\n",
    "    return i1 - i2\n",
    "\n",
    "def multiply_two(i1, i2):\n",
    "    '''\n",
    "    This function multiplies two integers.\n",
    "    \n",
    "    This function accepts two integers as input and returns their product.\n",
    "    '''\n",
    "    return i1 * i2\n",
    "\n",
    "def divide_two(i1, i2):\n",
    "    '''\n",
    "    This function divides one integer by another.\n",
    "    \n",
    "    This function accepts two integers as input and returns the quotient.\n",
    "    '''\n",
    "    if i2 != 0:\n",
    "        return i1/i2\n",
    "    else:\n",
    "        return 'Cannot divide by 0'\n",
    "    \n",
    "def main():\n",
    "    n1 = int(input('Enter the first integer: '))\n",
    "    n2 = int(input('Enter the second integer: '))\n",
    "    print('The sum of the two integers is: ', add_two(n1, n2))\n",
    "    print('The difference between the two integers is: ', minus_two(n1, n2))\n",
    "    print('The product of the two integers is: ', multiply_two(n1, n2))\n",
    "    print('The quotient after diving the two integers is: ', divide_two(n1, n2))\n",
    "\n",
    "\n",
    "main()\n"
   ]
  }
 ],
 "metadata": {
  "kernelspec": {
   "display_name": "Python 3",
   "language": "python",
   "name": "python3"
  },
  "language_info": {
   "codemirror_mode": {
    "name": "ipython",
    "version": 3
   },
   "file_extension": ".py",
   "mimetype": "text/x-python",
   "name": "python",
   "nbconvert_exporter": "python",
   "pygments_lexer": "ipython3",
   "version": "3.7.6"
  }
 },
 "nbformat": 4,
 "nbformat_minor": 2
}
