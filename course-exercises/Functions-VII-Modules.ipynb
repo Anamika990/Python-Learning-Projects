{
 "cells": [
  {
   "cell_type": "markdown",
   "metadata": {},
   "source": [
    "## The `math` Module\n",
    "__A module is a file containing Python code.  The name of the module is the same as the name of the file.  The whole module or specific functions in a module can then be used in other Python programs by using the `import` statement. In this notebook we will discuss some functions available in the `math` module.__"
   ]
  },
  {
   "cell_type": "code",
   "execution_count": null,
   "metadata": {},
   "outputs": [],
   "source": [
    "''' \n",
    "To import the entire contents of a module, use 'import modulename'.  \n",
    "Then, in the program use the function from the module, prefixed by the module name.\n",
    "'''\n",
    "import math\n",
    "print(math.sqrt(4))"
   ]
  },
  {
   "cell_type": "code",
   "execution_count": null,
   "metadata": {},
   "outputs": [],
   "source": [
    "''' \n",
    "You can also give an alias to each modulename and use this in your program instead of the module name. Once the alias \n",
    "is defined, you must use the alias as a prefix and not the original modulename.\n",
    "'''\n",
    "import math as mt\n",
    "print(mt.sqrt(4))\n",
    "print(math.sqrt(4)) #This will result in an error\n",
    "'''\n",
    "The above line will NOT generate an error if you executed the previous cell BEFORE executing this one.  That is because, \n",
    "the import statement was executed and it is still available in the kernel.  To replicate the error, you first need to select\n",
    "the 'Restart and Clear the Output' option before executing this cell\n",
    "'''"
   ]
  },
  {
   "cell_type": "code",
   "execution_count": null,
   "metadata": {},
   "outputs": [],
   "source": [
    "'''\n",
    "The approach described in the two cells above is not recommended unless you plan to use a majority of the functions \n",
    "available in the module.  \n",
    "Better programming practice is to selectively import only those functions that you will use in the program as shown below.\n",
    "'''\n",
    "from math import sqrt, log10, exp"
   ]
  },
  {
   "cell_type": "code",
   "execution_count": null,
   "metadata": {},
   "outputs": [],
   "source": [
    "'''\n",
    "This script demonstrates the use of the sqrt, exp, log, log10, and the pow functions\n",
    "'''\n",
    "from math import sqrt, exp, log, log10, pow\n",
    "print('The square root of 16 is: ', sqrt(16))\n",
    "print('e raised to 2 is: ', exp(2))\n",
    "print('The natural log of 8 is : ', log(8))\n",
    "print('The log to the base 10 of 8 is : ', log10(8))\n",
    "print('5 raised to 8 is: ', pow(5,8))"
   ]
  }
 ],
 "metadata": {
  "kernelspec": {
   "display_name": "Python 3",
   "language": "python",
   "name": "python3"
  },
  "language_info": {
   "codemirror_mode": {
    "name": "ipython",
    "version": 3
   },
   "file_extension": ".py",
   "mimetype": "text/x-python",
   "name": "python",
   "nbconvert_exporter": "python",
   "pygments_lexer": "ipython3",
   "version": "3.7.6"
  }
 },
 "nbformat": 4,
 "nbformat_minor": 2
}
