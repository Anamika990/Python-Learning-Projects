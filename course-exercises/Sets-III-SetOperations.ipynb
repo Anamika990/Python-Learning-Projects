{
 "cells": [
  {
   "cell_type": "markdown",
   "metadata": {},
   "source": [
    "## Set Operations\n",
    "__In this section, we will discuss a few set operations.  In the following, each method accepts a second set as an argument. Specifically, we will cover:__\n",
    "\n",
    "1. `union()` :  returns a new set that contains all distinct elements in the two sets combined. \n",
    "                We can also use the `|` operator\n",
    "              \n",
    "2. `intersection()`: returns a new set that contains all the elements that are common to the two sets. Note that if there are no common elements, an empty set is returned.  \n",
    "                We can also use the `&` operator\n",
    "\n",
    "3. `difference()` : returns a new set that contains the elements that belong only to the first set. Note that if there are no such elements, an empty set is returned.\n",
    "                We can also use the `-` operator\n",
    "\n",
    "4. `issubset()` : returns True if all elements of the first set are also in the second set. It returns False otherwise. \n",
    "                We can also use the `<=` operator\n",
    "\n",
    "5. `issuperset()`: returns True if all elements of the second set are also in the first set. It returns False otherwise. \n",
    "                We can also use the `>=` operator"
   ]
  },
  {
   "cell_type": "markdown",
   "metadata": {},
   "source": [
    "__The `union()` method accepts a second set as an argument and returns a new set that contains all distinct elements in the two sets combined.__"
   ]
  },
  {
   "cell_type": "code",
   "execution_count": null,
   "metadata": {
    "scrolled": true
   },
   "outputs": [],
   "source": [
    "veg1 = set(('onions', 'tomatoes', 'carrots'))\n",
    "veg2 = set(('cauliflower', 'cabbage', 'carrots'))\n",
    "\n",
    "veg3 = veg1.union(veg2)\n",
    "veg4 = veg2.union(veg1)\n",
    "\n",
    "print(veg3)\n",
    "print(veg4)\n",
    "\n",
    "print(veg1)\n",
    "print(veg2)"
   ]
  },
  {
   "cell_type": "markdown",
   "metadata": {},
   "source": [
    "__You can also use the `|` operator to get the union of two sets__"
   ]
  },
  {
   "cell_type": "code",
   "execution_count": null,
   "metadata": {},
   "outputs": [],
   "source": [
    "veg1 = set(('onions', 'tomatoes', 'carrots'))\n",
    "veg2 = set(['cauliflower', 'cabbage', 'carrots'])\n",
    "veg3 = veg2 | veg1  # same as veg1.union(veg2)\n",
    "print(veg3)\n",
    "print(veg1)\n",
    "print(veg2)"
   ]
  },
  {
   "cell_type": "markdown",
   "metadata": {},
   "source": [
    "__The `intersection()` method accepts a second set as an argument and returns a new set that contains all the elements that are common to the two sets. Note that if there are no common elements, an empty set is returned__"
   ]
  },
  {
   "cell_type": "code",
   "execution_count": null,
   "metadata": {},
   "outputs": [],
   "source": [
    "veg1 = set(('onions', 'tomatoes', 'carrots' ))\n",
    "veg2 = set(('cauliflower', 'cabbage', 'carrots'))\n",
    "\n",
    "veg3 = veg1.intersection(veg2)\n",
    "veg4 = veg2.intersection(veg1)\n",
    "\n",
    "print(veg3)\n",
    "print(veg4)\n",
    "print(veg1)\n",
    "print(veg2)\n",
    "\n",
    "veg1.remove('carrots')\n",
    "veg5 = veg1.intersection(veg2)\n",
    "print(veg5)"
   ]
  },
  {
   "cell_type": "markdown",
   "metadata": {},
   "source": [
    "__We can also use the `&` operator to get the intersection of two sets__"
   ]
  },
  {
   "cell_type": "code",
   "execution_count": null,
   "metadata": {},
   "outputs": [],
   "source": [
    "veg1 = set(('onions', 'tomatoes', 'carrots' ))\n",
    "veg2 = set(['cauliflower', 'cabbage', 'carrots'])\n",
    "veg3 = veg1 & veg2 # same as veg1.intersection(veg2)\n",
    "print(veg3)"
   ]
  },
  {
   "cell_type": "markdown",
   "metadata": {},
   "source": [
    "__The `difference()` method accepts a second set as an argument and returns a new set that contains the elements that belong only to the first set. Note that if there are no such elements, an empty set is returned.__"
   ]
  },
  {
   "cell_type": "code",
   "execution_count": null,
   "metadata": {},
   "outputs": [],
   "source": [
    "veg1 = set(('onions', 'tomatoes', 'carrots' ))\n",
    "veg2 = set(['cauliflower', 'cabbage', 'carrots'])\n",
    "veg3 = veg1.difference(veg2)\n",
    "print(veg3)\n",
    "\n",
    "print(veg2.difference(veg1))"
   ]
  },
  {
   "cell_type": "markdown",
   "metadata": {},
   "source": [
    "__We can also use the `-` operator to get the difference between two sets__"
   ]
  },
  {
   "cell_type": "code",
   "execution_count": null,
   "metadata": {},
   "outputs": [],
   "source": [
    "veg1 = set(('onions', 'tomatoes', 'carrots' ))\n",
    "veg2 = set(['cauliflower', 'cabbage', 'carrots'])\n",
    "veg3 = veg1 - veg2 # same as veg1.difference(veg2)"
   ]
  },
  {
   "cell_type": "markdown",
   "metadata": {},
   "source": [
    "__The `symmetric_difference()` method accepts a second set as an argument and returns a new set that contains the elements\n",
    "that belong only to one of the two sets. Note that if there are no such elements, an empty set is returned__"
   ]
  },
  {
   "cell_type": "code",
   "execution_count": null,
   "metadata": {},
   "outputs": [],
   "source": [
    "veg1 = set(('onions', 'tomatoes', 'carrots' ))\n",
    "veg2 = set(['cauliflower', 'cabbage', 'carrots'])\n",
    "veg3 = veg1.symmetric_difference(veg2)\n",
    "print(veg3)"
   ]
  },
  {
   "cell_type": "markdown",
   "metadata": {},
   "source": [
    "__The `^`operator also does the same__"
   ]
  },
  {
   "cell_type": "code",
   "execution_count": null,
   "metadata": {},
   "outputs": [],
   "source": [
    "veg1 = set(('onions', 'tomatoes', 'carrots' ))\n",
    "veg2 = set(['cauliflower', 'cabbage', 'carrots'])\n",
    "veg3 = veg1^ veg2 # veg1.symmetric_difference(veg2)\n",
    "print(veg3)"
   ]
  },
  {
   "cell_type": "markdown",
   "metadata": {},
   "source": [
    "__The `issubset()` method accepts another set as an argument.  It returns true if all elements of the FIRST set are also in the SECOND set.__"
   ]
  },
  {
   "cell_type": "code",
   "execution_count": null,
   "metadata": {},
   "outputs": [],
   "source": [
    "veg1 = set(('tomatoes', 'carrots' ))\n",
    "veg2 = set(['carrots', 'tomatoes'])\n",
    "print(veg1.issubset(veg2))\n",
    "print(veg2.issubset(veg1))"
   ]
  },
  {
   "cell_type": "markdown",
   "metadata": {},
   "source": [
    "__The `<=` operator works the same as the `issubset()` method__"
   ]
  },
  {
   "cell_type": "code",
   "execution_count": null,
   "metadata": {},
   "outputs": [],
   "source": [
    "veg1 = set(('onions', 'tomatoes', 'carrots' ))\n",
    "veg2 = set(['carrots', 'tomatoes'])\n",
    "print(veg1  <= veg2)\n",
    "print(veg2 <= veg1)"
   ]
  },
  {
   "cell_type": "markdown",
   "metadata": {},
   "source": [
    "__The `issuperset()` method accepts a second set as an argument.  It returns true if all elements of the SECOND set are also in the FIRST set.__"
   ]
  },
  {
   "cell_type": "code",
   "execution_count": null,
   "metadata": {},
   "outputs": [],
   "source": [
    "veg1 = set(('onions', 'tomatoes', 'carrots' ))\n",
    "veg2 = set(['carrots', 'tomatoes'])\n",
    "print(veg1.issuperset(veg2))\n",
    "print(veg2.issuperset(veg1))"
   ]
  },
  {
   "cell_type": "markdown",
   "metadata": {},
   "source": [
    "__The `>=` operator works the same as the `issuperset()` method__"
   ]
  },
  {
   "cell_type": "code",
   "execution_count": null,
   "metadata": {},
   "outputs": [],
   "source": [
    "veg1 = set(('onions', 'tomatoes', 'carrots' ))\n",
    "veg2 = set(['carrots', 'tomatoes'])\n",
    "print(veg1 >= veg2)\n",
    "print(veg2 >= veg1)"
   ]
  }
 ],
 "metadata": {
  "kernelspec": {
   "display_name": "Python 3",
   "language": "python",
   "name": "python3"
  },
  "language_info": {
   "codemirror_mode": {
    "name": "ipython",
    "version": 3
   },
   "file_extension": ".py",
   "mimetype": "text/x-python",
   "name": "python",
   "nbconvert_exporter": "python",
   "pygments_lexer": "ipython3",
   "version": "3.7.6"
  }
 },
 "nbformat": 4,
 "nbformat_minor": 2
}
