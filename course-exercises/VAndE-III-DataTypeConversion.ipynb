{
 "cells": [
  {
   "cell_type": "markdown",
   "metadata": {},
   "source": [
    "### Main Data Types\n",
    "__In this notebook, we revist data types in Python and also look at how values of one type can be converted to another__\n",
    "\n",
    "All Python variables and constants are categorized into types\n",
    "Main types to start off:  `str`, `int`, `float`"
   ]
  },
  {
   "cell_type": "code",
   "execution_count": null,
   "metadata": {},
   "outputs": [],
   "source": [
    "'''\n",
    "Use the type() function to find out the type of the value or variable\n",
    "'''\n",
    "c = type(5678)\n",
    "print(c)\n",
    "print(type(5678)) \n",
    "print(type(45.83))\n",
    "print(type('hajksdl'))"
   ]
  },
  {
   "cell_type": "code",
   "execution_count": null,
   "metadata": {},
   "outputs": [],
   "source": [
    "'''\n",
    "You can convert a variable of one type to another by using the appropriate inbuilt function.  \n",
    "int(), float(), str().  \n",
    "'''\n",
    "i = 45\n",
    "x = 25.5\n",
    "my_str = 'Hello'\n",
    "my_int_str = '145'\n",
    "my_float_str = '145.8'\n",
    "print(type(i))\n",
    "print(type(x))\n",
    "print(type(my_str))\n",
    "print(type(my_int_str))\n",
    "print(type(my_float_str))"
   ]
  },
  {
   "cell_type": "code",
   "execution_count": null,
   "metadata": {},
   "outputs": [],
   "source": [
    "'''\n",
    "Builtin functions can be used to convert one type to another only if the values are \"convertible\".  \n",
    "'''\n",
    "my_str = 'Hello'\n",
    "my_int_str = '145'\n",
    "my_float_str = '145.8'\n",
    "my_int1 = int(my_int_str)  # This is will work as expected\n",
    "print(type(my_int1))\n",
    "#my_int2 = int(my_float_str) #This will generate an error since the value of my_float_str cannot be converted to int\n",
    "my_float1 = float(my_float_str)\n",
    "print(type(my_float1))\n",
    "my_float = float(my_str) # This will generate an error since my_str cannot be converted to a float value"
   ]
  },
  {
   "cell_type": "code",
   "execution_count": null,
   "metadata": {},
   "outputs": [],
   "source": [
    "'''\n",
    "convert i to a float value\n",
    "convert x to a str value\n",
    "can you convert my_str to an int value?  to a float value?\n",
    "can you convert i to a str value?\n",
    "can you convert x to an int value?\n",
    "'''\n",
    "i = 67\n",
    "x = 23.5\n",
    "my_str = 'Wow'"
   ]
  }
 ],
 "metadata": {
  "kernelspec": {
   "display_name": "Python 3",
   "language": "python",
   "name": "python3"
  },
  "language_info": {
   "codemirror_mode": {
    "name": "ipython",
    "version": 3
   },
   "file_extension": ".py",
   "mimetype": "text/x-python",
   "name": "python",
   "nbconvert_exporter": "python",
   "pygments_lexer": "ipython3",
   "version": "3.7.3"
  }
 },
 "nbformat": 4,
 "nbformat_minor": 2
}
