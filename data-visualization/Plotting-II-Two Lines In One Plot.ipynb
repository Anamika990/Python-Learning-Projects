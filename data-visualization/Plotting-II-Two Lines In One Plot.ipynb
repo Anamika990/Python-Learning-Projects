{
 "cells": [
  {
   "cell_type": "markdown",
   "metadata": {},
   "source": [
    "## Plots - II\n",
    "### Plotting two lines on the same graph. "
   ]
  },
  {
   "cell_type": "markdown",
   "metadata": {},
   "source": [
    "### Plotting two lines on the same graph\n",
    "__The process is very similar to plotting one line. Like for a single line graph, you need to:__\n",
    "1.  Provide the requisite data\n",
    "2.  Call the plot() function\n",
    "3.  Provide a title\n",
    "4.  Provide x and y axis labels\n",
    "5.  Show the plot\n",
    "\n",
    "__The main differences are:__\n",
    "1.  You need to provide data for two lines instead of one.  Note that one of the axes will have the same data for both lines. Hence you will provide three columns of data. One for the x-axis and two for the y-axis_\n",
    "2.  Call the plot() function twice: once for each line graph\n",
    "3.  Use the 'label' argument for the plot() function to provide a separate legend for each graph.  This helps associate each line with the appropriate data\n",
    "4. Then use the legend() function to add a legend to the graph"
   ]
  },
  {
   "cell_type": "code",
   "execution_count": null,
   "metadata": {},
   "outputs": [],
   "source": [
    "'''\n",
    "Plot two lines on the same graph.\n",
    "'''\n",
    "\n",
    "#As before import the pyplot module from the matplotlib package\n",
    "import matplotlib.pyplot as plt \n",
    "# Note that when plotting multi-line grpahs, the x-axis (usually) has data that is the same for both graphs\n",
    "\n",
    "# x-axis data \n",
    "years = ['2003', '2004', '2005', '2006', '2007'] \n",
    "\n",
    "# line 1 data\n",
    "full_time_students = [10000, 9500, 11100, 12000, 13300] \n",
    "\n",
    "# line 2 data \n",
    "part_time_students = [2000, 2100, 2050, 2700, 2550] \n",
    "\n",
    "\n",
    "# plot the first line.  The label parameter is used to generate a legend to distinguish to identify the two lines\n",
    "plt.plot(years, full_time_students, label = \"Enrollment of full-time students\") \n",
    "\n",
    "# plot the second line.  Provide a label for this line as well\n",
    "plt.plot(years, part_time_students, label = \"Enrollment of part-time students\") \n",
    "\n",
    "# name the x axis \n",
    "plt.xlabel('Years') \n",
    "\n",
    "# name the y axis \n",
    "plt.ylabel('Number of Students Enrolled')\n",
    "\n",
    "# give a title to the graph \n",
    "plt.title('Student Enrollment Per Year') \n",
    "\n",
    "'''\n",
    "Show a legend on the plot. The 'loc' parameter specifies where the legend should be displayed.  The default is 'upper left'.\n",
    "The 'best' option will place the legend in the best location for your particular graph\n",
    "'''  \n",
    "plt.legend(loc='best') \n",
    "\n",
    "# function to show the plot \n",
    "plt.show() \n"
   ]
  }
 ],
 "metadata": {
  "kernelspec": {
   "display_name": "Python 3",
   "language": "python",
   "name": "python3"
  },
  "language_info": {
   "codemirror_mode": {
    "name": "ipython",
    "version": 3
   },
   "file_extension": ".py",
   "mimetype": "text/x-python",
   "name": "python",
   "nbconvert_exporter": "python",
   "pygments_lexer": "ipython3",
   "version": "3.7.6"
  }
 },
 "nbformat": 4,
 "nbformat_minor": 2
}
