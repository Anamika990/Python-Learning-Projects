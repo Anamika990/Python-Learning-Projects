{
 "cells": [
  {
   "cell_type": "markdown",
   "metadata": {
    "collapsed": true
   },
   "source": [
    "## Plots XII\n",
    "### Saving graphs to a file\n",
    "__If we wish to save the graph that is generated in a separate file, this is easily done by using the plt.savefig() function. This statement must come before the call to the show() function.  You can save the file in any of the following formats:__\n",
    "\n",
    "`eps, jpeg, jpg, pdf, pgf, png, ps, raw, rgba, svg, svgz, tif, tiff`\n"
   ]
  },
  {
   "cell_type": "code",
   "execution_count": null,
   "metadata": {
    "scrolled": true
   },
   "outputs": [],
   "source": [
    "import matplotlib.pyplot as plt\n",
    "values = [1, 2, 5, 6, 6, 7, 7, 8, 8, 8, 9, 10, 21]\n",
    "flierprops = dict(marker='o', markerfacecolor='r', markersize=5, linestyle='--', markeredgecolor='b')\n",
    "plt.boxplot(values, whis=0.25, notch = True, flierprops = flierprops)\n",
    "\n",
    "plt.yticks(range(1, 22, 4))\n",
    "plt.ylabel('Values')\n",
    "plt.title('A Boxplot')\n",
    "plt.grid(True)\n",
    "\n",
    "plt.savefig('boxplot.pdf')\n",
    "plt.show()\n"
   ]
  }
 ],
 "metadata": {
  "kernelspec": {
   "display_name": "Python 3",
   "language": "python",
   "name": "python3"
  },
  "language_info": {
   "codemirror_mode": {
    "name": "ipython",
    "version": 3
   },
   "file_extension": ".py",
   "mimetype": "text/x-python",
   "name": "python",
   "nbconvert_exporter": "python",
   "pygments_lexer": "ipython3",
   "version": "3.7.6"
  }
 },
 "nbformat": 4,
 "nbformat_minor": 2
}
