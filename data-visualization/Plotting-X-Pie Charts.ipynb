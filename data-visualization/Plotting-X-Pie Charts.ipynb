{
 "cells": [
  {
   "cell_type": "markdown",
   "metadata": {},
   "source": [
    "## Plots - X\n",
    "### Pie Charts\n",
    "\n",
    "__A pie chart is used for plotting numerical proportions. Use the pie() function to draw a pie chart. The only required argument is the size of each pie in the pie chart.__\n",
    "\n",
    "__The other optional arguments are:__\n",
    "1. labels:  This displays the labels for each slice\n",
    "2. colors: contains a sequence listing the color for each slice.  If the number of colors is less than the number of slices,            the colors are repeated\n",
    "3. explode: indicates whether or not a slice should be separated from the other slices, and if so by how much\n",
    "4. startangle: indicates the angle at which the first slice should begin\n",
    "5. radius: the radius for the whole pie chart\n",
    "6. autopct provides the formatting information for the percentage breakdown"
   ]
  },
  {
   "cell_type": "code",
   "execution_count": null,
   "metadata": {},
   "outputs": [],
   "source": [
    "'''\n",
    "A pie chart is used for plotting numerical proportions.\n",
    "'''\n",
    "import matplotlib.pyplot as plt \n",
    "\n",
    "# defining labels \n",
    "activities = ['eat', 'sleep', 'work', 'play'] \n",
    "\n",
    "# portion covered by each label. Number/Sum(Numbers)\n",
    "slices = [3, 7, 8, 6] \n",
    "\n",
    "# colors for the slices \n",
    "colors = ['r', 'y', 'g', 'b'] \n",
    "\n",
    "# plotting the pie chart \n",
    "plt.pie(slices, labels = activities, colors=colors, explode = (0, 0, 0, 0), \n",
    "        startangle=180, \n",
    "        radius = 2, autopct = '%2.2f%%') \n",
    "\n",
    "\n",
    "# showing the plot \n",
    "plt.show() \n"
   ]
  },
  {
   "cell_type": "code",
   "execution_count": null,
   "metadata": {},
   "outputs": [],
   "source": [
    "import matplotlib.pyplot as plt \n",
    "\n",
    "# defining labels \n",
    "activities = ['eat', 'sleep', 'work', 'play'] \n",
    "\n",
    "# portion covered by each label. Number/Sum(Numbers) \n",
    "slices = [20, 30, 50, 40] \n",
    "\n",
    "# color for each label \n",
    "colors = ['r', 'y', 'g', 'b'] \n",
    "\n",
    "# plotting the pie chart \n",
    "plt.pie(slices, labels = activities, colors=colors, explode = (0, 0, 0.1, 0), \n",
    "        startangle=90, \n",
    "        radius = 1.4, autopct = '%2.2f%%') \n",
    "\n",
    "# plotting legend \n",
    "plt.legend(loc='lower right') \n",
    "\n",
    "# showing the plot \n",
    "plt.show() "
   ]
  }
 ],
 "metadata": {
  "kernelspec": {
   "display_name": "Python 3",
   "language": "python",
   "name": "python3"
  },
  "language_info": {
   "codemirror_mode": {
    "name": "ipython",
    "version": 3
   },
   "file_extension": ".py",
   "mimetype": "text/x-python",
   "name": "python",
   "nbconvert_exporter": "python",
   "pygments_lexer": "ipython3",
   "version": "3.7.6"
  }
 },
 "nbformat": 4,
 "nbformat_minor": 2
}
