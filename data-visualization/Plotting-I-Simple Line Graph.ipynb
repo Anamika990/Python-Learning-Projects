{
 "cells": [
  {
   "cell_type": "markdown",
   "metadata": {
    "collapsed": true
   },
   "source": [
    "## Plots - I\n",
    "__In this lecture we will cover some basic graphing capabilities using Python.\n",
    "We will use the matplotlib library, one of the most popular data visualization and graphing  packages available for Python.\n",
    "The specific module we will use is pyplot. Hence every notebook in this lecture will begin with importing the pyplot module\n",
    "from the matplot library. For ease of use, we will define an alias - plt - for the pyplot module.\n",
    "https://matplotlib.org/api/_as_gen/matplotlib.pyplot.html__\n"
   ]
  },
  {
   "cell_type": "markdown",
   "metadata": {
    "collapsed": true
   },
   "source": [
    "__In this notebook, we begin with simple line graphs. To plot a line graph, we use the plot function from the pyplot module.  The plot function accepts two parameters.  The first parameter is the data for the x-axis while the second parameter points to the data for the y-axis. If just one parameter is provided, it is treated as data for the y-axis.  We will follow the steps outlined below to render a graph using the plot function.__\n",
    "1. Define the sequence containing the data for each of the axes.  Note that in this class, we will assume that the data is either stored in a list or a tuple.\n",
    "2. Call the plot() function providing it with either both or just one parameter\n",
    "3. Call the title() function to add a title to the graph\n",
    "4. Call the xlabel() function to give a label for the x-axis\n",
    "5. Call the ylabel() function to give a label for the y-axis\n",
    "6. Finally, call the show() function to display the graph"
   ]
  },
  {
   "cell_type": "markdown",
   "metadata": {},
   "source": [
    "__Plot a line graph to compare the total population in Bulgaria over the years__\n",
    "\n",
    "__We first begin by importing the pyplot module from the matplotlib library.  We will use the alias 'plt' to refer \n",
    "to the imported module.__"
   ]
  },
  {
   "cell_type": "code",
   "execution_count": null,
   "metadata": {},
   "outputs": [],
   "source": [
    "'''\n",
    "Plot a line graph to compare the total population in Bulgaria over the years\n",
    "'''\n",
    "\n",
    "'''\n",
    "We first begin by importing the pyplot module from the matplotlib library.  We will use the alias 'plt' to refer \n",
    "to the imported module.\n",
    "'''\n",
    "import matplotlib.pyplot as plt\n",
    "\n",
    "#Define the two datasets we will use for plotting\n",
    "years = ('1983', '1984', '1985', '1986', '1987') #This will be the data we use for the x-axis\n",
    "total_populations = (8939007, 8954518, 8960387, 8956741, 8943721) #This is the y-axis data\n",
    "\n",
    "#The plot function accepts two parameters giving the data for the x-axis and the y-axis.\n",
    "plt.plot(years,total_populations)\n",
    "\n",
    "# The title function accepts a string argument which will be used to display the title for the graph\n",
    "plt.title(\"Year vs Population in Bulgaria\") \n",
    "\n",
    "# The xlabel function is used for the label for the x-axis\n",
    "plt.xlabel(\"Year\") \n",
    "\n",
    "# The ylabel function is similarly used for the label for the y-axis\n",
    "plt.ylabel(\"Total Population\") \n",
    "\n",
    "# Finally, the show function displays the plot\n",
    "plt.show() "
   ]
  },
  {
   "cell_type": "markdown",
   "metadata": {},
   "source": [
    "__If only one argument is provided to the plot function, that is treated as the data for the y-axis__"
   ]
  },
  {
   "cell_type": "code",
   "execution_count": null,
   "metadata": {},
   "outputs": [],
   "source": [
    "'''\n",
    "If only one argument is provided to the plot function, that is treated as the data for the y-axis\n",
    "'''\n",
    "import matplotlib.pyplot as plt\n",
    "\n",
    "total_populations = [8939007, 8954518, 8960387, 8956741, 8943721] \n",
    "\n",
    "#The plot function accepts \n",
    "plt.plot(total_populations)\n",
    "plt.title(\"Population Change in Bulgaria\")\n",
    "plt.xlabel(\"Index\")\n",
    "plt.ylabel(\"Total Population\")\n",
    "plt.show()"
   ]
  }
 ],
 "metadata": {
  "kernelspec": {
   "display_name": "Python 3",
   "language": "python",
   "name": "python3"
  },
  "language_info": {
   "codemirror_mode": {
    "name": "ipython",
    "version": 3
   },
   "file_extension": ".py",
   "mimetype": "text/x-python",
   "name": "python",
   "nbconvert_exporter": "python",
   "pygments_lexer": "ipython3",
   "version": "3.7.6"
  }
 },
 "nbformat": 4,
 "nbformat_minor": 2
}
