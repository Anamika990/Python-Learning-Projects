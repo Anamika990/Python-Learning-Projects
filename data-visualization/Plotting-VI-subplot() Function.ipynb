{
 "cells": [
  {
   "cell_type": "markdown",
   "metadata": {},
   "source": [
    "## Plots - VI\n",
    "### subplot()\n",
    "\n",
    "__This notebook demonstrates yet another way of combining multiple separate plots into one single figure using the `subplot()` function.  Each subplot will have its own set of axes.  This is useful when related data are being plotted.\n",
    "The `subplot()` function creates a grid of plots automatically and eliminates the need to manually set the axes like we did in the case of the `axes()` function.__\n",
    "\n",
    "__To use the subplot function__\n",
    "1.  Declare the data for the x-axis and the y-axis as usual\n",
    "2.  Use the subplot() command for the first subplot\n",
    "3.  Call the plot() function and also set the title and label for the first plot\n",
    "4.  Use the subplot() command for the second subplot\n",
    "5.  Set the title, and label and call the plot function\n",
    "6.  Call the show() function\n",
    "\n",
    "__The subplot function has the following arguments:__\n",
    "\n",
    "    subplot(nrows, ncols, nsubplot)\n",
    "        -nrows:  number of rows\n",
    "        -ncols:  number of columns\n",
    "        -nsubplot: number of the subplot that is to be activated\n",
    "\n",
    "__The subplots are numbered row-wise starting from the top left.  Note that the index value starts at 1 and not at 0.  The tight_layout() function ensures adequate spacing between the subplots.__"
   ]
  },
  {
   "cell_type": "code",
   "execution_count": null,
   "metadata": {},
   "outputs": [],
   "source": [
    "\n",
    "import matplotlib.pyplot as plt\n",
    "\n",
    "# x-axis data \n",
    "years = ['2003', '2004', '2005', '2006', '2007'] \n",
    "\n",
    "# y-axis - line 1 data\n",
    "full_time_students = [10000, 9500, 11100, 12000, 13300] \n",
    "\n",
    "# y-axis - line 2 data\n",
    "part_time_students = [2000, 2100, 2050, 2700, 2550] \n",
    "\n",
    "#Call subplot() for the first plot. One row, 2 columns and subplot number = 1\n",
    "plt.subplot(1,2,1)\n",
    "\n",
    "#Set the label and title for the first plot\n",
    "plt.xlabel('One')\n",
    "plt.title('Title One')\n",
    "\n",
    "# Call the plot() function for the first plot\n",
    "plt.plot(years, full_time_students)\n",
    "\n",
    "#Call subplot() for the second plot. One row, 2 columns and subplot number = 2\n",
    "plt.subplot(1,2,2)\n",
    "\n",
    "# Set the title and label for the second plot and call the plot function for the second time\n",
    "plt.xlabel('Two')\n",
    "plt.title('Title Two')\n",
    "plt.plot(years, part_time_students)\n",
    "\n",
    "# tight_layout() provides spacing between the subplot()\n",
    "plt.tight_layout()\n",
    "#Last step:  show the plot\n",
    "plt.show()"
   ]
  }
 ],
 "metadata": {
  "kernelspec": {
   "display_name": "Python 3",
   "language": "python",
   "name": "python3"
  },
  "language_info": {
   "codemirror_mode": {
    "name": "ipython",
    "version": 3
   },
   "file_extension": ".py",
   "mimetype": "text/x-python",
   "name": "python",
   "nbconvert_exporter": "python",
   "pygments_lexer": "ipython3",
   "version": "3.7.6"
  }
 },
 "nbformat": 4,
 "nbformat_minor": 2
}
