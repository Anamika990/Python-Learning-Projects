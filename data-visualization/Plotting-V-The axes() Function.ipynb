{
 "cells": [
  {
   "cell_type": "markdown",
   "metadata": {},
   "source": [
    "## Plots - V\n",
    "### axes() function\n",
    "\n",
    "__In this notebook, we discuss additional customization of graphs. Sometimes it is desirable to compare two plots side by side rather in one single graph.  This is particularly true when the scales of the two plots are very different. We use the `axes()` function to do this.__\n"
   ]
  },
  {
   "cell_type": "markdown",
   "metadata": {},
   "source": [
    "__Follow the same process we have used so far to generate the plots.  The only difference is as follows:__\n",
    "\n",
    "After defining the data for the two axes, call the axes() function by providing the following values:\n",
    "1. xlo = the x coordinate of the lower bottom point where the graph begins\n",
    "2. ylo = the y coordinate of the lower bottom point where the graph begins\n",
    "3. width = the width of the grap\n",
    "h area\n",
    "4. height = the height of the graph area\n",
    "Note that all of the above values must be in figure units (numbers between 0 and 1 scaled to the dimensions of the figure)\n",
    "After the above step, set the label and title and call the plot function for the first plot.\n",
    "\n",
    "Call the `axes()` function again for the second plot changing the arguments as appropriate.  If the plots are to display \n",
    "side by side, the only difference is likely to be in the value of xlo.  The ylo value is the only likely change if the \n",
    "plots are displayed one on top of the other\n",
    "\n",
    "After calling `axes()` the second time, set the label and title for the second plot and call the plot function.\n",
    "Finally show the plot.\n"
   ]
  },
  {
   "cell_type": "markdown",
   "metadata": {},
   "source": [
    "__In this example, the graphs are plotted side by side.__"
   ]
  },
  {
   "cell_type": "code",
   "execution_count": null,
   "metadata": {},
   "outputs": [],
   "source": [
    "'''\n",
    "In this example, the graphs are plotted side by side.\n",
    "'''\n",
    "import matplotlib.pyplot as plt\n",
    "\n",
    "# x-axis data \n",
    "years = ['2003', '2004', '2005', '2006', '2007'] \n",
    "\n",
    "# line 1 data\n",
    "full_time_students = [10000, 9500, 11100, 12000, 13300] \n",
    "\n",
    "# line 2 data\n",
    "part_time_students = [2000, 2100, 2050, 2700, 2550] \n",
    "\n",
    "#Call axes() for the first plot\n",
    "plt.axes([0.05, 0.05, 0.375, 0.9])\n",
    "\n",
    "# Set the axes, title and label for the first plot and call the plot function for the first time\n",
    "plt.xlabel('One')\n",
    "plt.title('Title One')\n",
    "plt.plot(years, full_time_students)\n",
    "\n",
    "# Set the axes, title and label for the second plot and call the plot function for the second time\n",
    "plt.axes([0.525, 0.05, 0.375, 0.9])\n",
    "plt.xlabel('Two')\n",
    "plt.title('Title Two')\n",
    "plt.plot(years, part_time_students)\n",
    "\n",
    "#Last step:  show the plot\n",
    "plt.show()\n",
    "\n"
   ]
  },
  {
   "cell_type": "markdown",
   "metadata": {},
   "source": [
    "__In this example, the graphs are plotted one on top of the other.__"
   ]
  },
  {
   "cell_type": "code",
   "execution_count": null,
   "metadata": {},
   "outputs": [],
   "source": [
    "'''\n",
    "In this example, the graphs are plotted one on top one another.\n",
    "'''\n",
    "import matplotlib.pyplot as plt\n",
    "\n",
    "# x-axis data \n",
    "years = ['2003', '2004', '2005', '2006', '2007'] \n",
    "\n",
    "# line 1 data\n",
    "full_time_students = [10000, 9500, 11100, 12000, 13300] \n",
    "\n",
    "# line 2 data\n",
    "part_time_students = [2000, 2100, 2050, 2700, 2550] \n",
    "\n",
    "\n",
    "#Call axes() for the first plot\n",
    "plt.axes([0.05, 0.4, 0.9, 0.35])\n",
    "\n",
    "#Set the label and title for the first plot\n",
    "plt.xlabel('One')\n",
    "plt.title('Title One')\n",
    "\n",
    "# Call the plot() function for the first plot\n",
    "plt.plot(years, full_time_students)\n",
    "\n",
    "# Set the axes, title and label for the second plot and call the plot function for the second time\n",
    "plt.axes([0.05, 0.05, 0.9, 0.35])\n",
    "plt.xlabel('Two')\n",
    "plt.title('Title Two')\n",
    "plt.plot(years, part_time_students)\n",
    "\n",
    "#Last step:  show the plot\n",
    "plt.show()\n",
    "\n"
   ]
  }
 ],
 "metadata": {
  "kernelspec": {
   "display_name": "Python 3",
   "language": "python",
   "name": "python3"
  },
  "language_info": {
   "codemirror_mode": {
    "name": "ipython",
    "version": 3
   },
   "file_extension": ".py",
   "mimetype": "text/x-python",
   "name": "python",
   "nbconvert_exporter": "python",
   "pygments_lexer": "ipython3",
   "version": "3.7.6"
  }
 },
 "nbformat": 4,
 "nbformat_minor": 2
}
