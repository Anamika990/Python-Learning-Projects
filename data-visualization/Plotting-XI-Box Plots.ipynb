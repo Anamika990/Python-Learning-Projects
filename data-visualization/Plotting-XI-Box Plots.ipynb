{
 "cells": [
  {
   "cell_type": "markdown",
   "metadata": {},
   "source": [
    "## Plots XI\n",
    "### Boxplots\n",
    "\n",
    "__Use the `boxplot()`function to plot boxplots.  The only argument required is a sequence containing the values.__"
   ]
  },
  {
   "cell_type": "code",
   "execution_count": null,
   "metadata": {
    "scrolled": true
   },
   "outputs": [],
   "source": [
    "'''\n",
    "Use the boxplot() function to plot boxplots.\n",
    "'''\n",
    "import matplotlib.pyplot as plt\n",
    "values = [1, 2, 5, 6, 6, 7, 7, 8, 8, 8, 9, 10, 21]\n",
    "\n",
    "plt.boxplot(values)\n",
    "plt.yticks(range(1, 22, 4))\n",
    "\n",
    "plt.ylabel('Values')\n",
    "plt.title('A Boxplot')\n",
    "plt.grid(True)\n",
    "plt.show()\n"
   ]
  },
  {
   "cell_type": "markdown",
   "metadata": {},
   "source": [
    "__Some of the optional arguments to the boxplot function are:__\n",
    "\n",
    "1.  __whis__:  \n",
    "    a. determines the reach of the whiskers.  \n",
    "    b. The default is 1.5.  \n",
    "    c.  The reach is computed as Q3 + (whis\\*IQR) for the top whisker and Q1 - (whis\\*IQR) for the bottom whisker\n",
    "2. __vert__:  \n",
    "    a. The default is True.  \n",
    "    b. If set to false, the boxplot is drawn horizontally\n",
    "3. __notch__:  \n",
    "    a. The default is False.  \n",
    "    b. Otherwise a notch is drawn at the median   \n",
    "4. __flierprops__:  \n",
    "    is a dictionary containing the properties for the markers and the line "
   ]
  },
  {
   "cell_type": "code",
   "execution_count": null,
   "metadata": {},
   "outputs": [],
   "source": [
    "'''\n",
    "Use the boxplot() function to plot boxplots.\n",
    "'''\n",
    "import matplotlib.pyplot as plt\n",
    "values = [1, 2, 5, 6, 6, 7, 7, 8, 8, 8, 9, 10, 21]\n",
    "flierprops = dict(marker='o', markerfacecolor='r', markersize=5, linestyle='--', markeredgecolor='b')\n",
    "plt.boxplot(values, whis=0.25, notch = True, flierprops = flierprops)\n",
    "\n",
    "plt.yticks(range(1, 22, 4))\n",
    "plt.ylabel('Values')\n",
    "plt.title('A Boxplot')\n",
    "plt.grid(True)\n",
    "\n",
    "plt.show()"
   ]
  }
 ],
 "metadata": {
  "kernelspec": {
   "display_name": "Python 3",
   "language": "python",
   "name": "python3"
  },
  "language_info": {
   "codemirror_mode": {
    "name": "ipython",
    "version": 3
   },
   "file_extension": ".py",
   "mimetype": "text/x-python",
   "name": "python",
   "nbconvert_exporter": "python",
   "pygments_lexer": "ipython3",
   "version": "3.7.6"
  }
 },
 "nbformat": 4,
 "nbformat_minor": 2
}
