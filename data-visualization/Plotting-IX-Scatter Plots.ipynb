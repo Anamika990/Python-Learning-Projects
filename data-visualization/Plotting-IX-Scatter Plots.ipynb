{
 "cells": [
  {
   "cell_type": "markdown",
   "metadata": {},
   "source": [
    "## Plots IX\n",
    "### Scatter Plots\n",
    "__Use the `scatter()` function to draw scatter plots.   Two datasets need to be provided.  Rest is optional.__\n",
    "\n",
    "    color: Can be a list of colors or a single color\n",
    "    marker: '*', 'o', 'd', '>', etc."
   ]
  },
  {
   "cell_type": "code",
   "execution_count": null,
   "metadata": {},
   "outputs": [],
   "source": [
    "'''\n",
    "Use the scatter() function to draw scatter plots.\n",
    "'''\n",
    "import matplotlib.pyplot as plt \n",
    "\n",
    "# x-axis values \n",
    "temp = [14.2, 16.4, 11.9, 15.2, 18.5, 22.1, 19.4, 25.1, 23.4, 18.1, 22.6, 17.2]\n",
    "\n",
    "# y-axis values \n",
    "sales= [215, 325, 185, 332, 406, 522, 412, 614, 544, 421, 445, 408] \n",
    "\n",
    "# plotting points as a scatter plot \n",
    "plt.scatter(temp, sales, color= 'red', marker= \"d\") \n",
    "\n",
    "# x-axis label \n",
    "plt.xlabel('Temperature') \n",
    "# frequency label \n",
    "plt.ylabel('Sales (in \\$\\$)') \n",
    "# plot title \n",
    "plt.title('Ice cream Sales Vs Temperature!') \n",
    " \n",
    "plt.grid(True)  # Note the use of the grid() function to display a grid \n",
    "\n",
    "# function to show the plot \n",
    "plt.show() \n"
   ]
  }
 ],
 "metadata": {
  "kernelspec": {
   "display_name": "Python 3",
   "language": "python",
   "name": "python3"
  },
  "language_info": {
   "codemirror_mode": {
    "name": "ipython",
    "version": 3
   },
   "file_extension": ".py",
   "mimetype": "text/x-python",
   "name": "python",
   "nbconvert_exporter": "python",
   "pygments_lexer": "ipython3",
   "version": "3.7.6"
  }
 },
 "nbformat": 4,
 "nbformat_minor": 2
}
