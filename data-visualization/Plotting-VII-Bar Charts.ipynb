{
 "cells": [
  {
   "cell_type": "markdown",
   "metadata": {
    "collapsed": true
   },
   "source": [
    "## Plots VII\n",
    "### Bar Charts\n",
    "__Bar charts are used to display values (like counts or statistical summaries) associated with categorical data.  The height of each bar is proportional to the value being represented.__\n",
    "\n",
    "__This notebook demonstrates the use of the `bar()` function in the pyplot module to draw bar charts.  The only two required arguments to the `bar()` function are the data values for the x-axis and the y-axis. There are a number of other arguments like tick_label, width, color, etc., shown below, that are all optional and are used to customize the appearance of the graph.__\n",
    "-    color: You can provide a list of multiple colors for the color option. If the number of colors is fewer than the number of bars, the colors are repeated.  If the number of colors are more than the number of bars, the extra colors will be ignored.\n",
    "-    tick_label: If this option is omitted, the categorical values of the bars will be treated as the labels for the x-axis\n",
    "-    width:      This specifies the width of the bars and should be a number between 0 and 1\n",
    "\n"
   ]
  },
  {
   "cell_type": "code",
   "execution_count": null,
   "metadata": {},
   "outputs": [],
   "source": [
    "import matplotlib.pyplot as plt \n",
    "\n",
    "# x-coordinates of left sides of bars \n",
    "years = [1989, 1990, 1991, 1992, 1993] \n",
    "\n",
    "# heights of bars \n",
    "height = [10, 12, 18, 25, 42] \n",
    "\n",
    "# labels for bars. If this option is omitted, the categorical values of the bars will be treated as the labels for the x-axis\n",
    "t_label = ['1', '2', '3', '4', '5'] \n",
    "\n",
    "# plotting a bar chart \n",
    "#plt.bar(years, height, width =0.8, color = ['cornflowerblue', 'yellow']) \n",
    "plt.bar(years, height, tick_label=t_label, width =0.8, color = ['cornflowerblue', 'yellow']) \n",
    "\n",
    "# Naming the x-axis \n",
    "plt.xlabel('Years') \n",
    "\n",
    "# Naming the y-axis \n",
    "plt.ylabel('Profit (million \\$\\$)') \n",
    "\n",
    "# plot title \n",
    "plt.title('A Simple Bar Chart!') \n",
    "\n",
    "# function to show the plot \n",
    "plt.show() \n"
   ]
  }
 ],
 "metadata": {
  "kernelspec": {
   "display_name": "Python 3",
   "language": "python",
   "name": "python3"
  },
  "language_info": {
   "codemirror_mode": {
    "name": "ipython",
    "version": 3
   },
   "file_extension": ".py",
   "mimetype": "text/x-python",
   "name": "python",
   "nbconvert_exporter": "python",
   "pygments_lexer": "ipython3",
   "version": "3.7.6"
  }
 },
 "nbformat": 4,
 "nbformat_minor": 2
}
