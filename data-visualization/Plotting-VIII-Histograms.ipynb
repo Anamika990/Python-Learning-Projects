{
 "cells": [
  {
   "cell_type": "markdown",
   "metadata": {},
   "source": [
    "## Plots - VIII\n",
    "### Histograms\n",
    "__A histogram is used to graphically describe the frequency distribution of a continuous variable.  We use the `hist()` function to plot histograms. The x axis values have to be provided.  This is the only required argument.  However, to make the graph look nice, we can  provide other arguments, like the number of bins desired, the range for the x-axis values, the color, etc.__\n",
    "\n",
    "    range: range of values that need to be plotted\n",
    "    bins: the number of bars that you want to be displayed\n",
    "    color: specify just a single color for the bars\n",
    "    rwidth: width of the bar as a fraction of the width of the bin\n",
    "    histtype: can be one of {'bar', 'barstacked', 'step', 'stepfilled'}.  Default is 'bar'"
   ]
  },
  {
   "cell_type": "code",
   "execution_count": null,
   "metadata": {},
   "outputs": [],
   "source": [
    "\n",
    "import matplotlib.pyplot as plt \n",
    "\n",
    "# frequencies \n",
    "ages = [2,5,70,40,30,45,50,45,43,40,44,60,7,13,57,18,90,77,32,21,20,40] \n",
    "\n",
    "# setting the ranges and no. of intervals \n",
    "range = (0, 100) \n",
    "bins = 10\n",
    "\n",
    "# plotting a histogram \n",
    "plt.hist(ages, bins, range,color = 'cornflowerblue', histtype = 'bar', rwidth = 0.8) \n",
    "\n",
    "# x-axis label \n",
    "plt.xlabel('age') \n",
    "\n",
    "# frequency label \n",
    "plt.ylabel('No. of people') \n",
    "\n",
    "# plot title \n",
    "plt.title('My histogram') \n",
    "\n",
    "# function to show the plot \n",
    "plt.show() \n"
   ]
  }
 ],
 "metadata": {
  "kernelspec": {
   "display_name": "Python 3",
   "language": "python",
   "name": "python3"
  },
  "language_info": {
   "codemirror_mode": {
    "name": "ipython",
    "version": 3
   },
   "file_extension": ".py",
   "mimetype": "text/x-python",
   "name": "python",
   "nbconvert_exporter": "python",
   "pygments_lexer": "ipython3",
   "version": "3.7.6"
  }
 },
 "nbformat": 4,
 "nbformat_minor": 2
}
