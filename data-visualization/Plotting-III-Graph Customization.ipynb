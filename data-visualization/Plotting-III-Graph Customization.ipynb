{
 "cells": [
  {
   "cell_type": "markdown",
   "metadata": {
    "collapsed": true
   },
   "source": [
    "## Plots III\n",
    "### Graph customizations\n",
    "\n",
    "__The customizations are added as arguments to the plot`()` function:__\n",
    "1. color - depicts the color of the graph\n",
    "2. linestyle can be 'dashed', 'dotted', 'solid', etc.\n",
    "3. linewidth sets the width of the line\n",
    "4. The marker argument is related to how the point on the line will be marked\n",
    "5. Use the markerface color argument if you want the marker to have a different color from the line\n",
    "6. Finally, the markersize specifies how big or small you want the marker to be\n",
    "\n",
    "__Refer to https://matplotlib.org/api/_as_gen/matplotlib.pyplot.plot.html#matplotlib.pyplot.plot  for more details about the options__\n",
    "\n"
   ]
  },
  {
   "cell_type": "code",
   "execution_count": null,
   "metadata": {},
   "outputs": [],
   "source": [
    "import matplotlib.pyplot as plt\n",
    "\n",
    "years = ['1983', '1984', '1985', '1986', '1987'] \n",
    "total_populations = [8939007, 8954518, 8960387, 8956741, 8943721]\n",
    "\n",
    "plt.plot(years,total_populations, color='red', linestyle='-.', linewidth=2, marker='d',markerfacecolor='blue', markersize=10)\n",
    "plt.title(\"Year vs Population in Bulgaria - With some Customizations\") \n",
    "plt.xlabel(\"Year\") \n",
    "plt.ylabel(\"Total Population\") \n",
    "plt.show() "
   ]
  },
  {
   "cell_type": "markdown",
   "metadata": {},
   "source": [
    "__Using a format string enables us to concisely combine the color, marker, and linestyle options in a single string using the order shown below.__\n",
    "\n",
    "`fmt = '[color][marker][line]'`\n",
    "\n",
    "__Refer to https://matplotlib.org/api/_as_gen/matplotlib.pyplot.plot.html#matplotlib.pyplot.plot for more details.\n",
    "The example below renders the same graph as the one above using a format string.__"
   ]
  },
  {
   "cell_type": "code",
   "execution_count": null,
   "metadata": {},
   "outputs": [],
   "source": [
    "'''\n",
    "Using a format string to render the same graph\n",
    "'''\n",
    "import matplotlib.pyplot as plt\n",
    "\n",
    "years = ['1983', '1984', '1985', '1986', '1987'] \n",
    "total_populations = [8939007, 8954518, 8960387, 8956741, 8943721]\n",
    "\n",
    "plt.plot(years,total_populations, 'rd-.', linewidth=2, markerfacecolor='blue', markersize=10)\n",
    "plt.title(\"Year vs Population in Bulgaria - With some Customizations\") \n",
    "plt.xlabel(\"Year\") \n",
    "plt.ylabel(\"Total Population\") \n",
    "plt.show() "
   ]
  }
 ],
 "metadata": {
  "kernelspec": {
   "display_name": "Python 3",
   "language": "python",
   "name": "python3"
  },
  "language_info": {
   "codemirror_mode": {
    "name": "ipython",
    "version": 3
   },
   "file_extension": ".py",
   "mimetype": "text/x-python",
   "name": "python",
   "nbconvert_exporter": "python",
   "pygments_lexer": "ipython3",
   "version": "3.7.6"
  }
 },
 "nbformat": 4,
 "nbformat_minor": 2
}
