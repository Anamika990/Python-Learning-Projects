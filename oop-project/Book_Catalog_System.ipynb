{
  "nbformat": 4,
  "nbformat_minor": 0,
  "metadata": {
    "colab": {
      "provenance": []
    },
    "kernelspec": {
      "name": "python3",
      "display_name": "Python 3"
    },
    "language_info": {
      "name": "python"
    }
  },
  "cells": [
    {
      "cell_type": "markdown",
      "source": [
        "Group 1, MIS 6382.503\n",
        "<br/>\n",
        "OOP Code\n",
        "<br/>\n",
        "  - Build and test OOP classes\n",
        "  - Load the given pickle file to retrieve the objects\n",
        "  - Generate a csv file"
      ],
      "metadata": {
        "id": "EMGWy-hmMv85"
      }
    },
    {
      "cell_type": "code",
      "source": [
        " # Creating Base Class: Book, attributes in constructor,  __str__ method to return attributes\n",
        " # Coverd Points(1, 2, 3)\n",
        "\n",
        "class Book:\n",
        "    def __init__(self, date, title, genre, type, rating, price, average_reading_time):\n",
        "        self.date = date\n",
        "        self.title = title\n",
        "        self.genre = genre\n",
        "        self.type = type\n",
        "        self.rating = rating\n",
        "        self.price = price\n",
        "        self.average_reading_time = average_reading_time\n",
        "        self.unique_id = id(self)\n",
        "\n",
        "    def __str__(self):\n",
        "        return f\"{self.unique_id},{self.date},{self.title},{self.genre},{self.type},{self.rating},{self.price},{self.average_reading_time}\"\n"
      ],
      "metadata": {
        "id": "Ig7qA0lzO8Rc"
      },
      "execution_count": 2,
      "outputs": []
    },
    {
      "cell_type": "code",
      "source": [
        "# Subclasses: FictionBook and NonFictionBook\n",
        "# Coverd Points(4, 5)\n",
        "\n",
        "class FictionBook(Book):\n",
        "    def __init__(self, date, title, genre, rating, price, average_reading_time):\n",
        "        super().__init__(date, title, genre, \"Fiction\", rating, price, average_reading_time)\n",
        "\n",
        "class NonFictionBook(Book):\n",
        "    def __init__(self, date, title, genre, rating, price, average_reading_time):\n",
        "        super().__init__(date, title, genre, \"Non-Fiction\", rating, price, average_reading_time)\n"
      ],
      "metadata": {
        "id": "_ugrBPv69rj8"
      },
      "execution_count": 3,
      "outputs": []
    },
    {
      "cell_type": "code",
      "source": [
        "\"\"\"Specialized Subclasses:\n",
        "MysteryBook inherits from FictionBook\n",
        "ScienceBook, BiographyBook inherit from NonFictionBook\"\"\"\n",
        "# Coverd Points(6, 7)\n",
        "\n",
        "class MysteryBook(FictionBook):\n",
        "    def __init__(self, date, title, rating, price, average_reading_time):\n",
        "        super().__init__(date, title, \"MysteryBook\", rating, price, average_reading_time)\n",
        "\n",
        "class ScienceBook(NonFictionBook):\n",
        "    def __init__(self, date, title, rating, price, average_reading_time):\n",
        "        super().__init__(date, title, \"ScienceBook\", rating, price, average_reading_time)\n",
        "\n",
        "class BiographyBook(NonFictionBook):\n",
        "    def __init__(self, date, title, rating, price, average_reading_time):\n",
        "        super().__init__(date, title, \"BiographyBook\", rating, price, average_reading_time)\n"
      ],
      "metadata": {
        "id": "4R6g54Rh9r1y"
      },
      "execution_count": 4,
      "outputs": []
    },
    {
      "cell_type": "code",
      "source": [
        "# Coverd Pointn8\n",
        "\n",
        "SciBook = ScienceBook(\"2024-10-16\", \"The Selfish Gene\", 3.0, 69.19, 38.00)\n",
        "print(str(SciBook))"
      ],
      "metadata": {
        "colab": {
          "base_uri": "https://localhost:8080/"
        },
        "id": "2yBf5F7G9sB5",
        "outputId": "bf88bef9-2a61-476e-d905-d3b66792bb50"
      },
      "execution_count": 7,
      "outputs": [
        {
          "output_type": "stream",
          "name": "stdout",
          "text": [
            "138967507894992,2024-10-16,The Selfish Gene,ScienceBook,Non-Fiction,3.0,69.19,38.0\n"
          ]
        }
      ]
    },
    {
      "cell_type": "markdown",
      "source": [
        "Loading the Pickle File and Writing CSV\n",
        "<br/>\n",
        "  - Show how the data is read, parsed, cleaned, and prepared\n",
        "  - Include image of the visualization"
      ],
      "metadata": {
        "id": "u-n9GupeEFOj"
      }
    },
    {
      "cell_type": "code",
      "source": [
        "import pickle\n",
        "\n",
        "with open('file.dat', 'rb') as f:\n",
        "    objects = pickle.load(f)\n",
        "\n",
        "with open('data.csv', 'w') as f:\n",
        "    f.write(\"unique_id,date,title,genre,type,rating,price,average_reading_time\\n\")\n",
        "    for obj in objects:\n",
        "        f.write(str(obj) + '\\n')\n"
      ],
      "metadata": {
        "id": "ZDMrzUogD8Au"
      },
      "execution_count": null,
      "outputs": []
    },
    {
      "cell_type": "markdown",
      "source": [
        "Visualization\n",
        "<br/>\n",
        "  - Show how the data is read, parsed, cleaned, and prepared\n",
        "  - Include image of the visualization"
      ],
      "metadata": {
        "id": "boGJhVJUNQio"
      }
    },
    {
      "cell_type": "code",
      "source": [
        "import matplotlib.pyplot as plt\n"
      ],
      "metadata": {
        "id": "gOpmnOJ2Nbbm"
      },
      "execution_count": null,
      "outputs": []
    },
    {
      "cell_type": "code",
      "source": [],
      "metadata": {
        "id": "jhnVXBTM9Y7c"
      },
      "execution_count": null,
      "outputs": []
    }
  ]
}